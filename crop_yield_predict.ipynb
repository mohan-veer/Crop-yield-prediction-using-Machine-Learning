{
 "cells": [
  {
   "cell_type": "markdown",
   "metadata": {},
   "source": [
    "# Crop Yield Prediction Using Random Forest, Gradient Boosting and Decision Tree Regressor"
   ]
  },
  {
   "cell_type": "code",
   "execution_count": 4,
   "metadata": {},
   "outputs": [],
   "source": [
    "import numpy as np\n",
    "import pandas as pd\n",
    "import category_encoders as ce                       # converting or encoding the NON-Numneric (or) String attributes\n",
    "from sklearn.model_selection import train_test_split # splitting the data\n",
    "from sklearn.impute import SimpleImputer             # for missing values\n",
    "from sklearn.metrics import r2_score                 # accuracy calculation\n",
    "\n"
   ]
  },
  {
   "cell_type": "markdown",
   "metadata": {},
   "source": [
    "## Datasets used\n",
    "* Two datasets are considered for the model - crop yield prediction\n",
    "* \"apy.csv\" - This is the crop data set consisting of features\n",
    " * State_Name\n",
    " * District_Name\n",
    " * Season\n",
    " * Crop_year\n",
    " * Crop\n",
    " * Area\n",
    " * Production\n",
    "* \"rainfall.csv\" - This is the rainfall data set from which a new feature called \"Rainfall\" is added to \"apy.csv\" "
   ]
  },
  {
   "cell_type": "code",
   "execution_count": 5,
   "metadata": {},
   "outputs": [
    {
     "name": "stdout",
     "output_type": "stream",
     "text": [
      "['Andaman and Nicobar Islands' 'Andhra Pradesh' 'Arunachal Pradesh'\n",
      " 'Assam' 'Bihar' 'Chandigarh' 'Chhattisgarh' 'Dadra and Nagar Haveli'\n",
      " 'Goa' 'Gujarat' 'Haryana' 'Himachal Pradesh' 'Jammu and Kashmir '\n",
      " 'Jharkhand' 'Karnataka' 'Kerala' 'Madhya Pradesh' 'Maharashtra' 'Manipur'\n",
      " 'Meghalaya' 'Mizoram' 'Nagaland' 'Odisha' 'Puducherry' 'Punjab'\n",
      " 'Rajasthan' 'Sikkim' 'Tamil Nadu' 'Telangana ' 'Tripura' 'Uttar Pradesh'\n",
      " 'Uttarakhand' 'West Bengal']\n",
      "['Kharif     ' 'Whole Year ' 'Autumn     ' 'Rabi       ' 'Summer     '\n",
      " 'Winter     ']\n",
      "Index(['State_Name', 'District_Name', 'Crop_Year', 'Season', 'Crop', 'Area',\n",
      "       'Production'],\n",
      "      dtype='object')\n"
     ]
    }
   ],
   "source": [
    "data_crops = pd.read_csv(\"apy.csv\")\n",
    "data_crops\n",
    "states_data = data_crops.State_Name.unique()\n",
    "print(states_data)\n",
    "print(data_crops.Season.unique())\n",
    "print(data_crops.columns)"
   ]
  },
  {
   "cell_type": "code",
   "execution_count": 6,
   "metadata": {},
   "outputs": [
    {
     "name": "stdout",
     "output_type": "stream",
     "text": [
      "33\n",
      "646\n",
      "6\n",
      "124\n"
     ]
    }
   ],
   "source": [
    "print(len(data_crops['State_Name'].unique()))  \n",
    "print(len(data_crops['District_Name'].unique()))\n",
    "print(len(data_crops['Season'].unique()))\n",
    "print(len(data_crops['Crop'].unique()))"
   ]
  },
  {
   "cell_type": "code",
   "execution_count": 7,
   "metadata": {},
   "outputs": [
    {
     "name": "stdout",
     "output_type": "stream",
     "text": [
      "                    SUBDIVISION  YEAR   JAN    FEB   MAR    APR    MAY    JUN  \\\n",
      "0     ANDAMAN & NICOBAR ISLANDS  1901  49.2   87.1  29.2    2.3  528.8  517.5   \n",
      "1     ANDAMAN & NICOBAR ISLANDS  1902   0.0  159.8  12.2    0.0  446.1  537.1   \n",
      "2     ANDAMAN & NICOBAR ISLANDS  1903  12.7  144.0   0.0    1.0  235.1  479.9   \n",
      "3     ANDAMAN & NICOBAR ISLANDS  1904   9.4   14.7   0.0  202.4  304.5  495.1   \n",
      "4     ANDAMAN & NICOBAR ISLANDS  1905   1.3    0.0   3.3   26.9  279.5  628.7   \n",
      "...                         ...   ...   ...    ...   ...    ...    ...    ...   \n",
      "4111                LAKSHADWEEP  2011   5.1    2.8   3.1   85.9  107.2  153.6   \n",
      "4112                LAKSHADWEEP  2012  19.2    0.1   1.6   76.8   21.2  327.0   \n",
      "4113                LAKSHADWEEP  2013  26.2   34.4  37.5    5.3   88.3  426.2   \n",
      "4114                LAKSHADWEEP  2014  53.2   16.1   4.4   14.9   57.4  244.1   \n",
      "4115                LAKSHADWEEP  2015   2.2    0.5   3.7   87.1  133.1  296.6   \n",
      "\n",
      "        JUL    AUG    SEP    OCT    NOV    DEC  ANNUAL  Jan-Feb  Mar-May  \\\n",
      "0     365.1  481.1  332.6  388.5  558.2   33.6  3373.2    136.3    560.3   \n",
      "1     228.9  753.7  666.2  197.2  359.0  160.5  3520.7    159.8    458.3   \n",
      "2     728.4  326.7  339.0  181.2  284.4  225.0  2957.4    156.7    236.1   \n",
      "3     502.0  160.1  820.4  222.2  308.7   40.1  3079.6     24.1    506.9   \n",
      "4     368.7  330.5  297.0  260.7   25.4  344.7  2566.7      1.3    309.7   \n",
      "...     ...    ...    ...    ...    ...    ...     ...      ...      ...   \n",
      "4111  350.2  254.0  255.2  117.4  184.3   14.9  1533.7      7.9    196.2   \n",
      "4112  231.5  381.2  179.8  145.9   12.4    8.8  1405.5     19.3     99.6   \n",
      "4113  296.4  154.4  180.0   72.8   78.1   26.7  1426.3     60.6    131.1   \n",
      "4114  116.1  466.1  132.2  169.2   59.0   62.3  1395.0     69.3     76.7   \n",
      "4115  257.5  146.4  160.4  165.4  231.0  159.0  1642.9      2.7    223.9   \n",
      "\n",
      "      Jun-Sep  Oct-Dec  \n",
      "0      1696.3    980.3  \n",
      "1      2185.9    716.7  \n",
      "2      1874.0    690.6  \n",
      "3      1977.6    571.0  \n",
      "4      1624.9    630.8  \n",
      "...       ...      ...  \n",
      "4111   1013.0    316.6  \n",
      "4112   1119.5    167.1  \n",
      "4113   1057.0    177.6  \n",
      "4114    958.5    290.5  \n",
      "4115    860.9    555.4  \n",
      "\n",
      "[4116 rows x 19 columns]\n",
      "['ANDAMAN & NICOBAR ISLANDS' 'ARUNACHAL PRADESH' 'ASSAM & MEGHALAYA'\n",
      " 'NAGA MANI MIZO TRIPURA' 'SUB HIMALAYAN WEST BENGAL & SIKKIM'\n",
      " 'GANGETIC WEST BENGAL' 'ORISSA' 'JHARKHAND' 'BIHAR' 'EAST UTTAR PRADESH'\n",
      " 'WEST UTTAR PRADESH' 'UTTARAKHAND' 'HARYANA DELHI & CHANDIGARH' 'PUNJAB'\n",
      " 'HIMACHAL PRADESH' 'JAMMU & KASHMIR' 'WEST RAJASTHAN' 'EAST RAJASTHAN'\n",
      " 'WEST MADHYA PRADESH' 'EAST MADHYA PRADESH' 'GUJARAT REGION'\n",
      " 'SAURASHTRA & KUTCH' 'KONKAN & GOA' 'MADHYA MAHARASHTRA' 'MATATHWADA'\n",
      " 'VIDARBHA' 'CHHATTISGARH' 'COASTAL ANDHRA PRADESH' 'TELANGANA'\n",
      " 'RAYALSEEMA' 'TAMIL NADU' 'COASTAL KARNATAKA' 'NORTH INTERIOR KARNATAKA'\n",
      " 'SOUTH INTERIOR KARNATAKA' 'KERALA' 'LAKSHADWEEP']\n"
     ]
    }
   ],
   "source": [
    "rainfall_data = pd.read_csv(\"rainfall.csv\")\n",
    "print(rainfall_data)\n",
    "print(rainfall_data.SUBDIVISION.unique())"
   ]
  },
  {
   "cell_type": "markdown",
   "metadata": {},
   "source": [
    "## Consistency\n",
    "\n",
    "* **To create a new feature \"Rainfall\" which is the sum of rainfall in the months belonging to a particular season in which the crop is grown.**\n",
    "* **For creating the feature a mapping is used for extracting the relevant rainfall value from \"rainfall.csv\" for each example in \"apy.csv\"**\n",
    "\n"
   ]
  },
  {
   "cell_type": "code",
   "execution_count": 8,
   "metadata": {},
   "outputs": [
    {
     "name": "stdout",
     "output_type": "stream",
     "text": [
      "['Andaman and Nicobar Islands', 'Andhra Pradesh', 'Assam', 'Chandigarh', 'Dadra and Nagar Haveli', 'Goa', 'Gujarat', 'Haryana', 'Jammu and Kashmir ', 'Karnataka', 'Madhya Pradesh', 'Maharashtra', 'Manipur', 'Meghalaya', 'Mizoram', 'Nagaland', 'Odisha', 'Puducherry', 'Rajasthan', 'Sikkim', 'Tripura', 'Uttar Pradesh', 'West Bengal']\n",
      "10\n",
      "['Arunachal Pradesh', 'Bihar', 'Chhattisgarh', 'Himachal Pradesh', 'Jharkhand', 'Kerala', 'Punjab', 'Tamil Nadu', 'Telangana ', 'Uttarakhand']\n"
     ]
    }
   ],
   "source": [
    "# state names are not exact as in the apy.csv dataset\n",
    "states = rainfall_data.SUBDIVISION.unique()\n",
    "found = []\n",
    "not_found_states = []\n",
    "for state in states_data:\n",
    "    if state.upper().strip() not in states:\n",
    "        not_found_states.append(state)\n",
    "    else:\n",
    "        found.append(state)\n",
    "        \n",
    "print(not_found_states)\n",
    "print(len(found))\n",
    "print(found)"
   ]
  },
  {
   "cell_type": "code",
   "execution_count": 9,
   "metadata": {},
   "outputs": [
    {
     "name": "stdout",
     "output_type": "stream",
     "text": [
      "['Andaman and Nicobar Islands' 'Arunachal Pradesh' 'ASSAM & MEGHALAYA'\n",
      " 'NAGA MANI MIZO TRIPURA' 'SUB HIMALAYAN WEST BENGAL & SIKKIM'\n",
      " 'GANGETIC WEST BENGAL' 'Odisha' 'Jharkhand' 'Bihar' 'EAST UTTAR PRADESH'\n",
      " 'WEST UTTAR PRADESH' 'Uttarakhand' 'HARYANA DELHI & CHANDIGARH' 'Punjab'\n",
      " 'Himachal Pradesh' 'Jammu and Kashmir' 'WEST RAJASTHAN' 'EAST RAJASTHAN'\n",
      " 'WEST MADHYA PRADESH' 'EAST MADHYA PRADESH' 'GUJARAT REGION'\n",
      " 'SAURASHTRA & KUTCH' 'KONKAN & GOA' 'MADHYA MAHARASHTRA' 'MATATHWADA'\n",
      " 'VIDARBHA' 'Chhattisgarh' 'COASTAL ANDHRA PRADESH' 'Telangana'\n",
      " 'RAYALSEEMA' 'Tamil Nadu' 'COASTAL KARNATAKA' 'NORTH INTERIOR KARNATAKA'\n",
      " 'SOUTH INTERIOR KARNATAKA' 'Kerala' 'LAKSHADWEEP']\n"
     ]
    }
   ],
   "source": [
    "# changing few strings for easy matching\n",
    "\n",
    "rainfall_data[\"SUBDIVISION\"] = rainfall_data[\"SUBDIVISION\"].replace(\"ANDAMAN & NICOBAR ISLANDS\",\"Andaman and Nicobar Islands\")\n",
    "rainfall_data[\"SUBDIVISION\"] = rainfall_data[\"SUBDIVISION\"].replace(\"JAMMU & KASHMIR\",\"Jammu and Kashmir\")\n",
    "rainfall_data[\"SUBDIVISION\"] = rainfall_data[\"SUBDIVISION\"].replace(\"ORISSA\",\"Odisha\")\n",
    "\n",
    "# changing the state names \n",
    "for state in found:\n",
    "    state_rainfall = state.upper().strip()\n",
    "    state = state.strip()\n",
    "    rainfall_data[\"SUBDIVISION\"] = rainfall_data[\"SUBDIVISION\"].replace(state_rainfall,state)\n",
    "    \n",
    "print(rainfall_data.SUBDIVISION.unique())\n",
    "    "
   ]
  },
  {
   "cell_type": "markdown",
   "metadata": {},
   "source": [
    "## Defining a function to make the rainfall data appropriate with complete STATE NAME\n",
    "### example: \n",
    ">* **Karnataka = Coastal_karnataka + North karnataka + south Karnataka**\n",
    ">* **Uttar Pradesh = East Uttar pradesh + West uttar pradesh**\n",
    "\n"
   ]
  },
  {
   "cell_type": "code",
   "execution_count": 10,
   "metadata": {},
   "outputs": [
    {
     "name": "stdout",
     "output_type": "stream",
     "text": [
      "UTTAR PRADESH\n",
      "\n",
      "\n",
      "       SUBDIVISION  YEAR    JAN    FEB    MAR   APR   MAY    JUN    JUL  \\\n",
      "0    Uttar Pradesh  1901  114.0   56.9   17.7   1.8  19.2   45.6  428.4   \n",
      "1    Uttar Pradesh  1902   10.7    6.9    3.0   6.8  28.6   87.0  737.4   \n",
      "2    Uttar Pradesh  1903   21.6    0.8    2.5   0.7  23.5  104.3  260.7   \n",
      "3    Uttar Pradesh  1904   13.6    3.5   38.0   0.8  53.5  216.5  718.2   \n",
      "4    Uttar Pradesh  1905   49.1   50.2   34.8   9.0  22.5   36.2  442.2   \n",
      "..             ...   ...    ...    ...    ...   ...   ...    ...    ...   \n",
      "110  Uttar Pradesh  2011    3.1   13.1    5.5   5.7  61.8  339.7  413.8   \n",
      "111  Uttar Pradesh  2012   34.8    1.3    4.8   7.5   0.5   22.5  379.3   \n",
      "112  Uttar Pradesh  2013   26.5  129.1    6.2  10.3   3.2  500.3  463.9   \n",
      "113  Uttar Pradesh  2014   95.7   55.2   38.0   7.0  21.7   69.8  376.1   \n",
      "114  Uttar Pradesh  2015   61.6   11.3  115.0  44.2  16.7  167.3  373.2   \n",
      "\n",
      "       AUG    SEP    OCT   NOV   DEC  ANNUAL  Jan-Feb  Mar-May  Jun-Sep  \\\n",
      "0    659.9  283.1   12.5   0.1  10.0  1649.1    170.8     38.7   1417.0   \n",
      "1    336.0  400.3   22.8   2.1   0.2  1641.8     17.5     38.6   1560.7   \n",
      "2    699.3  409.1  502.0   0.0   0.4  2024.8     22.3     26.7   1473.4   \n",
      "3    639.9  192.1   53.3  32.7  54.5  2016.4     17.0     92.3   1766.6   \n",
      "4    411.2  261.7    3.5   0.0   4.5  1325.1     99.5     66.4   1151.3   \n",
      "..     ...    ...    ...   ...   ...     ...      ...      ...      ...   \n",
      "110  464.4  248.1    1.3   0.5   1.5  1558.6     16.2     73.0   1466.1   \n",
      "111  305.1  232.2    1.2   0.4   2.7   992.3     36.0     12.8    939.1   \n",
      "112  533.2  130.4  158.6   2.2  10.0  1974.2    155.7     19.8   1627.8   \n",
      "113  219.1  191.4   89.3   0.0  24.7  1188.1    151.0     66.7    856.5   \n",
      "114  319.3   48.4   18.7   2.5   7.9  1186.0     72.9    175.9    908.1   \n",
      "\n",
      "     Oct-Dec  \n",
      "0       22.5  \n",
      "1       25.1  \n",
      "2      502.3  \n",
      "3      140.5  \n",
      "4        8.0  \n",
      "..       ...  \n",
      "110      3.3  \n",
      "111      4.5  \n",
      "112    170.8  \n",
      "113    113.9  \n",
      "114     29.1  \n",
      "\n",
      "[115 rows x 19 columns]\n"
     ]
    }
   ],
   "source": [
    "def getting_values(states_information):\n",
    "    state_value = []\n",
    "    result = []\n",
    "    for state in states_information:\n",
    "        temp = rainfall_data.loc[rainfall_data[\"SUBDIVISION\"] == state]\n",
    "        state_value.append(temp)\n",
    "    for i in range(0,len(state_value)):\n",
    "        state_value[i] = state_value[i].drop([\"SUBDIVISION\"],axis='columns')\n",
    "        #working fine\n",
    "    for i in range(0,len(state_value)):\n",
    "        state_value[i] = state_value[i].reset_index(drop=True)\n",
    "        #working fine\n",
    "    years = state_value[0][\"YEAR\"]\n",
    "    \n",
    "    if(len(state_value)==2):\n",
    "        result = state_value[0].add(state_value[1],fill_value=None)\n",
    "    elif(len(state_value)==3):    \n",
    "        temp1  = state_value[0].add(state_value[1],fill_value=None)\n",
    "        result = temp1.add(state_value[2],fill_value=None)\n",
    "    elif(len(state_value)==4):\n",
    "        temp1 = state_value[0].add(state_value[1],fill_value=None)\n",
    "        temp2 = temp1.add(state_value[2],fill_value=None)\n",
    "        result = temp2.add(state_value[3],fill_value=None)\n",
    "    \n",
    "    result = result.drop([\"YEAR\"],axis='columns')\n",
    "    result.insert(0,\"YEAR\",years)\n",
    "    return result\n",
    "\n",
    "# UTTAR PRADESH\n",
    "states_up = ['EAST UTTAR PRADESH','WEST UTTAR PRADESH']\n",
    "uttar_pradesh = getting_values(states_up)\n",
    "uttar_pradesh.insert(0,\"SUBDIVISION\",\"Uttar Pradesh\")\n",
    "print(\"UTTAR PRADESH\\n\\n\")\n",
    "print(uttar_pradesh)\n"
   ]
  },
  {
   "cell_type": "code",
   "execution_count": 11,
   "metadata": {},
   "outputs": [
    {
     "name": "stdout",
     "output_type": "stream",
     "text": [
      "KARNATAKA\n",
      "\n",
      "\n",
      "    SUBDIVISION  YEAR   JAN   FEB   MAR    APR    MAY     JUN     JUL     AUG  \\\n",
      "0     Karnataka  1901  10.2  51.2  20.8  152.3  256.7  1187.4  1353.1   830.7   \n",
      "1     Karnataka  1902   5.1   0.8  11.9   75.3  186.7   901.4  1694.8   614.4   \n",
      "2     Karnataka  1903   4.5   0.0   1.2   22.6  381.3   769.0  1899.3   895.9   \n",
      "3     Karnataka  1904   3.6   0.8  18.5   78.2  284.2  1396.7  1358.7   587.3   \n",
      "4     Karnataka  1905   1.7  14.1  16.8   46.0  252.9   962.8   985.8   866.7   \n",
      "..          ...   ...   ...   ...   ...    ...    ...     ...     ...     ...   \n",
      "110   Karnataka  2011   7.4  23.4  28.3  187.5  179.6  1296.8  1433.7  1212.8   \n",
      "111   Karnataka  2012   NaN  23.1  13.6  211.4   88.0   792.7  1013.8  1369.6   \n",
      "112   Karnataka  2013   4.1  35.8  33.7   88.5  243.4  1428.6  1983.4   905.8   \n",
      "113   Karnataka  2014   0.4   8.8  48.8  113.6  405.4   664.2  1563.8  1580.8   \n",
      "114   Karnataka  2015   5.5   1.2  84.2  203.5  320.9  1043.6  1081.4   790.2   \n",
      "\n",
      "       SEP    OCT    NOV    DEC  ANNUAL  Jan-Feb  Mar-May  Jun-Sep  Oct-Dec  \n",
      "0    377.6  370.6  191.0   31.0  4832.9     61.5    429.9   3749.0    592.7  \n",
      "1    993.5  518.3  131.1  302.2  5435.4      5.9    273.8   4204.2    951.6  \n",
      "2    690.8  505.6  300.2   45.4  5515.8      4.5    404.9   4254.9    851.3  \n",
      "3    500.0  334.1    3.2    0.3  4565.5      4.4    380.8   3842.7    337.6  \n",
      "4    258.2  450.0   62.9    0.3  3917.9     15.7    315.7   3073.3    513.3  \n",
      "..     ...    ...    ...    ...     ...      ...      ...      ...      ...  \n",
      "110  725.4  397.0  143.9   15.2  5651.2     30.8    395.4   4668.7    556.2  \n",
      "111  561.8  263.1  197.1   12.7     NaN      NaN    312.8   3737.9    472.8  \n",
      "112  771.9  469.8   86.0   12.5  6063.3     39.8    365.6   5089.6    568.2  \n",
      "113  631.1  459.6   85.2   63.6  5625.4      9.2    568.0   4439.6    608.5  \n",
      "114  575.6  375.8  268.0   20.4  4770.4      6.7    608.6   3490.8    664.3  \n",
      "\n",
      "[115 rows x 19 columns]\n"
     ]
    }
   ],
   "source": [
    "# KARNATAKA\n",
    "states_karnataka = ['COASTAL KARNATAKA','NORTH INTERIOR KARNATAKA','SOUTH INTERIOR KARNATAKA']\n",
    "karnataka  = getting_values(states_karnataka)\n",
    "karnataka.insert(0,\"SUBDIVISION\",\"Karnataka\")\n",
    "print(\"KARNATAKA\\n\\n\")\n",
    "print(karnataka)\n",
    "\n"
   ]
  },
  {
   "cell_type": "code",
   "execution_count": 12,
   "metadata": {},
   "outputs": [
    {
     "name": "stdout",
     "output_type": "stream",
     "text": [
      "ANDHRA PRADESH \n",
      "\n",
      "\n",
      "        SUBDIVISION  YEAR   JAN    FEB   MAR    APR    MAY    JUN    JUL  \\\n",
      "0    Andhra Pradesh  1901  25.8  131.1   7.2   40.8  107.6  130.7  186.4   \n",
      "1    Andhra Pradesh  1902  12.0    0.2   4.5   34.9   74.4  146.2  185.8   \n",
      "2    Andhra Pradesh  1903  30.8   13.4   0.2    9.8  153.9  221.5  376.1   \n",
      "3    Andhra Pradesh  1904  16.1    0.0   7.1   10.1  195.1  147.6  195.3   \n",
      "4    Andhra Pradesh  1905   7.6   23.5  85.0   55.3  113.0  150.5  115.5   \n",
      "..              ...   ...   ...    ...   ...    ...    ...    ...    ...   \n",
      "110  Andhra Pradesh  2011   0.8   30.0   0.9   96.9  100.9  131.3  324.9   \n",
      "111  Andhra Pradesh  2012  40.3    0.0   5.2   56.7   78.1  142.4  361.6   \n",
      "112  Andhra Pradesh  2013   3.3   60.2  11.7   74.8   67.1  201.3  258.1   \n",
      "113  Andhra Pradesh  2014   0.6    1.9  21.6   11.1  159.6  112.0  220.5   \n",
      "114  Andhra Pradesh  2015   3.9    0.6  18.9  105.7   73.8  356.8  159.1   \n",
      "\n",
      "       AUG    SEP    OCT    NOV   DEC  ANNUAL  Jan-Feb  Mar-May  Jun-Sep  \\\n",
      "0    194.0  234.3  255.0  302.0  92.8  1707.8    156.9    155.6    745.3   \n",
      "1    384.4  386.2  450.5  139.3  63.5  1882.0     12.1    114.0   1102.6   \n",
      "2    398.6  436.2  254.4  463.3  96.1  2454.4     44.3    163.9   1432.4   \n",
      "3    137.1  201.5  352.4    4.4  26.8  1293.6     16.1    212.3    681.6   \n",
      "4    430.1  206.7  246.2   62.8   2.0  1498.6     31.1    253.4    903.0   \n",
      "..     ...    ...    ...    ...   ...     ...      ...      ...      ...   \n",
      "110  379.4  200.9  182.1  111.8  40.1  1599.9     30.7    198.8   1036.6   \n",
      "111  341.2  316.0  253.7  376.3  61.9  2033.4     40.3    140.1   1161.2   \n",
      "112  233.4  295.2  580.8   91.7   5.4  1883.1     63.6    153.7    988.0   \n",
      "113  292.9  225.9  300.2   61.5  19.2  1426.7      2.4    192.2    851.2   \n",
      "114  315.6  338.1  166.4  465.0  54.2  2058.0      4.4    198.3   1169.6   \n",
      "\n",
      "     Oct-Dec  \n",
      "0      649.9  \n",
      "1      653.3  \n",
      "2      813.8  \n",
      "3      383.6  \n",
      "4      311.0  \n",
      "..       ...  \n",
      "110    333.8  \n",
      "111    691.8  \n",
      "112    677.9  \n",
      "113    380.9  \n",
      "114    685.6  \n",
      "\n",
      "[115 rows x 19 columns]\n"
     ]
    }
   ],
   "source": [
    "# ANDHRA PRADESH\n",
    "states_andhra = ['COASTAL ANDHRA PRADESH','RAYALSEEMA']\n",
    "andhra_pradesh = getting_values(states_andhra)\n",
    "andhra_pradesh.insert(0,\"SUBDIVISION\",\"Andhra Pradesh\")\n",
    "print(\"ANDHRA PRADESH \\n\\n\")\n",
    "print(andhra_pradesh)\n",
    "            \n",
    "            "
   ]
  },
  {
   "cell_type": "code",
   "execution_count": 13,
   "metadata": {},
   "outputs": [
    {
     "name": "stdout",
     "output_type": "stream",
     "text": [
      "RAJASTHAN\n",
      "\n",
      "\n",
      "    SUBDIVISION  YEAR   JAN   FEB   MAR   APR   MAY    JUN    JUL    AUG  \\\n",
      "0     Rajasthan  1901  28.3   8.9   4.0   0.7  11.1   18.0  243.8  234.8   \n",
      "1     Rajasthan  1902   4.1   0.7   0.0   2.3  13.9   83.7  274.6  188.0   \n",
      "2     Rajasthan  1903   3.6   2.0   6.8   0.1  17.1   18.3  393.0  316.2   \n",
      "3     Rajasthan  1904   8.1   8.4  38.0   0.9  38.9   64.5  329.5  269.1   \n",
      "4     Rajasthan  1905  10.4  13.6   3.9   2.9   2.3   19.3  160.6   31.5   \n",
      "..          ...   ...   ...   ...   ...   ...   ...    ...    ...    ...   \n",
      "110   Rajasthan  2011   0.0  23.0   1.7   2.0  12.9  165.3  282.1  450.9   \n",
      "111   Rajasthan  2012   2.4   0.0   0.0  13.1  19.9   16.5  210.9  531.7   \n",
      "112   Rajasthan  2013  10.0  43.5   4.6   6.3   2.7  128.2  423.5  416.7   \n",
      "113   Rajasthan  2014  29.2  12.2  11.1  15.7  31.4   37.3  291.4  330.6   \n",
      "114   Rajasthan  2015  13.5   1.0  86.2  41.1  19.0  149.6  532.2  203.3   \n",
      "\n",
      "       SEP   OCT  NOV   DEC  ANNUAL  Jan-Feb  Mar-May  Jun-Sep  Oct-Dec  \n",
      "0      8.5  11.9  0.0   1.4   571.4     37.2     15.7    505.1     13.3  \n",
      "1    187.4  16.2  0.0   2.8   773.9      4.8     16.2    733.7     19.0  \n",
      "2    217.8  17.9  0.0   0.5   993.1      5.7     23.9    945.2     18.3  \n",
      "3     71.6   2.9  8.7  21.8   862.4     16.4     77.9    734.7     33.4  \n",
      "4    148.3   0.0  0.0   1.5   394.2     23.8      9.2    359.7      1.5  \n",
      "..     ...   ...  ...   ...     ...      ...      ...      ...      ...  \n",
      "110  282.7   0.1  0.0   0.0  1220.8     23.0     16.6   1181.0      0.1  \n",
      "111  223.3   2.4  0.0   0.7  1020.9      2.4     33.0    982.3      3.1  \n",
      "112  146.7  40.7  2.3   0.3  1225.5     53.5     13.5   1115.1     43.3  \n",
      "113  221.8   3.7  0.2   1.1   985.7     41.4     58.1    881.0      5.1  \n",
      "114   55.8   6.1  0.6   0.8  1109.1     14.4    146.3    941.0      7.5  \n",
      "\n",
      "[115 rows x 19 columns]\n"
     ]
    }
   ],
   "source": [
    "# RAJASTHAN\n",
    "states_rajasthan = ['WEST RAJASTHAN','EAST RAJASTHAN']\n",
    "rajasthan = getting_values(states_rajasthan)\n",
    "rajasthan.insert(0,\"SUBDIVISION\",\"Rajasthan\")\n",
    "print(\"RAJASTHAN\\n\\n\")\n",
    "print(rajasthan)"
   ]
  },
  {
   "cell_type": "code",
   "execution_count": 14,
   "metadata": {},
   "outputs": [
    {
     "name": "stdout",
     "output_type": "stream",
     "text": [
      "GUJARAT \n",
      "\n",
      "\n",
      "    SUBDIVISION  YEAR  JAN   FEB   MAR   APR   MAY    JUN    JUL    AUG  \\\n",
      "0       Gujarat  1901  6.1   0.0   0.7   1.8  10.2   69.4  328.0  267.9   \n",
      "1       Gujarat  1902  4.0   0.0   0.0   1.1   2.1   47.2  322.7  459.0   \n",
      "2       Gujarat  1903  0.8   0.1   3.1   0.0  15.4   40.6  790.8  298.1   \n",
      "3       Gujarat  1904  2.2  16.4  34.3   0.2   3.9   57.8  306.0   81.2   \n",
      "4       Gujarat  1905  1.6   1.7   1.7   0.7   0.0   26.5  922.8   50.2   \n",
      "..          ...   ...  ...   ...   ...   ...   ...    ...    ...    ...   \n",
      "110     Gujarat  2011  0.0   1.6   0.0   0.0   0.0   42.3  471.9  742.6   \n",
      "111     Gujarat  2012  0.1   0.0   0.0   0.2   0.1   56.8  212.9  264.8   \n",
      "112     Gujarat  2013  1.7   1.1   0.2  13.1   0.1  283.4  576.6  294.4   \n",
      "113     Gujarat  2014  6.0   0.1   0.3   1.5   3.4   28.9  445.2  257.4   \n",
      "114     Gujarat  2015  2.7   0.0  10.5   7.6   1.7  233.3  581.4   48.0   \n",
      "\n",
      "       SEP   OCT  NOV   DEC  ANNUAL  Jan-Feb  Mar-May  Jun-Sep  Oct-Dec  \n",
      "0     30.1  20.4  0.0   1.0   735.6      6.1     12.7    695.4     21.4  \n",
      "1    405.1   3.8  1.6  18.4  1265.0      4.0      3.1   1234.0     23.9  \n",
      "2    245.1  16.5  0.0   0.0  1410.4      0.8     18.4   1374.6     16.5  \n",
      "3    166.9   6.4  1.8   1.2   678.2     18.4     38.4    612.0      9.4  \n",
      "4     94.1   1.8  0.2   0.1  1101.5      3.3      2.3   1093.6      2.2  \n",
      "..     ...   ...  ...   ...     ...      ...      ...      ...      ...  \n",
      "110  372.6   1.6  0.1   0.0  1633.0      1.6      0.0   1629.6      1.7  \n",
      "111  492.3   9.5  0.0   1.0  1037.8      0.1      0.2   1026.8     10.5  \n",
      "112  547.5  81.8  0.1   0.0  1800.4      2.8     13.4   1702.1     81.9  \n",
      "113  334.3   8.5  4.0   0.0  1089.6      6.1      5.2   1065.8     12.4  \n",
      "114  173.3   5.5  0.6   0.0  1064.6      2.7     19.9   1035.9      6.2  \n",
      "\n",
      "[115 rows x 19 columns]\n"
     ]
    }
   ],
   "source": [
    "# GUJARAT\n",
    "states_gujarat = ['GUJARAT REGION','SAURASHTRA & KUTCH']\n",
    "gujarat = getting_values(states_gujarat)\n",
    "gujarat.insert(0,\"SUBDIVISION\",\"Gujarat\")\n",
    "print(\"GUJARAT \\n\\n\")\n",
    "print(gujarat)\n"
   ]
  },
  {
   "cell_type": "code",
   "execution_count": 15,
   "metadata": {},
   "outputs": [
    {
     "name": "stdout",
     "output_type": "stream",
     "text": [
      "MADHYA PRADESH\n",
      "\n",
      "\n",
      "        SUBDIVISION  YEAR   JAN   FEB    MAR   APR   MAY    JUN    JUL    AUG  \\\n",
      "0    Madhya Pradesh  1901  74.3  43.9   21.5  13.5   8.3  102.2  596.4  939.1   \n",
      "1    Madhya Pradesh  1902  37.0  17.3    0.0   5.6   8.6   63.9  813.8  406.4   \n",
      "2    Madhya Pradesh  1903  10.9   2.9    0.3   0.9  59.8  118.1  566.3  627.8   \n",
      "3    Madhya Pradesh  1904   5.2  30.8   63.0   0.0  20.6  206.5  716.2  535.2   \n",
      "4    Madhya Pradesh  1905  19.4  12.4   15.4  13.1  13.2   70.5  618.7  380.9   \n",
      "..              ...   ...   ...   ...    ...   ...   ...    ...    ...    ...   \n",
      "110  Madhya Pradesh  2011   0.6   3.6    0.4   8.9   8.3  574.0  630.3  670.2   \n",
      "111  Madhya Pradesh  2012  45.6   0.7    0.6   2.0   4.3  116.0  838.1  692.9   \n",
      "112  Madhya Pradesh  2013   3.7  74.5   22.6  12.3   0.7  575.6  941.3  913.4   \n",
      "113  Madhya Pradesh  2014  57.7  84.1   22.4   6.5   3.9  122.4  620.8  442.8   \n",
      "114  Madhya Pradesh  2015  77.5  17.4  126.9  39.1   8.3  293.3  690.4  548.7   \n",
      "\n",
      "       SEP    OCT   NOV   DEC  ANNUAL  Jan-Feb  Mar-May  Jun-Sep  Oct-Dec  \n",
      "0    237.8   11.5   0.0   2.4  2050.9    118.1     43.4   1875.6     13.8  \n",
      "1    430.7   54.9  37.6  20.3  1895.9     54.3     14.2   1714.7    112.7  \n",
      "2    507.6  233.0   0.0   0.0  2127.7     13.8     61.0   1819.8    233.0  \n",
      "3    261.5   48.1   5.0  26.5  1918.6     36.0     83.6   1719.3     79.7  \n",
      "4    434.4    3.2   0.0   1.6  1582.5     31.8     41.6   1504.5      4.7  \n",
      "..     ...    ...   ...   ...     ...      ...      ...      ...      ...  \n",
      "110  441.5    1.3   0.0   0.0  2339.1      4.2     17.6   2315.9      1.3  \n",
      "111  366.9   14.8   3.8   2.7  2088.3     46.2      6.9   2013.9     21.3  \n",
      "112  176.9  192.9   0.8   3.4  2918.2     78.2     35.6   2607.3    197.1  \n",
      "113  332.2   63.4   4.9  28.7  1789.8    141.8     32.8   1518.2     97.0  \n",
      "114  127.2   49.2   1.5   1.9  1981.5     94.9    174.4   1659.6     52.7  \n",
      "\n",
      "[115 rows x 19 columns]\n"
     ]
    }
   ],
   "source": [
    "# MADHYA PRADESH\n",
    "states_mp = ['WEST MADHYA PRADESH','EAST MADHYA PRADESH']\n",
    "madhya_pradesh = getting_values(states_mp)\n",
    "madhya_pradesh.insert(0,\"SUBDIVISION\",\"Madhya Pradesh\")\n",
    "print(\"MADHYA PRADESH\\n\\n\")\n",
    "print(madhya_pradesh)"
   ]
  },
  {
   "cell_type": "code",
   "execution_count": 16,
   "metadata": {},
   "outputs": [
    {
     "name": "stdout",
     "output_type": "stream",
     "text": [
      "MAHARASTRA\n",
      "\n",
      "\n",
      "     SUBDIVISION  YEAR   JAN   FEB    MAR    APR    MAY     JUN     JUL  \\\n",
      "0    Maharashtra  1901  77.0  43.9   71.1  146.9   84.1  1176.6  1770.8   \n",
      "1    Maharashtra  1902  11.0   0.1    0.5   19.1   22.3   621.2  1546.1   \n",
      "2    Maharashtra  1903  15.4   4.8    0.2    7.4  374.4   782.4  2320.1   \n",
      "3    Maharashtra  1904   4.7   8.1   33.3    9.8   45.3  1318.5  1174.9   \n",
      "4    Maharashtra  1905   8.7  16.0   12.4   25.5   51.0   524.3  1372.7   \n",
      "..           ...   ...   ...   ...    ...    ...    ...     ...     ...   \n",
      "110  Maharashtra  2011   0.0   5.3    1.1   19.6    7.7  1207.4  2122.7   \n",
      "111  Maharashtra  2012   3.1   0.1    0.0    4.8    5.0   898.6  1663.1   \n",
      "112  Maharashtra  2013  10.0  33.1    7.3   16.5   31.4  1768.3  2619.2   \n",
      "113  Maharashtra  2014   7.0  43.2  154.8   22.7   62.1   375.9  2013.7   \n",
      "114  Maharashtra  2015  40.5   7.1  176.3   80.9   60.8  1313.9   802.8   \n",
      "\n",
      "        AUG     SEP    OCT    NOV    DEC  ANNUAL  Jan-Feb  Mar-May  Jun-Sep  \\\n",
      "0    1560.7   398.5  224.1    9.8    0.6  5563.9    120.8    302.1   4906.5   \n",
      "1     919.5  1207.5  225.6  183.7  194.5  4950.9     11.1     41.9   4294.2   \n",
      "2    1436.8   755.5  455.7   22.3    9.2  6184.2     20.3    381.9   5294.9   \n",
      "3     589.9   935.9  319.3    0.0    1.3  4440.9     12.8     88.3   4019.2   \n",
      "4     738.4   740.0  157.8   21.5    0.0  3668.3     24.7     88.9   3375.5   \n",
      "..      ...     ...    ...    ...    ...     ...      ...      ...      ...   \n",
      "110  1757.3   897.7  212.6    3.1    0.0  6234.5      5.3     28.4   5985.1   \n",
      "111  1367.9  1014.2  374.0   12.1    0.0  5342.6      3.2      9.8   4943.6   \n",
      "112  1107.6   836.8  434.9   13.5   15.9  6894.4     43.1     55.0   6332.0   \n",
      "113  1268.9   849.3  168.7   66.9   30.4  5063.5     50.2    239.7   4507.7   \n",
      "114   845.6   709.3  166.2   48.3    0.3  4252.5     47.7    318.0   3671.8   \n",
      "\n",
      "     Oct-Dec  \n",
      "0      234.4  \n",
      "1      603.9  \n",
      "2      487.2  \n",
      "3      320.6  \n",
      "4      179.2  \n",
      "..       ...  \n",
      "110    215.8  \n",
      "111    386.0  \n",
      "112    464.2  \n",
      "113    266.0  \n",
      "114    214.9  \n",
      "\n",
      "[115 rows x 19 columns]\n"
     ]
    }
   ],
   "source": [
    "# MAHARASTRA\n",
    "states_maharastra = ['MATATHWADA','MADHYA MAHARASHTRA','VIDARBHA','KONKAN & GOA']\n",
    "maharastra = getting_values(states_maharastra)\n",
    "maharastra.insert(0,\"SUBDIVISION\",\"Maharashtra\")\n",
    "print(\"MAHARASTRA\\n\\n\")\n",
    "print(maharastra)"
   ]
  },
  {
   "cell_type": "code",
   "execution_count": 17,
   "metadata": {},
   "outputs": [
    {
     "name": "stdout",
     "output_type": "stream",
     "text": [
      "WEST BENGAL \n",
      "\n",
      "\n",
      "     SUBDIVISION  YEAR   JAN   FEB    MAR    APR    MAY    JUN     JUL  \\\n",
      "0    West Bengal  1901  63.6  73.2   18.0   93.3  317.2  686.4   805.6   \n",
      "1    West Bengal  1902   1.2   1.9  131.3  229.9  432.9  680.1  1018.8   \n",
      "2    West Bengal  1903  23.0  33.3   56.9   49.2  242.1  742.9   611.1   \n",
      "3    West Bengal  1904   3.5  53.1   36.5  141.8  493.8  560.9   935.7   \n",
      "4    West Bengal  1905  42.9  80.8  136.6  189.3  447.4  595.7  1048.6   \n",
      "..           ...   ...   ...   ...    ...    ...    ...    ...     ...   \n",
      "110  West Bengal  2011  11.0  22.6  111.7  210.0  380.4  854.3   832.2   \n",
      "111  West Bengal  2012  56.0  29.2   49.9  217.5  246.6  750.8   999.5   \n",
      "112  West Bengal  2013   5.5  33.6   36.9  160.3  492.4  638.3   851.6   \n",
      "113  West Bengal  2014   1.1  68.8   57.6   49.8  433.0  736.8   683.3   \n",
      "114  West Bengal  2015  28.6  20.5   84.1  237.7  362.2  755.4  1026.4   \n",
      "\n",
      "        AUG     SEP    OCT    NOV   DEC  ANNUAL  Jan-Feb  Mar-May  Jun-Sep  \\\n",
      "0     776.8   556.2  106.6  101.3   2.6  3600.8    136.8    428.6   2825.0   \n",
      "1     868.6  1030.4  106.9   16.0   9.9  4528.1      3.1    794.2   3597.9   \n",
      "2     986.4   665.9  339.3    8.5   0.0  3758.8     56.4    348.3   3006.3   \n",
      "3     710.2   403.4  199.9   13.0   1.2  3553.0     56.5    672.1   2610.1   \n",
      "4    1300.2   608.7  195.2    2.7  23.9  4671.9    123.7    773.3   3553.2   \n",
      "..      ...     ...    ...    ...   ...     ...      ...      ...      ...   \n",
      "110   913.5   652.2   83.6   28.0   5.7  4105.2     33.6    702.0   3252.2   \n",
      "111   594.1   681.6  183.6   59.5  32.0  3900.2     85.2    514.0   3025.9   \n",
      "112   817.7   562.0  553.0   16.1   2.7  4170.2     39.2    689.7   2869.6   \n",
      "113   855.9   601.0   88.1    5.4   3.0  3584.0     70.0    540.4   2877.0   \n",
      "114   887.2   518.9   86.3   26.1  15.3  4048.9     49.1    684.1   3187.9   \n",
      "\n",
      "     Oct-Dec  \n",
      "0      210.5  \n",
      "1      133.0  \n",
      "2      347.8  \n",
      "3      214.1  \n",
      "4      221.9  \n",
      "..       ...  \n",
      "110    117.3  \n",
      "111    275.1  \n",
      "112    571.8  \n",
      "113     96.6  \n",
      "114    127.7  \n",
      "\n",
      "[115 rows x 19 columns]\n"
     ]
    }
   ],
   "source": [
    "# WEST BENGAL\n",
    "states_bengal = ['SUB HIMALAYAN WEST BENGAL & SIKKIM','GANGETIC WEST BENGAL']\n",
    "west_bengal = getting_values(states_bengal)\n",
    "west_bengal.insert(0,\"SUBDIVISION\",\"West Bengal\")\n",
    "print(\"WEST BENGAL \\n\\n\")\n",
    "print(west_bengal)"
   ]
  },
  {
   "cell_type": "code",
   "execution_count": 18,
   "metadata": {},
   "outputs": [
    {
     "name": "stdout",
     "output_type": "stream",
     "text": [
      "    SUBDIVISION  YEAR   JAN   FEB    MAR    APR    MAY    JUN    JUL    AUG  \\\n",
      "207       Assam  1901  27.1  19.5   30.6  223.0  207.0  524.9  430.6  464.1   \n",
      "208       Assam  1902   9.3  10.2  105.6  350.0  262.1  620.7  510.8  536.0   \n",
      "209       Assam  1903  19.9  25.4  103.6  140.6  206.6  607.4  362.7  551.9   \n",
      "210       Assam  1904  11.1  56.1   51.9  457.1  375.2  385.7  477.6  438.8   \n",
      "211       Assam  1905  19.9  16.9  137.9  213.0  275.5  521.7  439.1  649.1   \n",
      "..          ...   ...   ...   ...    ...    ...    ...    ...    ...    ...   \n",
      "317       Assam  2011  11.1  11.4  109.0   92.1  238.3  316.0  395.8  302.6   \n",
      "318       Assam  2012  15.2   6.9   28.8  279.1  185.8  729.7  444.3  289.2   \n",
      "319       Assam  2013   1.1   9.6   44.0  112.8  346.7  286.2  367.8  289.7   \n",
      "320       Assam  2014   2.0  28.3   29.3   51.5  351.1  426.4  374.4  484.6   \n",
      "321       Assam  2015  13.4  15.5   37.5  250.9  332.5  558.5  300.1  590.9   \n",
      "\n",
      "       SEP    OCT    NOV   DEC  ANNUAL  Jan-Feb  Mar-May  Jun-Sep  Oct-Dec  \n",
      "207  291.4  163.7  115.6   1.2  2498.6     46.6    460.5   1710.9    280.5  \n",
      "208  441.3   97.0    7.8   1.3  2952.1     19.4    717.6   2108.9    106.2  \n",
      "209  306.4  159.5   59.3   1.3  2544.7     45.4    450.8   1828.5    220.1  \n",
      "210  245.9  115.9   46.4   2.5  2664.1     67.1    884.2   1548.0    164.8  \n",
      "211  276.0  200.0   16.8  24.8  2790.6     36.8    626.3   1886.0    241.6  \n",
      "..     ...    ...    ...   ...     ...      ...      ...      ...      ...  \n",
      "317  221.6   30.2   11.9   3.5  1743.4     22.5    439.4   1236.0     45.6  \n",
      "318  411.6  199.4   17.1   2.3  2609.4     22.1    493.7   1874.8    218.8  \n",
      "319  229.3  126.3    1.0   2.0  1816.4     10.7    503.5   1172.9    129.3  \n",
      "320  420.2   35.0    3.0   0.4  2206.1     30.3    431.9   1705.5     38.5  \n",
      "321  279.9   62.6   14.0  15.2  2470.9     28.9    620.9   1729.3     91.8  \n",
      "\n",
      "[115 rows x 19 columns]\n",
      "    SUBDIVISION  YEAR   JAN   FEB    MAR    APR    MAY    JUN    JUL    AUG  \\\n",
      "322    Nagaland  1901  11.7  18.1   29.4  206.2  124.0  443.3  331.4  466.0   \n",
      "323    Nagaland  1902   4.8   0.5   36.3  297.8  215.5  480.1  392.4  312.8   \n",
      "324    Nagaland  1903   6.5  40.5  139.8   45.5  159.9  458.6  300.2  470.6   \n",
      "325    Nagaland  1904   2.3  46.9   47.5  290.3  230.5  455.3  423.5  423.6   \n",
      "326    Nagaland  1905   9.1  35.3  306.5  161.7  193.6  339.7  450.1  429.9   \n",
      "..          ...   ...   ...   ...    ...    ...    ...    ...    ...    ...   \n",
      "432    Nagaland  2011  12.6   3.6   51.4   81.1  334.9  374.2  313.3  367.6   \n",
      "433    Nagaland  2012  24.5  10.2   20.3  243.5  163.5  396.2  280.1  342.7   \n",
      "434    Nagaland  2013   0.2   5.7   19.7   60.3  348.9  206.6  255.9  291.3   \n",
      "435    Nagaland  2014   1.2  21.0   25.4   49.6  192.5  268.3  295.7  372.3   \n",
      "436    Nagaland  2015  14.4  14.2   21.6  253.5  198.3  283.9  413.6  334.2   \n",
      "\n",
      "       SEP    OCT   NOV   DEC  ANNUAL  Jan-Feb  Mar-May  Jun-Sep  Oct-Dec  \n",
      "322  304.1  166.7  67.4   0.0  2168.4     29.8    359.6   1544.8    234.2  \n",
      "323  318.7  102.4   8.9   4.7  2175.0      5.2    549.7   1504.0    116.0  \n",
      "324  366.1  166.4  76.7   0.1  2230.7     47.0    345.1   1595.4    243.2  \n",
      "325  375.8  128.9  90.0   5.0  2519.8     49.3    568.3   1678.2    224.0  \n",
      "326  320.1  246.4   8.0  27.1  2527.6     44.5    661.8   1539.8    281.5  \n",
      "..     ...    ...   ...   ...     ...      ...      ...      ...      ...  \n",
      "432  258.3   92.6   2.4   0.2  1892.1     16.1    467.4   1313.4     95.2  \n",
      "433  248.7  160.9  32.0   0.4  1922.9     34.7    427.3   1267.6    193.3  \n",
      "434  241.4  125.6   0.3   1.2  1557.2      5.9    428.9    995.2    127.1  \n",
      "435  300.9   69.6   3.3   0.1  1599.9     22.2    267.5   1237.2     73.0  \n",
      "436  255.9  118.7   3.9  10.0  1922.4     28.7    473.4   1287.7    132.6  \n",
      "\n",
      "[115 rows x 19 columns]\n",
      "    SUBDIVISION  YEAR   JAN   FEB    MAR    APR    MAY    JUN    JUL    AUG  \\\n",
      "322     Manipur  1901  11.7  18.1   29.4  206.2  124.0  443.3  331.4  466.0   \n",
      "323     Manipur  1902   4.8   0.5   36.3  297.8  215.5  480.1  392.4  312.8   \n",
      "324     Manipur  1903   6.5  40.5  139.8   45.5  159.9  458.6  300.2  470.6   \n",
      "325     Manipur  1904   2.3  46.9   47.5  290.3  230.5  455.3  423.5  423.6   \n",
      "326     Manipur  1905   9.1  35.3  306.5  161.7  193.6  339.7  450.1  429.9   \n",
      "..          ...   ...   ...   ...    ...    ...    ...    ...    ...    ...   \n",
      "432     Manipur  2011  12.6   3.6   51.4   81.1  334.9  374.2  313.3  367.6   \n",
      "433     Manipur  2012  24.5  10.2   20.3  243.5  163.5  396.2  280.1  342.7   \n",
      "434     Manipur  2013   0.2   5.7   19.7   60.3  348.9  206.6  255.9  291.3   \n",
      "435     Manipur  2014   1.2  21.0   25.4   49.6  192.5  268.3  295.7  372.3   \n",
      "436     Manipur  2015  14.4  14.2   21.6  253.5  198.3  283.9  413.6  334.2   \n",
      "\n",
      "       SEP    OCT   NOV   DEC  ANNUAL  Jan-Feb  Mar-May  Jun-Sep  Oct-Dec  \n",
      "322  304.1  166.7  67.4   0.0  2168.4     29.8    359.6   1544.8    234.2  \n",
      "323  318.7  102.4   8.9   4.7  2175.0      5.2    549.7   1504.0    116.0  \n",
      "324  366.1  166.4  76.7   0.1  2230.7     47.0    345.1   1595.4    243.2  \n",
      "325  375.8  128.9  90.0   5.0  2519.8     49.3    568.3   1678.2    224.0  \n",
      "326  320.1  246.4   8.0  27.1  2527.6     44.5    661.8   1539.8    281.5  \n",
      "..     ...    ...   ...   ...     ...      ...      ...      ...      ...  \n",
      "432  258.3   92.6   2.4   0.2  1892.1     16.1    467.4   1313.4     95.2  \n",
      "433  248.7  160.9  32.0   0.4  1922.9     34.7    427.3   1267.6    193.3  \n",
      "434  241.4  125.6   0.3   1.2  1557.2      5.9    428.9    995.2    127.1  \n",
      "435  300.9   69.6   3.3   0.1  1599.9     22.2    267.5   1237.2     73.0  \n",
      "436  255.9  118.7   3.9  10.0  1922.4     28.7    473.4   1287.7    132.6  \n",
      "\n",
      "[115 rows x 19 columns]\n",
      "    SUBDIVISION  YEAR   JAN   FEB    MAR    APR    MAY    JUN    JUL    AUG  \\\n",
      "322     Mizoram  1901  11.7  18.1   29.4  206.2  124.0  443.3  331.4  466.0   \n",
      "323     Mizoram  1902   4.8   0.5   36.3  297.8  215.5  480.1  392.4  312.8   \n",
      "324     Mizoram  1903   6.5  40.5  139.8   45.5  159.9  458.6  300.2  470.6   \n",
      "325     Mizoram  1904   2.3  46.9   47.5  290.3  230.5  455.3  423.5  423.6   \n",
      "326     Mizoram  1905   9.1  35.3  306.5  161.7  193.6  339.7  450.1  429.9   \n",
      "..          ...   ...   ...   ...    ...    ...    ...    ...    ...    ...   \n",
      "432     Mizoram  2011  12.6   3.6   51.4   81.1  334.9  374.2  313.3  367.6   \n",
      "433     Mizoram  2012  24.5  10.2   20.3  243.5  163.5  396.2  280.1  342.7   \n",
      "434     Mizoram  2013   0.2   5.7   19.7   60.3  348.9  206.6  255.9  291.3   \n",
      "435     Mizoram  2014   1.2  21.0   25.4   49.6  192.5  268.3  295.7  372.3   \n",
      "436     Mizoram  2015  14.4  14.2   21.6  253.5  198.3  283.9  413.6  334.2   \n",
      "\n",
      "       SEP    OCT   NOV   DEC  ANNUAL  Jan-Feb  Mar-May  Jun-Sep  Oct-Dec  \n",
      "322  304.1  166.7  67.4   0.0  2168.4     29.8    359.6   1544.8    234.2  \n",
      "323  318.7  102.4   8.9   4.7  2175.0      5.2    549.7   1504.0    116.0  \n",
      "324  366.1  166.4  76.7   0.1  2230.7     47.0    345.1   1595.4    243.2  \n",
      "325  375.8  128.9  90.0   5.0  2519.8     49.3    568.3   1678.2    224.0  \n",
      "326  320.1  246.4   8.0  27.1  2527.6     44.5    661.8   1539.8    281.5  \n",
      "..     ...    ...   ...   ...     ...      ...      ...      ...      ...  \n",
      "432  258.3   92.6   2.4   0.2  1892.1     16.1    467.4   1313.4     95.2  \n",
      "433  248.7  160.9  32.0   0.4  1922.9     34.7    427.3   1267.6    193.3  \n",
      "434  241.4  125.6   0.3   1.2  1557.2      5.9    428.9    995.2    127.1  \n",
      "435  300.9   69.6   3.3   0.1  1599.9     22.2    267.5   1237.2     73.0  \n",
      "436  255.9  118.7   3.9  10.0  1922.4     28.7    473.4   1287.7    132.6  \n",
      "\n",
      "[115 rows x 19 columns]\n",
      "     SUBDIVISION  YEAR   JAN   FEB   MAR   APR   MAY   JUN    JUL    AUG  \\\n",
      "1357     Haryana  1901  35.4  28.9  11.1   0.0   5.1  13.2  126.4  151.5   \n",
      "1358     Haryana  1902   0.0   0.7   2.9  10.2  15.8  74.6  149.3   97.1   \n",
      "1359     Haryana  1903  14.7   0.5   2.3   0.5   8.5   8.6  151.6  138.2   \n",
      "1360     Haryana  1904   7.6   0.7  48.0   0.5  29.3  34.3  109.7  162.9   \n",
      "1361     Haryana  1905  44.8  20.8  14.0   1.3   7.4  20.1   93.6   23.1   \n",
      "...          ...   ...   ...   ...   ...   ...   ...   ...    ...    ...   \n",
      "1467     Haryana  2011   0.7  26.7   6.9   8.9  28.7  94.4   85.0  127.3   \n",
      "1468     Haryana  2012   8.2   0.2   0.1  11.8   3.8   5.3   68.1  196.6   \n",
      "1469     Haryana  2013  21.1  52.2   5.3   3.3   1.4  62.1   96.5  161.9   \n",
      "1470     Haryana  2014  13.0  17.3  26.8   7.5  20.3  25.9   72.3   34.8   \n",
      "1471     Haryana  2015  12.4   6.6  71.8  34.8   8.4  43.7  130.3   89.2   \n",
      "\n",
      "        SEP   OCT   NOV   DEC  ANNUAL  Jan-Feb  Mar-May  Jun-Sep  Oct-Dec  \n",
      "1357   10.5   2.0   0.0   6.1   390.1     64.3     16.2    301.6      8.1  \n",
      "1358   59.8   9.3   0.0   0.0   419.8      0.7     28.9    380.9      9.3  \n",
      "1359   97.7   4.0   0.0   2.3   428.9     15.2     11.3    396.1      6.2  \n",
      "1360  102.3   1.5  10.4  20.3   527.8      8.3     77.8    409.3     32.3  \n",
      "1361   92.6   0.0   0.0   5.1   322.9     65.7     22.7    229.4      5.1  \n",
      "...     ...   ...   ...   ...     ...      ...      ...      ...      ...  \n",
      "1467  133.1   0.0   0.0   0.4   512.0     27.5     44.4    439.8      0.4  \n",
      "1468   90.7   2.4   0.6   3.5   391.4      8.4     15.8    360.7      6.5  \n",
      "1469   42.8  10.9   1.7   2.1   461.2     73.2     10.0    363.3     14.7  \n",
      "1470   67.3  10.5   0.2   9.6   305.5     30.3     54.6    200.2     20.3  \n",
      "1471   32.1   3.7   2.3   0.2   435.3     18.9    114.9    295.2      6.2  \n",
      "\n",
      "[115 rows x 19 columns]\n",
      "     SUBDIVISION  YEAR   JAN   FEB   MAR    APR    MAY   JUN   JUL    AUG  \\\n",
      "3427  Puducherry  1901  24.5  39.1  21.7   36.0   74.0  41.8  49.3   67.9   \n",
      "3428  Puducherry  1902  67.2   9.8  25.1   21.9   84.7  39.3  55.1  113.8   \n",
      "3429  Puducherry  1903  19.3   7.8   1.7   18.2  128.5  58.5  72.6  115.0   \n",
      "3430  Puducherry  1904  35.2   0.1   0.7   19.5  121.9  34.9  89.0   40.4   \n",
      "3431  Puducherry  1905   6.5   7.5  17.2   64.8   83.7  49.8  39.0  101.8   \n",
      "...          ...   ...   ...   ...   ...    ...    ...   ...   ...    ...   \n",
      "3537  Puducherry  2011   4.3  11.2   8.0   91.5   33.4  56.0  45.5  128.9   \n",
      "3538  Puducherry  2012   3.0   0.1   2.5   35.5   41.9  30.1  46.5   98.0   \n",
      "3539  Puducherry  2013   3.9  30.9  30.0   20.3   42.0  54.6  42.7  110.7   \n",
      "3540  Puducherry  2014   7.4   6.1   8.1    8.3  139.1  47.8  50.6  117.7   \n",
      "3541  Puducherry  2015   8.3   2.3  21.7  108.8  112.4  62.4  43.5   81.6   \n",
      "\n",
      "        SEP    OCT    NOV    DEC  ANNUAL  Jan-Feb  Mar-May  Jun-Sep  Oct-Dec  \n",
      "3427  191.1  122.3  212.3   80.4   960.3     63.6    131.6    350.1    415.0  \n",
      "3428   98.6  282.2  174.9  165.8  1138.2     77.0    131.7    306.7    622.9  \n",
      "3429  210.4  128.1  200.5  203.2  1163.9     27.1    148.4    456.5    531.9  \n",
      "3430   85.7  163.2   23.6   49.1   663.1     35.3    142.1    249.9    235.8  \n",
      "3431   73.5  250.4  123.7    3.2   821.1     14.0    165.7    264.1    377.2  \n",
      "...     ...    ...    ...    ...     ...      ...      ...      ...      ...  \n",
      "3537   76.0  200.4  230.5   41.0   926.5     15.5    132.8    306.4    471.8  \n",
      "3538   84.9  235.2   44.5   14.0   636.1      3.1     79.9    259.5    293.6  \n",
      "3539  113.5  127.9  112.3   53.2   741.9     34.8     92.2    321.5    293.4  \n",
      "3540   98.9  252.2  110.8   66.0   913.0     13.4    155.5    315.1    428.9  \n",
      "3541   98.4  132.6  379.8  152.8  1204.6     10.6    242.8    285.9    665.3  \n",
      "\n",
      "[115 rows x 19 columns]\n",
      "                SUBDIVISION  YEAR  JAN   FEB   MAR   APR   MAY    JUN    JUL  \\\n",
      "0    Dadra and Nagar Haveli  1901  6.1   0.0   0.7   1.8  10.2   69.4  328.0   \n",
      "1    Dadra and Nagar Haveli  1902  4.0   0.0   0.0   1.1   2.1   47.2  322.7   \n",
      "2    Dadra and Nagar Haveli  1903  0.8   0.1   3.1   0.0  15.4   40.6  790.8   \n",
      "3    Dadra and Nagar Haveli  1904  2.2  16.4  34.3   0.2   3.9   57.8  306.0   \n",
      "4    Dadra and Nagar Haveli  1905  1.6   1.7   1.7   0.7   0.0   26.5  922.8   \n",
      "..                      ...   ...  ...   ...   ...   ...   ...    ...    ...   \n",
      "110  Dadra and Nagar Haveli  2011  0.0   1.6   0.0   0.0   0.0   42.3  471.9   \n",
      "111  Dadra and Nagar Haveli  2012  0.1   0.0   0.0   0.2   0.1   56.8  212.9   \n",
      "112  Dadra and Nagar Haveli  2013  1.7   1.1   0.2  13.1   0.1  283.4  576.6   \n",
      "113  Dadra and Nagar Haveli  2014  6.0   0.1   0.3   1.5   3.4   28.9  445.2   \n",
      "114  Dadra and Nagar Haveli  2015  2.7   0.0  10.5   7.6   1.7  233.3  581.4   \n",
      "\n",
      "       AUG    SEP   OCT  NOV   DEC  ANNUAL  Jan-Feb  Mar-May  Jun-Sep  Oct-Dec  \n",
      "0    267.9   30.1  20.4  0.0   1.0   735.6      6.1     12.7    695.4     21.4  \n",
      "1    459.0  405.1   3.8  1.6  18.4  1265.0      4.0      3.1   1234.0     23.9  \n",
      "2    298.1  245.1  16.5  0.0   0.0  1410.4      0.8     18.4   1374.6     16.5  \n",
      "3     81.2  166.9   6.4  1.8   1.2   678.2     18.4     38.4    612.0      9.4  \n",
      "4     50.2   94.1   1.8  0.2   0.1  1101.5      3.3      2.3   1093.6      2.2  \n",
      "..     ...    ...   ...  ...   ...     ...      ...      ...      ...      ...  \n",
      "110  742.6  372.6   1.6  0.1   0.0  1633.0      1.6      0.0   1629.6      1.7  \n",
      "111  264.8  492.3   9.5  0.0   1.0  1037.8      0.1      0.2   1026.8     10.5  \n",
      "112  294.4  547.5  81.8  0.1   0.0  1800.4      2.8     13.4   1702.1     81.9  \n",
      "113  257.4  334.3   8.5  4.0   0.0  1089.6      6.1      5.2   1065.8     12.4  \n",
      "114   48.0  173.3   5.5  0.6   0.0  1064.6      2.7     19.9   1035.9      6.2  \n",
      "\n",
      "[115 rows x 19 columns]\n"
     ]
    },
    {
     "name": "stderr",
     "output_type": "stream",
     "text": [
      "/Users/mohankalyanveeraghanta/Software-Applications/anaconda3/lib/python3.7/site-packages/ipykernel_launcher.py:5: SettingWithCopyWarning: \n",
      "A value is trying to be set on a copy of a slice from a DataFrame.\n",
      "Try using .loc[row_indexer,col_indexer] = value instead\n",
      "\n",
      "See the caveats in the documentation: https://pandas.pydata.org/pandas-docs/stable/user_guide/indexing.html#returning-a-view-versus-a-copy\n",
      "  \"\"\"\n",
      "/Users/mohankalyanveeraghanta/Software-Applications/anaconda3/lib/python3.7/site-packages/ipykernel_launcher.py:10: SettingWithCopyWarning: \n",
      "A value is trying to be set on a copy of a slice from a DataFrame.\n",
      "Try using .loc[row_indexer,col_indexer] = value instead\n",
      "\n",
      "See the caveats in the documentation: https://pandas.pydata.org/pandas-docs/stable/user_guide/indexing.html#returning-a-view-versus-a-copy\n",
      "  # Remove the CWD from sys.path while we load stuff.\n",
      "/Users/mohankalyanveeraghanta/Software-Applications/anaconda3/lib/python3.7/site-packages/ipykernel_launcher.py:15: SettingWithCopyWarning: \n",
      "A value is trying to be set on a copy of a slice from a DataFrame.\n",
      "Try using .loc[row_indexer,col_indexer] = value instead\n",
      "\n",
      "See the caveats in the documentation: https://pandas.pydata.org/pandas-docs/stable/user_guide/indexing.html#returning-a-view-versus-a-copy\n",
      "  from ipykernel import kernelapp as app\n",
      "/Users/mohankalyanveeraghanta/Software-Applications/anaconda3/lib/python3.7/site-packages/ipykernel_launcher.py:20: SettingWithCopyWarning: \n",
      "A value is trying to be set on a copy of a slice from a DataFrame.\n",
      "Try using .loc[row_indexer,col_indexer] = value instead\n",
      "\n",
      "See the caveats in the documentation: https://pandas.pydata.org/pandas-docs/stable/user_guide/indexing.html#returning-a-view-versus-a-copy\n",
      "/Users/mohankalyanveeraghanta/Software-Applications/anaconda3/lib/python3.7/site-packages/ipykernel_launcher.py:25: SettingWithCopyWarning: \n",
      "A value is trying to be set on a copy of a slice from a DataFrame.\n",
      "Try using .loc[row_indexer,col_indexer] = value instead\n",
      "\n",
      "See the caveats in the documentation: https://pandas.pydata.org/pandas-docs/stable/user_guide/indexing.html#returning-a-view-versus-a-copy\n",
      "/Users/mohankalyanveeraghanta/Software-Applications/anaconda3/lib/python3.7/site-packages/ipykernel_launcher.py:30: SettingWithCopyWarning: \n",
      "A value is trying to be set on a copy of a slice from a DataFrame.\n",
      "Try using .loc[row_indexer,col_indexer] = value instead\n",
      "\n",
      "See the caveats in the documentation: https://pandas.pydata.org/pandas-docs/stable/user_guide/indexing.html#returning-a-view-versus-a-copy\n"
     ]
    }
   ],
   "source": [
    "'''GIVING INDIVIDUAL STATUS TO THE STATES FROM THE COMBINED VALUES\n",
    "   LIKE....ASSAM & MEGHALAYA ->  SEPARATE THEM AS ASSAM AND MEGAHALAYA - 2 SEPARATE VALUES(THOUGH SAME)'''\n",
    "# ASSAM\n",
    "assam = rainfall_data.loc[rainfall_data[\"SUBDIVISION\"] == \"ASSAM & MEGHALAYA\"]\n",
    "assam[\"SUBDIVISION\"] = assam[\"SUBDIVISION\"].replace(\"ASSAM & MEGHALAYA\",\"Assam\")\n",
    "print(assam)\n",
    "\n",
    "# NAGALAND\n",
    "nagaland = rainfall_data.loc[rainfall_data[\"SUBDIVISION\"] == \"NAGA MANI MIZO TRIPURA\"]\n",
    "nagaland[\"SUBDIVISION\"] = nagaland[\"SUBDIVISION\"].replace(\"NAGA MANI MIZO TRIPURA\",\"Nagaland\")\n",
    "print(nagaland)\n",
    "\n",
    "# MANIPUR\n",
    "manipur = rainfall_data.loc[rainfall_data[\"SUBDIVISION\"] == \"NAGA MANI MIZO TRIPURA\"]\n",
    "manipur[\"SUBDIVISION\"] = manipur[\"SUBDIVISION\"].replace(\"NAGA MANI MIZO TRIPURA\",\"Manipur\")\n",
    "print(manipur)\n",
    "\n",
    "# MIZORAM\n",
    "mizoram = rainfall_data.loc[rainfall_data[\"SUBDIVISION\"] == \"NAGA MANI MIZO TRIPURA\"]\n",
    "mizoram[\"SUBDIVISION\"] = mizoram[\"SUBDIVISION\"].replace(\"NAGA MANI MIZO TRIPURA\",\"Mizoram\")\n",
    "print(mizoram)\n",
    "\n",
    "# HARYANA\n",
    "haryana = rainfall_data.loc[rainfall_data[\"SUBDIVISION\"] == \"HARYANA DELHI & CHANDIGARH\"]\n",
    "haryana[\"SUBDIVISION\"] = haryana[\"SUBDIVISION\"].replace(\"HARYANA DELHI & CHANDIGARH\",\"Haryana\")\n",
    "print(haryana)\n",
    "\n",
    "# PUDUCHERRY\n",
    "puducherry = rainfall_data.loc[rainfall_data[\"SUBDIVISION\"] == \"Tamil Nadu\"]\n",
    "puducherry[\"SUBDIVISION\"] = puducherry[\"SUBDIVISION\"].replace(\"Tamil Nadu\",\"Puducherry\")\n",
    "print(puducherry)\n",
    "\n",
    "# DADRA and NAGAR \n",
    "dadra_nagar = gujarat.copy()\n",
    "dadra_nagar[\"SUBDIVISION\"] = dadra_nagar[\"SUBDIVISION\"].replace(\"Gujarat\",\"Dadra and Nagar Haveli\")\n",
    "print(dadra_nagar)\n",
    "\n",
    "\n"
   ]
  },
  {
   "cell_type": "code",
   "execution_count": 19,
   "metadata": {},
   "outputs": [
    {
     "name": "stdout",
     "output_type": "stream",
     "text": [
      "['Andaman and Nicobar Islands' 'Arunachal Pradesh' 'ASSAM & MEGHALAYA'\n",
      " 'NAGA MANI MIZO TRIPURA' 'SUB HIMALAYAN WEST BENGAL & SIKKIM' 'Odisha'\n",
      " 'Jharkhand' 'Bihar' 'Uttarakhand' 'HARYANA DELHI & CHANDIGARH' 'Punjab'\n",
      " 'Himachal Pradesh' 'Jammu and Kashmir' 'KONKAN & GOA' 'Chhattisgarh'\n",
      " 'Telangana' 'Tamil Nadu' 'Kerala']\n"
     ]
    }
   ],
   "source": [
    "states_to_remove = ['GANGETIC WEST BENGAL','EAST UTTAR PRADESH',\n",
    " 'WEST UTTAR PRADESH','WEST RAJASTHAN','EAST RAJASTHAN',\n",
    " 'WEST MADHYA PRADESH','EAST MADHYA PRADESH','GUJARAT REGION'\n",
    " ,'MADHYA MAHARASHTRA','MATATHWADA','LAKSHADWEEP',\n",
    " 'VIDARBHA','COASTAL ANDHRA PRADESH','SAURASHTRA & KUTCH',\n",
    " 'RAYALSEEMA','COASTAL KARNATAKA','NORTH INTERIOR KARNATAKA',\n",
    " 'SOUTH INTERIOR KARNATAKA']\n",
    "\n",
    "\n",
    "for state in states_to_remove:\n",
    "    rainfall_data.drop(rainfall_data[rainfall_data[\"SUBDIVISION\"] == state].index,inplace=True)\n",
    "    \n",
    "print(rainfall_data.SUBDIVISION.unique())"
   ]
  },
  {
   "cell_type": "markdown",
   "metadata": {},
   "source": [
    "### GIVING COMBINED STATES THEIR INDIVIDUAL STATUS\n",
    "### LIKE.....KONKAN & GOA changes to Kutch"
   ]
  },
  {
   "cell_type": "code",
   "execution_count": 20,
   "metadata": {},
   "outputs": [],
   "source": [
    "rainfall_data[\"SUBDIVISION\"] = rainfall_data[\"SUBDIVISION\"].replace(\"ASSAM & MEGHALAYA\",\"Meghalaya\")\n",
    "rainfall_data[\"SUBDIVISION\"] = rainfall_data[\"SUBDIVISION\"].replace(\"NAGA MANI MIZO TRIPURA\",\"Tripura\")\n",
    "rainfall_data[\"SUBDIVISION\"] = rainfall_data[\"SUBDIVISION\"].replace(\"SUB HIMALAYAN WEST BENGAL & SIKKIM\",\"Sikkim\")\n",
    "rainfall_data[\"SUBDIVISION\"] = rainfall_data[\"SUBDIVISION\"].replace(\"HARYANA DELHI & CHANDIGARH\",\"Chandigarh\")\n",
    "rainfall_data[\"SUBDIVISION\"] = rainfall_data[\"SUBDIVISION\"].replace(\"KONKAN & GOA\",\"Goa\")\n"
   ]
  },
  {
   "cell_type": "code",
   "execution_count": 21,
   "metadata": {},
   "outputs": [
    {
     "name": "stdout",
     "output_type": "stream",
     "text": [
      "['Andaman and Nicobar Islands' 'Arunachal Pradesh' 'Meghalaya' 'Tripura'\n",
      " 'Sikkim' 'Odisha' 'Jharkhand' 'Bihar' 'Uttarakhand' 'Chandigarh' 'Punjab'\n",
      " 'Himachal Pradesh' 'Jammu and Kashmir' 'Goa' 'Chhattisgarh' 'Telangana'\n",
      " 'Tamil Nadu' 'Kerala' 'Puducherry' 'Uttar Pradesh' 'West Bengal'\n",
      " 'Andhra Pradesh' 'Maharashtra' 'Mizoram' 'Manipur'\n",
      " 'Dadra and Nagar Haveli' 'Nagaland' 'Madhya Pradesh' 'Gujarat' 'Haryana'\n",
      " 'Assam' 'Rajasthan' 'Karnataka']\n",
      "['Andaman and Nicobar Islands' 'Andhra Pradesh' 'Arunachal Pradesh'\n",
      " 'Assam' 'Bihar' 'Chandigarh' 'Chhattisgarh' 'Dadra and Nagar Haveli'\n",
      " 'Goa' 'Gujarat' 'Haryana' 'Himachal Pradesh' 'Jammu and Kashmir '\n",
      " 'Jharkhand' 'Karnataka' 'Kerala' 'Madhya Pradesh' 'Maharashtra' 'Manipur'\n",
      " 'Meghalaya' 'Mizoram' 'Nagaland' 'Odisha' 'Puducherry' 'Punjab'\n",
      " 'Rajasthan' 'Sikkim' 'Tamil Nadu' 'Telangana ' 'Tripura' 'Uttar Pradesh'\n",
      " 'Uttarakhand' 'West Bengal']\n"
     ]
    }
   ],
   "source": [
    "# ADD ALL THE SEPARATED STATES TO THE RAINFALL DATA\n",
    "\n",
    "states_updated = [puducherry,uttar_pradesh,west_bengal,andhra_pradesh,maharastra,mizoram,manipur,dadra_nagar,\n",
    "                  nagaland,madhya_pradesh,gujarat,haryana,assam,rajasthan,karnataka]\n",
    "\n",
    "for state in states_updated:\n",
    "    rainfall_data = rainfall_data.append(state)\n",
    "    \n",
    "print(rainfall_data.SUBDIVISION.unique())\n",
    "print(states_data)"
   ]
  },
  {
   "cell_type": "markdown",
   "metadata": {},
   "source": [
    "### CHECKING WHETHER STATES OF RAINFALL MATCH WITH THE STATES OF apy.csv\n",
    "### states_data is the list of states present in apy.csv\n",
    "### len(states_data) = 33"
   ]
  },
  {
   "cell_type": "code",
   "execution_count": 22,
   "metadata": {},
   "outputs": [
    {
     "name": "stdout",
     "output_type": "stream",
     "text": [
      "NUMBER OF STATES IN RAINFALL DATA 33\n",
      "TOTAL NUMBER OF STATES MATCHING apy.csv = 33\n",
      "[]\n"
     ]
    }
   ],
   "source": [
    "count = 0\n",
    "n_found = []\n",
    "states_updated = rainfall_data.SUBDIVISION.unique()\n",
    "print(f\"NUMBER OF STATES IN RAINFALL DATA {len(states_updated)}\")\n",
    "for state in states_data:\n",
    "    if state.strip() in states_updated:\n",
    "        count +=1\n",
    "    else:\n",
    "        n_found.append(state)\n",
    "        \n",
    "print(f\"TOTAL NUMBER OF STATES MATCHING apy.csv = {count}\")\n",
    "print(n_found)"
   ]
  },
  {
   "cell_type": "markdown",
   "metadata": {},
   "source": [
    "- [x] Achieved consistency for State_Name and SUBDIVISION columns of both the datasets "
   ]
  },
  {
   "cell_type": "markdown",
   "metadata": {},
   "source": [
    "### TO CREATE A DATAFRAME WITH THESE SEASONS AS COLUMNS\n",
    "### RABI MONTHS         : OCTOBER to MARCH\n",
    "### KHARIF MONTHS    : JULY to OCTOBER\n",
    "### SUMMER MONTHS : APRIL TO JUNE\n",
    "### WHOLE YEAR          : ALL \n",
    "### WINTER MONTHS   : OCTOBER TO JANUARY\n",
    "### AUTUMN MONTHS : SEPTEMBER TO NOVEMBER"
   ]
  },
  {
   "cell_type": "code",
   "execution_count": 23,
   "metadata": {},
   "outputs": [
    {
     "name": "stdout",
     "output_type": "stream",
     "text": [
      "(3772, 19)\n",
      "                     SUBDIVISION  YEAR   JAN    FEB   MAR    APR    MAY  \\\n",
      "0    Andaman and Nicobar Islands  1901  49.2   87.1  29.2    2.3  528.8   \n",
      "1    Andaman and Nicobar Islands  1902   0.0  159.8  12.2    0.0  446.1   \n",
      "2    Andaman and Nicobar Islands  1903  12.7  144.0   0.0    1.0  235.1   \n",
      "3    Andaman and Nicobar Islands  1904   9.4   14.7   0.0  202.4  304.5   \n",
      "4    Andaman and Nicobar Islands  1905   1.3    0.0   3.3   26.9  279.5   \n",
      "..                           ...   ...   ...    ...   ...    ...    ...   \n",
      "110                    Karnataka  2011   7.4   23.4  28.3  187.5  179.6   \n",
      "111                    Karnataka  2012   NaN   23.1  13.6  211.4   88.0   \n",
      "112                    Karnataka  2013   4.1   35.8  33.7   88.5  243.4   \n",
      "113                    Karnataka  2014   0.4    8.8  48.8  113.6  405.4   \n",
      "114                    Karnataka  2015   5.5    1.2  84.2  203.5  320.9   \n",
      "\n",
      "        JUN     JUL     AUG    SEP    OCT    NOV    DEC  ANNUAL  Jan-Feb  \\\n",
      "0     517.5   365.1   481.1  332.6  388.5  558.2   33.6  3373.2    136.3   \n",
      "1     537.1   228.9   753.7  666.2  197.2  359.0  160.5  3520.7    159.8   \n",
      "2     479.9   728.4   326.7  339.0  181.2  284.4  225.0  2957.4    156.7   \n",
      "3     495.1   502.0   160.1  820.4  222.2  308.7   40.1  3079.6     24.1   \n",
      "4     628.7   368.7   330.5  297.0  260.7   25.4  344.7  2566.7      1.3   \n",
      "..      ...     ...     ...    ...    ...    ...    ...     ...      ...   \n",
      "110  1296.8  1433.7  1212.8  725.4  397.0  143.9   15.2  5651.2     30.8   \n",
      "111   792.7  1013.8  1369.6  561.8  263.1  197.1   12.7     NaN      NaN   \n",
      "112  1428.6  1983.4   905.8  771.9  469.8   86.0   12.5  6063.3     39.8   \n",
      "113   664.2  1563.8  1580.8  631.1  459.6   85.2   63.6  5625.4      9.2   \n",
      "114  1043.6  1081.4   790.2  575.6  375.8  268.0   20.4  4770.4      6.7   \n",
      "\n",
      "     Mar-May  Jun-Sep  Oct-Dec  \n",
      "0      560.3   1696.3    980.3  \n",
      "1      458.3   2185.9    716.7  \n",
      "2      236.1   1874.0    690.6  \n",
      "3      506.9   1977.6    571.0  \n",
      "4      309.7   1624.9    630.8  \n",
      "..       ...      ...      ...  \n",
      "110    395.4   4668.7    556.2  \n",
      "111    312.8   3737.9    472.8  \n",
      "112    365.6   5089.6    568.2  \n",
      "113    568.0   4439.6    608.5  \n",
      "114    608.6   3490.8    664.3  \n",
      "\n",
      "[3772 rows x 19 columns]\n",
      "KHARIF RAINFALL\n",
      "0      1567.3\n",
      "1      1846.0\n",
      "2      1575.3\n",
      "3      1704.7\n",
      "4      1256.9\n",
      "        ...  \n",
      "110    3768.9\n",
      "111    3208.3\n",
      "112    4130.9\n",
      "113    4235.3\n",
      "114    2823.0\n",
      "Length: 3772, dtype: float64\n",
      "SUMMER RAINFALL\n",
      "0      1048.6\n",
      "1       983.2\n",
      "2       716.0\n",
      "3      1002.0\n",
      "4       935.1\n",
      "        ...  \n",
      "110    1663.9\n",
      "111    1092.1\n",
      "112    1760.5\n",
      "113    1183.2\n",
      "114    1568.0\n",
      "Length: 3772, dtype: float64\n",
      "WHOLE YEAR RAINFALL\n",
      "AUTUMN RANFALL\n",
      "0      1279.3\n",
      "1      1222.4\n",
      "2       804.6\n",
      "3      1351.3\n",
      "4       583.1\n",
      "        ...  \n",
      "110    1266.3\n",
      "111    1022.0\n",
      "112    1327.7\n",
      "113    1175.9\n",
      "114    1219.4\n",
      "Length: 3772, dtype: float64\n",
      "3772\n",
      "(3772,)\n",
      "RABI RAINFALL\n",
      "[1152.3000000000002, 873.4000000000001, 714.6999999999999, 575.6, 667.4, 699.9000000000001, 1264.8999999999999, 831.3, 637.4, 1259.9, 524.8, 489.3, 748.9000000000001, 1044.5, 819.6, 679.0, 797.1, 917.7999999999998, 762.1999999999999, 815.6, nan, 443.4, nan, 839.1, 1191.2, 866.3, 879.3, 1002.0, 561.0999999999999, 589.1999999999999, nan, 752.6, 631.5, 701.5, 618.5999999999999, 1373.6, 813.9000000000001, 623.8, 666.7, nan, nan, 866.9999999999999, 668.5, 428.50000000000006, 573.1999999999999, 1203.9, 833.7, 673.0999999999999, 552.1, 1033.8, 745.1999999999999, 527.8, 692.9000000000001, 892.4000000000001, 899.2, 989.6, 860.5, 675.2, 737.2, 1074.8, 1033.8, 651.8000000000001, 738.4000000000001, 670.3, 1149.7, 862.5, 926.6, 969.4, 1157.7999999999997, 828.2, 962.6, 641.8, 420.50000000000006, 362.40000000000003, 937.0, 779.4000000000001, 489.0, 894.4, 1006.5, 702.3, 514.6, 1099.0, 1061.1999999999998, 589.0, 570.9, 563.0, 473.6, 727.1, 418.0, 829.5999999999999, 761.2, 460.79999999999995, 1041.0, 991.3999999999999, 842.7, 604.1, 807.0, 559.4, 414.5, 957.1, 536.6999999999999, 712.3, 711.8, 497.4, 1540.8, 798.0, 845.2, 952.8, 841.6999999999999, 807.3, nan, 475.4, 277.5, 1813.5, 416.8, 546.9, 737.0, 266.2, 673.0999999999999, 420.4, 724.3, 761.8, 989.7, 713.2, 961.8, 527.4, 660.5, 568.1, 571.9, 526.4, 683.5999999999999, 880.7, 552.7, 734.5, 508.3, 613.7, 539.0, 489.70000000000005, 710.8, 434.4, 510.0, 623.9, 679.8, 651.8000000000001, 856.4, 418.4, 730.8, nan, 403.1, 1014.5, 347.1, 580.5999999999999, 490.9, nan, 398.9, 592.0999999999999, 341.3, 330.9, 311.5, 159.7, 278.2, 316.4, 571.9, 496.5, 588.6, 361.3, 776.5, 687.2, 702.0999999999999, 548.8, 965.6, 677.8, 414.6, 652.4000000000001, 555.1999999999999, 670.0, 423.0, 451.09999999999997, 584.6999999999999, 781.0999999999999, 695.4000000000001, 483.90000000000003, 638.7, 577.4, 586.9, 366.7, 421.5, 476.2, 429.80000000000007, 264.59999999999997, 481.6, 399.4, 445.70000000000005, 372.6, 476.4, 651.1, 344.20000000000005, 327.5, 372.79999999999995, 302.29999999999995, 384.30000000000007, 436.6, 311.09999999999997, 470.4, 393.2, 241.20000000000002, 206.0, 405.5999999999999, 254.99999999999997, 339.20000000000005, 339.5, 398.90000000000003, 393.5, 118.2, 128.0, 387.40000000000003, 406.4, 479.59999999999997, 479.9, 439.0, 228.20000000000002, 289.0, 427.1, 430.59999999999997, 126.69999999999999, 515.6999999999999, 324.1, 260.2, 225.70000000000002, 168.60000000000002, 355.79999999999995, 306.9, 394.0, 281.6, 489.70000000000005, 394.5, 354.9, 285.3, 275.9, 246.7, 422.0, 198.8, 299.4, 339.1, 243.89999999999998, 435.0, 217.6, 333.5, 326.6, 225.70000000000002, 251.0, 323.0, 453.1, 330.29999999999995, 357.0, 338.3, 250.10000000000002, 444.8, 581.0, 271.20000000000005, 344.2, 402.1, 323.70000000000005, 196.10000000000002, 422.0, 360.1, 379.1, 239.59999999999997, 197.40000000000003, 293.6, 357.4, 235.39999999999998, 322.3, 237.2, 268.9, 282.7, 357.20000000000005, 448.5, 228.8, 353.09999999999997, 351.5, 331.1, 194.39999999999998, 302.7, 171.7, 422.5, 294.5, 176.1, 252.5, 245.89999999999998, 381.09999999999997, 166.0, 514.4, 343.0, 341.0, 379.6, 326.5, 399.7, 407.69999999999993, 366.79999999999995, 268.70000000000005, 319.4, 421.59999999999997, 264.5, 280.90000000000003, 325.1, 182.60000000000002, 333.4, 274.70000000000005, 371.0, 579.4000000000001, 291.20000000000005, 232.09999999999997, 368.09999999999997, 201.6, 252.1, 266.9, 96.5, 273.5, 188.9, 104.80000000000001, 151.0, 275.7, 302.8, 339.9, 574.8, 432.5, 353.20000000000005, 217.6, 312.90000000000003, 375.70000000000005, 369.70000000000005, 409.20000000000005, 397.70000000000005, 544.2, 364.0, 337.2, 588.3, 359.79999999999995, 185.4, 536.1999999999999, 397.0, 324.09999999999997, 293.20000000000005, 376.3, 507.4, 457.29999999999995, 440.29999999999995, 312.9, 385.0, 343.1, 447.8, 477.0, 287.1, 335.29999999999995, 530.4, 357.1, 335.6, 489.20000000000005, 452.0, 536.6, 297.9, 295.8, 438.6, 268.1, 312.90000000000003, 480.6, 421.19999999999993, 462.29999999999995, 303.2, 334.6, 395.59999999999997, 499.5, 523.2, 272.79999999999995, 478.6, 530.6, 425.5, 262.5, 509.1, 387.8, 457.8, 164.5, 185.70000000000002, 490.09999999999997, 437.8, 281.2, 527.6, 315.90000000000003, 244.7, 605.2, 651.7, 354.0, 149.6, 475.9, 293.0, 519.8, 175.89999999999998, 260.7, 174.5, 289.29999999999995, 327.7, 182.89999999999998, 388.0, 249.7, 288.0, 104.7, 558.9, 369.79999999999995, 423.20000000000005, 590.8, 443.9, 473.09999999999997, 520.3, 440.30000000000007, 222.9, 477.2, 376.6, 303.8, 180.40000000000003, 440.2, 297.69999999999993, 417.19999999999993, 270.1, 239.6, 279.6, 238.9, 198.4, 367.30000000000007, 186.79999999999995, 279.2, 330.5, 150.2, 218.9, 174.7, 123.19999999999999, 188.00000000000003, 165.0, 113.8, 175.10000000000002, 269.9, 198.20000000000002, 251.2, 103.19999999999999, 49.0, 235.3, 269.79999999999995, 435.0, 337.70000000000005, 293.0, 162.39999999999998, 163.0, 254.1, 375.9, 65.80000000000001, 282.5, 260.0, 219.5, 137.0, 87.19999999999999, 233.7, 167.0, 224.2, 166.6, 361.69999999999993, 627.5, 235.5, 147.9, 337.29999999999995, 225.40000000000003, 216.70000000000002, 85.4, 192.39999999999998, 376.90000000000003, 132.5, 328.6, 47.099999999999994, 252.8, 168.4, 151.2, 115.0, 283.0, 400.8, 181.8, 293.40000000000003, 364.40000000000003, 155.7, 299.6, 300.2, 146.1, 131.8, 120.8, 386.9, 125.60000000000001, 320.20000000000005, 404.6, 141.9, 204.10000000000002, 115.4, 187.79999999999998, 224.9, 112.5, 224.2, 213.0, 461.5, 118.9, 176.7, 458.5, 190.5, 417.8, 252.2, 269.29999999999995, 239.99999999999997, 431.7, 184.8, 490.0, 303.7, 121.69999999999999, 203.59999999999997, 232.3, 271.6, 271.6, 354.9, 259.7, 208.3, 341.0, 240.6, 182.60000000000002, 271.6, 478.29999999999995, 204.6, 326.9, 234.3, 289.79999999999995, 257.09999999999997, 363.2, 181.4, 461.0, 281.5, 330.5, 384.4, 337.90000000000003, 277.4, 225.39999999999998, 225.60000000000002, 352.59999999999997, 175.9, 152.4, 198.0, 283.1, 134.4, 207.1, 191.10000000000002, 124.9, 318.7, 221.5, 186.5, 201.0, 110.1, 67.7, 115.49999999999999, 253.6, 187.10000000000002, 178.1, 209.99999999999997, 94.8, 280.49999999999994, 364.4, 411.49999999999994, 162.1, 264.5, 98.0, 89.39999999999999, 157.1, 229.49999999999997, 266.3, 346.6, 129.0, 129.8, 251.59999999999997, 223.2, 261.2, 337.4, 276.40000000000003, 174.89999999999998, 147.0, 91.30000000000001, 288.8, 118.39999999999999, 256.59999999999997, 308.7, 110.0, 243.3, 218.10000000000002, 275.20000000000005, 189.7, 196.8, 232.60000000000002, 262.3, 169.59999999999997, 314.1, 285.1, 228.7, 225.89999999999998, 124.4, 141.1, 372.8, 267.7, 119.9, 302.90000000000003, 232.5, 283.6, 225.39999999999998, 187.39999999999998, 252.70000000000002, 179.3, 140.3, 312.20000000000005, 114.6, 243.49999999999997, 166.4, 111.00000000000001, 256.6, 165.1, 299.7, 152.0, 173.5, 87.3, 238.2, 136.5, 122.9, 201.3, 143.6, 118.9, 127.1, 119.6, 251.1, 276.70000000000005, 261.09999999999997, 77.6, 170.5, 421.9, 158.4, 86.30000000000001, 135.10000000000002, 170.3, 290.8, 114.29999999999998, 235.39999999999998, 215.09999999999997, 264.6, 62.4, 130.5, 92.80000000000001, 348.4, 209.10000000000002, 256.5, 88.6, 135.8, 29.9, 148.79999999999998, 230.60000000000002, 76.0, 154.39999999999998, 434.9, 143.8, 216.9, 73.9, 82.0, 268.2, 186.59999999999997, 234.20000000000002, 242.3, 89.89999999999999, 68.9, 68.80000000000001, 126.30000000000001, 182.2, 239.1, 152.5, 100.70000000000002, 114.5, 325.9, 289.0, 144.8, 173.0, 55.8, 37.2, 143.2, 106.3, 201.1, 203.60000000000002, 227.0, 133.4, 279.6, 301.79999999999995, 311.9, 183.7, 235.40000000000003, 120.19999999999999, 139.3, 50.4, 258.0, 195.3, 151.2, 270.3, 114.10000000000002, 289.5, 122.30000000000001, 226.5, 190.7, 181.79999999999995, 252.39999999999998, 185.89999999999998, 240.5, 114.2, 91.1, 117.0, 139.60000000000002, 67.80000000000001, 102.2, 201.7, 274.70000000000005, 89.69999999999999, 174.4, 309.2, 139.6, 189.0, 85.2, 259.09999999999997, 111.5, 69.1, 109.3, 82.5, 90.60000000000001, 115.0, 138.3, 166.1, 126.1, 286.8, 134.5, 132.9, 47.099999999999994, 206.09999999999997, 200.5, 131.39999999999998, 170.4, 131.9, 117.5, 186.8, 80.20000000000002, 187.0, 224.1, 138.9, 47.900000000000006, 138.9, 201.0, 74.5, 44.2, 107.9, 167.5, 188.70000000000002, 38.7, 280.9, 160.10000000000002, 175.2, 55.599999999999994, 140.8, 124.5, 280.4, 187.09999999999997, 113.39999999999998, 107.6, 76.4, 39.6, 90.10000000000001, 92.00000000000001, 69.80000000000001, 114.6, 361.40000000000003, 82.5, 108.9, 45.300000000000004, 41.6, 158.6, 191.2, 92.1, 129.2, 66.3, 39.0, 62.5, 133.2, 178.5, 142.7, 125.19999999999999, 98.5, 129.7, 160.8, 119.2, 60.400000000000006, 109.5, 39.50000000000001, 53.8, 60.8, 92.50000000000001, 132.20000000000002, 75.2, 120.6, 123.10000000000001, 236.90000000000003, 308.6, 109.89999999999999, 96.7, 162.1, 124.99999999999999, 109.0, 22.000000000000004, 166.6, 225.4, 86.5, 167.1, 42.099999999999994, 141.5, 59.7, 138.9, 125.60000000000001, 184.3, 185.0, 84.1, 182.2, 148.2, 19.8, 65.0, 61.8, 41.8, 45.599999999999994, 69.7, 302.5, 37.7, 174.9, 278.1, 88.8, 277.2, 90.2, 163.79999999999998, 86.3, 54.6, 75.9, 49.699999999999996, 142.4, 77.9, 71.9, 194.1, 109.89999999999999, 193.0, 57.2, 67.3, 33.099999999999994, 230.5, 196.4, 140.6, 82.0, 49.7, 87.39999999999999, 147.8, 29.7, 211.79999999999998, 157.4, 101.6, 73.5, 87.5, 78.60000000000001, 32.199999999999996, 92.1, 112.1, 58.9, 127.5, 80.7, 112.60000000000001, 98.2, 137.79999999999998, 14.2, 208.70000000000002, 99.0, 172.2, 99.80000000000001, 36.5, 81.9, 89.4, 23.3, 79.89999999999999, 61.800000000000004, 41.0, 69.0, 256.4, 90.8, 270.79999999999995, 110.4, 197.5, 192.3, 368.80000000000007, 244.39999999999998, 351.2, 130.8, 139.3, 163.7, 686.3, 250.0, 214.9, 288.8, 309.6, 66.9, 211.7, 230.2, 280.3, 212.5, 134.6, 193.2, 301.8, 254.79999999999998, 255.2, 250.0, 222.89999999999998, 440.8, 155.6, 370.5, 198.10000000000002, 170.7, 212.5, 226.89999999999998, 197.79999999999998, 132.70000000000002, 301.6, 267.7, 154.7, 231.2, 146.6, 267.1, 169.3, 211.79999999999998, 196.4, 162.7, 233.7, 254.0, 237.70000000000002, 172.0, 151.9, 283.4, 172.4, 340.70000000000005, 316.20000000000005, 453.2, 652.9, 255.10000000000002, 352.9, 293.5, 379.20000000000005, 427.8, 255.3, 332.1, 355.8, 186.39999999999998, 222.2, 483.09999999999997, 225.2, 189.10000000000002, 230.10000000000002, 268.5, 230.2, 160.6, 310.5, 124.1, 66.1, 386.1, 249.8, 190.0, 238.29999999999998, 325.4, 271.2, 227.6, 113.80000000000001, 455.20000000000005, 261.1, 273.7, 217.2, 257.0, 211.0, 199.9, 324.59999999999997, 160.8, 331.7, 233.8, 120.1, 223.39999999999998, 122.5, 174.00000000000003, 142.8, 299.8, 293.5, 100.4, 278.7, 150.6, 316.3, 135.0, 83.80000000000001, 172.1, 146.1, 85.7, 306.90000000000003, 250.3, 329.5, 101.79999999999998, 11.7, 26.8, 62.599999999999994, 111.8, 104.19999999999999, 88.0, 37.7, 21.0, 60.7, 209.2, 115.30000000000001, 77.4, 24.9, 141.7, 24.6, 78.3, 129.6, 73.2, 63.5, 24.5, 51.900000000000006, 99.3, 113.2, 68.0, 76.10000000000001, 52.20000000000001, 105.5, 60.0, 73.8, 37.4, 68.7, 47.2, 88.9, 72.89999999999999, 54.3, 109.69999999999999, 56.1, 68.3, 76.9, 67.1, 83.10000000000001, 36.300000000000004, 89.6, 69.9, 16.599999999999998, 68.4, 95.3, 37.5, 50.0, 43.6, 65.6, 44.300000000000004, 134.7, 86.6, 178.10000000000002, 218.60000000000002, 69.2, 73.6, 71.20000000000002, 114.6, 80.8, 21.0, 22.400000000000002, 31.7, 55.3, 53.699999999999996, 137.8, 27.0, 81.10000000000001, 37.8, 37.6, 68.2, 32.1, 62.4, 59.300000000000004, 53.5, 95.0, 84.80000000000001, 42.8, 113.3, 154.9, 68.89999999999999, 25.499999999999996, 6.1000000000000005, 117.80000000000001, 82.9, 58.7, 64.3, 102.2, 58.7, 58.6, 42.900000000000006, 32.0, 70.6, 58.7, 43.599999999999994, 164.8, 117.8, 52.800000000000004, 31.8, 63.1, 59.3, 36.8, 134.8, 33.599999999999994, 126.8, 5.199999999999999, 29.799999999999997, 19.5, 51.699999999999996, 8.899999999999999, 85.10000000000001, 71.8, 111.1, 137.2, 17.700000000000003, 84.1, 130.1, 160.7, 149.49999999999997, 198.5, 59.4, 60.1, 75.80000000000001, 253.7, 111.4, 127.8, 83.1, 188.3, 48.2, 43.800000000000004, 231.60000000000002, 113.0, 101.9, 25.799999999999997, 88.4, 142.7, 136.3, 57.300000000000004, 89.10000000000001, 62.0, 88.7, 74.9, 130.1, 76.0, 83.3, 100.00000000000001, 69.7, 137.29999999999998, 99.89999999999999, 146.3, 135.3, 135.8, 98.2, 76.9, 119.80000000000001, 110.30000000000001, 137.0, 110.5, 32.400000000000006, 125.4, 178.8, 89.6, 134.5, 82.2, 112.39999999999999, 52.6, 142.7, 78.1, 446.6, 281.2, 82.9, 163.1, 94.0, 115.0, 128.7, 71.19999999999999, 41.8, 61.9, 73.0, 109.89999999999999, 181.6, 80.3, 72.8, 54.7, 61.5, 104.19999999999999, 60.3, 77.9, 110.80000000000001, 44.1, 127.29999999999998, 154.4, 71.0, 191.5, 202.0, 155.8, 97.4, 15.0, 163.3, 113.9, 151.5, 102.0, 122.4, 98.19999999999999, 112.9, 67.4, 56.1, 129.5, 93.6, 48.3, 194.0, 103.4, 59.699999999999996, 19.200000000000003, 22.0, 92.7, 45.300000000000004, 161.7, 65.2, 162.9, 28.200000000000003, 45.699999999999996, 26.6, 77.5, 71.3, 84.6, 101.1, 138.3, 397.8, 160.9, 337.70000000000005, 280.79999999999995, 419.19999999999993, 313.1, 433.00000000000006, 141.7, 251.1, 209.0, 643.8, 291.0, 259.6, 296.4, 398.6, 162.8, 199.3, 411.79999999999995, 350.1, 290.59999999999997, 138.49999999999997, 396.3, 386.5, 411.5, 270.4, 402.9, 241.79999999999998, 353.0, 332.70000000000005, 448.9, 331.9, 206.5, 347.20000000000005, 204.99999999999997, 342.09999999999997, 317.9, 349.1, 513.1, 285.70000000000005, 244.3, 192.0, 309.40000000000003, 361.5, 340.3, 409.8, 257.1, 388.6, 672.4, 339.1, 452.7, 278.3, 460.6, 357.59999999999997, 639.1000000000001, 418.9, 777.1, 669.9000000000001, 432.9, 722.4, 354.4, 457.0, 351.8, 388.6, 450.4, 474.0, 280.6, 396.9, 556.5, 332.4, 205.70000000000002, 150.39999999999998, 215.6, 372.19999999999993, 219.9, 465.1, 315.49999999999994, 139.60000000000002, 422.1, 531.2, 312.6, 465.9, 653.6, 492.1, 260.6, 203.70000000000002, 504.4, 436.2, 612.9, 393.29999999999995, 534.6999999999999, 454.0, 446.5, 374.1, 260.4, 384.4, 385.9, 215.10000000000002, 527.0, 324.6, 343.09999999999997, 189.4, 403.20000000000005, 281.90000000000003, 198.3, 677.4, 284.6, 394.9, 254.70000000000005, 222.2, 284.5, 290.4, 185.2, 367.20000000000005, 382.9, 489.4, 262.5, 136.0, 417.2, 340.59999999999997, 558.4, 505.20000000000005, 469.79999999999995, 183.70000000000002, 393.5, 403.0, 749.7, 453.79999999999995, 378.6, 542.0, 671.3, 315.4, 232.0, 528.6, 531.0, 537.6, 325.09999999999997, 480.1, 545.9, 532.8, 336.29999999999995, 381.90000000000003, 319.59999999999997, 513.4, 469.80000000000007, 681.5, 366.40000000000003, 381.9, 524.0, 270.79999999999995, 497.9, 559.0, 450.2, 734.4, 561.1, 325.3, 280.09999999999997, 482.3, 539.7, 390.7, 423.29999999999995, 259.3, 433.70000000000005, 545.6, 510.8, 651.8, 346.4, 463.0, 373.29999999999995, 742.8000000000001, 253.5, 573.2, 634.0, 503.6, 483.79999999999995, 352.29999999999995, 259.9, 285.5, 416.3, 439.4, 364.1, 440.4, 397.9, 468.8, 486.6, 259.8, 212.7, 419.5, 558.4, 356.4, 437.7, 390.2, 251.2, 506.8, 484.20000000000005, 529.5, 637.0, 513.3, 750.9, 380.79999999999995, 263.5, 650.4000000000001, 704.6, 652.9, 393.20000000000005, 784.6, 772.7, 514.5, 558.2, 423.0, 712.0, 590.8, 429.1, 778.4000000000001, 382.1, 428.6, 213.99999999999997, 356.09999999999997, 495.5, 396.5, 1028.2, 426.3, 622.8, 342.8, 459.29999999999995, nan, 427.5, 348.0, 314.8, 361.0, 605.1, 170.6, 44.4, 165.1, 161.6, 90.5, 101.5, 45.2, 16.200000000000003, 26.400000000000002, 25.3, 166.50000000000003, 59.2, 169.4, 109.89999999999999, 47.3, 150.50000000000003, 310.4, 444.0, 60.3, 170.79999999999998, 55.699999999999996, 71.2, 137.79999999999998, 8.5, 30.3, 124.99999999999999, 40.7, 269.20000000000005, 150.2, 176.0, 147.49999999999997, 532.1, 290.1, 228.29999999999998, 114.6, 75.99999999999999, 146.6, 168.29999999999998, 427.70000000000005, 94.4, 217.39999999999998, 68.9, 54.6, 197.00000000000003, 199.9, 48.5, 238.79999999999998, 66.39999999999999, 246.10000000000002, 116.9, 129.7, 332.6, 153.3, 162.2, 60.0, 311.6, 241.0, 140.6, 69.7, 226.50000000000003, 103.0, 251.60000000000002, 158.0, 103.60000000000001, 180.70000000000002, 94.80000000000001, 163.99999999999997, 124.7, 139.0, 61.99999999999999, 86.0, 41.4, 35.699999999999996, 107.4, 238.7, 214.49999999999997, 92.1, 156.0, 119.6, 104.1, 72.6, 83.69999999999999, 111.69999999999999, 115.60000000000001, 121.9, 207.3, 70.2, 196.3, 67.5, 84.39999999999999, 210.8, 21.400000000000002, 82.39999999999999, 242.3, 143.6, 201.0, 251.4, 128.5, 324.40000000000003, 181.59999999999997, 105.19999999999999, 94.79999999999998, 80.5, 56.3, 46.39999999999999, 86.5, 225.0, 93.30000000000001, 60.89999999999999, 431.09999999999997, 298.29999999999995, 123.39999999999999, 184.70000000000002, 161.3, 157.9, 311.90000000000003, 35.2, 37.0, 209.0, 222.20000000000002, 177.4, 152.0, 104.5, 34.2, 64.7, 133.9, 247.0, 145.8, 74.0, 99.10000000000001, 176.79999999999998, 292.6, 165.6, 208.79999999999998, 192.1, 46.400000000000006, 35.1, 110.3, 119.7, 205.1, 207.8, 160.6, 129.9, 155.4, 153.7, 223.6, 237.2, 216.60000000000002, 58.099999999999994, 85.6, 98.6, 202.4, 129.9, 216.2, 138.2, 149.4, 146.40000000000003, 133.4, 259.4, 188.10000000000002, 92.50000000000001, 166.20000000000002, 153.3, 141.5, 251.4, 145.89999999999998, 138.3, 94.3, 66.7, 37.4, 199.8, 158.2, 98.2, 197.8, 132.5, 163.9, 145.89999999999998, 69.4, 119.5, 145.79999999999998, 28.0, 157.3, 135.2, 72.50000000000001, 101.30000000000001, 76.6, 114.8, 105.80000000000001, 234.4, 137.0, 147.3, 20.9, 103.6, 81.6, 56.50000000000001, 69.0, 92.39999999999999, 113.4, 116.0, 95.9, 156.2, 146.3, 154.2, 39.8, 68.4, 175.8, 55.7, 23.299999999999997, 73.9, 149.7, 109.3, 34.6, 238.5, 144.09999999999997, 96.3, 20.299999999999997, 150.1, 120.5, 235.9, 124.0, 115.0, 51.0, 108.89999999999999, 15.399999999999999, 101.8, 116.5, 60.8, 72.6, 233.90000000000003, 119.8, 76.3, 87.9, 97.7, 183.20000000000002, 61.5, 56.7, 84.69999999999999, 52.300000000000004, 7.7, 4.8, 154.6, 76.4, 54.599999999999994, 46.10000000000001, 130.3, 149.79999999999998, 346.7, 166.1, 123.8, 225.6, 32.099999999999994, 141.2, 105.30000000000001, 82.0, 167.7, 270.79999999999995, 66.2, 212.0, 181.6, 80.5, 133.7, 176.1, 138.9, 197.6, 78.2, 143.5, 221.50000000000003, 131.5, 81.2, 154.00000000000003, 119.9, 73.9, 43.9, 161.3, 158.9, 120.0, 126.5, 74.60000000000001, 150.9, 143.7, 83.1, 82.80000000000001, 103.5, 190.7, 49.300000000000004, 125.8, 185.0, 92.6, 92.1, 108.1, 82.4, 242.3, 139.60000000000002, 96.9, 56.800000000000004, 22.500000000000004, 169.10000000000002, 125.5, 102.19999999999999, 158.79999999999998, 47.900000000000006, 182.6, 121.0, 230.20000000000002, 298.70000000000005, 211.79999999999998, 42.5, 150.1, 115.5, 67.8, 60.1, 55.3, 122.0, 214.0, 103.7, 201.89999999999998, 97.0, 220.1, 99.30000000000001, 70.9, 227.39999999999998, 79.49999999999999, 112.89999999999999, 135.3, 300.4, 357.90000000000003, 137.10000000000002, 224.3, 107.80000000000001, 76.30000000000001, 59.1, 189.5, 112.7, 175.89999999999998, 108.0, 201.5, 62.900000000000006, 181.2, 34.6, 117.4, 163.0, 25.0, 153.9, 286.4, 101.60000000000001, 102.9, 517.1, 651.7, 567.8, 267.09999999999997, 459.6, 514.1999999999999, 502.29999999999995, 452.6, 286.3, 435.2, 443.5, 540.1, 518.4, 639.0999999999999, 408.79999999999995, 473.19999999999993, 448.70000000000005, 525.2, 665.8999999999999, 711.9, 431.0, 814.8000000000001, 436.0, 380.6, 681.3000000000001, 353.6, 390.9, 550.6, 578.0999999999999, 697.3000000000001, 639.4, 621.6999999999999, 543.7, 467.79999999999995, 534.6, 457.0, 580.8000000000001, 240.7, 532.8000000000001, 652.6999999999999, 479.1, 502.7, 607.7, 623.6, 457.40000000000003, 888.9000000000001, 328.59999999999997, 420.40000000000003, 335.3, 335.1, 365.40000000000003, 372.20000000000005, 532.5999999999999, 457.90000000000003, 465.49999999999994, 553.0, 526.1, 373.70000000000005, 467.19999999999993, 600.7, 365.5, 506.0, 522.5999999999999, 444.1, 476.0, 685.0, 512.8, 317.79999999999995, 635.8000000000001, 478.5, 498.40000000000003, 605.5, 417.59999999999997, 229.89999999999998, 341.8, 475.70000000000005, 730.4, 640.8000000000001, 613.0, 367.4, 445.79999999999995, 348.0, 743.3, 413.6, 518.6, 398.9, 580.0, 253.09999999999997, 473.6, 422.70000000000005, 484.2, 490.20000000000005, 733.6, 530.5, 270.9, 503.49999999999994, 579.5, 600.4, 619.5, 403.49999999999994, 178.3, 175.5, 159.1, 540.2, 850.3, 498.1, 753.5, 640.2, 496.9, 624.7, 477.5, 358.5, 315.0, 461.3, 790.2, 732.7, 663.1, 629.0, 398.2, 502.09999999999997, 580.0999999999999, 648.5999999999999, 439.4, 467.2, 662.6, 563.7, 659.2, 603.8, 693.6, 543.8, 593.8, 642.8, 665.6999999999999, 647.0999999999999, 723.3000000000002, 522.6, 689.4000000000001, 417.40000000000003, 487.29999999999995, 675.3999999999999, 425.4, 410.1, 630.9, 608.6, 752.9, 468.1, 844.9000000000001, 689.3, 484.49999999999994, 721.3999999999999, 547.8, 674.6, 358.19999999999993, 654.0000000000001, 638.5000000000001, 557.0, 713.5, 769.5, 649.3000000000001, 646.9, 888.9000000000001, 362.6, 425.59999999999997, 387.70000000000005, 463.1, 577.6, 510.3, 594.7, 435.90000000000003, 610.8, 583.5, 582.5, 435.5, 448.5, 694.0, 500.3, 708.8, 500.5, 573.4999999999999, 548.5, 727.2, 404.8, 359.5, 477.6, 434.6, 334.1, 618.9, 422.1, 296.7, 615.7, 583.9, 854.8000000000001, 619.7, 470.5, 526.4, 469.6, 305.3, 513.9, 468.29999999999995, 358.4, 375.4, 675.6, 207.0, 444.2, 535.7, 413.40000000000003, 619.9, 700.7, 606.6, 407.3, 486.2, 691.9, 706.1999999999999, 731.9, 413.2, 559.8000000000001, 785.0, 541.5, 496.1, 580.0999999999999, 554.4, 704.8, 483.19999999999993, 574.8, 913.5999999999999, 485.79999999999995, 403.69999999999993, 464.59999999999997, 561.2, 696.4, 517.1, 651.7, 567.8, 267.09999999999997, 459.6, 514.1999999999999, 502.29999999999995, 452.6, 286.3, 435.2, 443.5, 540.1, 518.4, 639.0999999999999, 408.79999999999995, 473.19999999999993, 448.70000000000005, 525.2, 665.8999999999999, 711.9, 431.0, 814.8000000000001, 436.0, 380.6, 681.3000000000001, 353.6, 390.9, 550.6, 578.0999999999999, 697.3000000000001, 639.4, 621.6999999999999, 543.7, 467.79999999999995, 534.6, 457.0, 580.8000000000001, 240.7, 532.8000000000001, 652.6999999999999, 479.1, 502.7, 607.7, 623.6, 457.40000000000003, 888.9000000000001, 328.59999999999997, 420.40000000000003, 335.3, 335.1, 365.40000000000003, 372.20000000000005, 532.5999999999999, 457.90000000000003, 465.49999999999994, 553.0, 526.1, 373.70000000000005, 467.19999999999993, 600.7, 365.5, 506.0, 522.5999999999999, 444.1, 476.0, 685.0, 512.8, 317.79999999999995, 635.8000000000001, 478.5, 498.40000000000003, 605.5, 417.59999999999997, 229.89999999999998, 341.8, 475.70000000000005, 730.4, 640.8000000000001, 613.0, 367.4, 445.79999999999995, 348.0, 743.3, 413.6, 518.6, 398.9, 580.0, 253.09999999999997, 473.6, 422.70000000000005, 484.2, 490.20000000000005, 733.6, 530.5, 270.9, 503.49999999999994, 579.5, 600.4, 619.5, 403.49999999999994, 178.3, 175.5, 159.1, 540.2, 850.3, 498.1, 753.5, 640.2, 496.9, 624.7, 477.5, 358.5, 315.0, 461.3, 853.8000000000001, 43.2, 50.0, 557.5, 274.6, 166.6, 204.39999999999998, 78.19999999999999, 51.1, 80.7, 455.40000000000003, 262.1, 176.70000000000002, 107.6, 234.5, 160.70000000000002, 212.4, 168.39999999999998, 142.0, 144.39999999999998, 101.10000000000001, 99.2, 127.70000000000002, 259.3, 125.4, 175.3, 138.1, 540.3000000000001, 242.2, 223.7, 153.0, 211.90000000000003, 128.2, 294.20000000000005, 118.89999999999999, 120.1, 219.5, 168.89999999999998, 127.19999999999999, 164.1, 119.7, 219.29999999999998, 80.89999999999999, 264.4, 159.5, 202.60000000000002, 238.59999999999997, 154.4, 203.1, 212.8, 162.9, 139.3, 94.1, 190.7, 231.79999999999995, 382.0, 580.1, 81.9, 364.9, 286.1, 454.9, 492.29999999999995, 66.5, 63.49999999999999, 82.7, 117.9, 132.10000000000002, 181.89999999999998, 79.4, 208.6, 128.89999999999998, 237.7, 111.80000000000001, 173.0, 173.5, 89.0, 41.7, 309.0, 194.9, 134.10000000000002, 139.0, 228.8, 131.9, 296.40000000000003, 54.8, 442.0, 156.4, 192.6, 166.40000000000003, 170.59999999999997, 100.69999999999999, 96.69999999999999, 255.9, 112.1, 103.8, 208.8, 129.9, 112.30000000000001, 93.7, 152.4, 30.8, 193.7, 157.1, 77.9, 183.5, 62.599999999999994, 207.39999999999998, 25.7, 28.3, 194.10000000000002, 63.400000000000006, 44.19999999999999, 166.1, 359.7, 301.9, 183.9, 344.9, 246.0, 440.9, 474.4, 534.4, 523.5, 175.2, 83.1, 376.5, 487.5999999999999, 637.5999999999999, 665.8000000000001, 496.69999999999993, 302.0, 313.8, 672.8, 768.1, 144.9, 555.8, 428.4, 283.1, 319.4, 191.29999999999998, 432.19999999999993, 501.8, 391.2, 246.5, 608.2, 957.3000000000001, 476.70000000000005, 394.0999999999999, 585.0, 398.8, 403.6, 139.3, 400.0, 540.0, 262.0, 705.5, 146.5, 579.7, 406.90000000000003, 365.79999999999995, 230.89999999999998, 543.1, 685.9, 418.20000000000005, 567.0, 508.59999999999997, 426.70000000000005, 500.7, 506.99999999999994, 259.2, 234.69999999999996, 435.79999999999995, 646.5999999999999, 215.5, 501.9, 769.4000000000001, 307.29999999999995, 333.9, 265.0, 361.09999999999997, 437.6, 235.7, 450.79999999999995, 289.0, 646.5000000000001, 244.89999999999998, 437.1, 703.4, 330.1, 755.8999999999999, 436.30000000000007, 507.0, 367.09999999999997, 674.9, 402.0, 668.9, 605.0999999999999, 335.3, 346.0, 436.9, 425.1, 433.6, 711.2, 423.3, 360.1, 651.9000000000001, 547.1, 454.90000000000003, 387.29999999999995, 690.5999999999999, 356.09999999999997, 614.6, 480.8, 585.7, 528.0, 643.4, 294.3, 687.8, 486.2, 718.3999999999999, 727.3, 708.8999999999999, 432.70000000000005, 379.1, 319.79999999999995, 458.09999999999997, 353.8, 252.39999999999998, 351.1, 699.3000000000001, 229.7, 291.8, 666.5, 697.6999999999999, 837.0, 499.69999999999993, 477.6, 519.4, 449.00000000000006, 354.5, 141.1, 738.2, 459.7, 544.3000000000001, 500.0, 425.0, 740.3, 974.1999999999999, 769.1999999999999, 511.6, 788.3, 530.8, 499.09999999999997, 860.0, 668.3, 591.6999999999999, 843.5, 256.2, 509.70000000000005, 721.7, 595.2, 925.9000000000001, 915.3, 536.7, 634.0, 446.4, 543.3, 663.0, 551.5, 392.5999999999999, 938.1999999999999, 581.7, 696.5999999999999, 467.1, 879.1999999999999, 676.4000000000001, 434.79999999999995, 840.2, 509.90000000000003, 528.0, 549.5, 421.5, 315.1, 553.3, 630.7, 627.6999999999999, 608.1999999999999, 766.8000000000002, 333.70000000000005, 1008.3000000000001, 421.5, 498.6, 566.1999999999999, 763.1, 607.5, 350.9, 270.9, 749.2, 381.8, 548.4, 944.1999999999999, 425.1, 451.6, 855.5, 504.29999999999995, 550.8999999999999, 825.2, 779.3000000000002, 855.8, 506.30000000000007, 568.7, 567.9, 340.8, 549.3, 632.1999999999999, 455.7, 772.1999999999999, 497.29999999999995, 934.4, 306.8, 443.70000000000005, 722.4000000000001, 736.8000000000001, 580.8000000000001, 679.0, 890.1, 582.9, 863.6000000000001, 589.5, 649.1999999999999, 441.90000000000003, 344.3, 782.2, 481.29999999999995, 636.1, 416.1, 953.4, 433.5, 720.7, 459.70000000000005, 471.4, 890.0, 379.5, 767.1, 702.0, 404.29999999999995, 877.6, 246.1, 624.1999999999999, 533.3000000000001, 357.70000000000005, 244.5, 240.90000000000003, 109.10000000000001, 92.4, 206.09999999999997, 521.3, 303.1, 416.90000000000003, 284.2, 434.5, 558.3, 1034.1, 925.9000000000001, 306.2, 516.4000000000001, 110.7, 315.7, 713.7, 72.0, 350.9, 602.8, 151.1, 799.0000000000001, 515.8, 387.9, 467.2, 1394.1, 688.1, 554.9, 421.6000000000001, 460.09999999999997, 710.0, 596.1, 838.8000000000001, 261.59999999999997, 656.1, 249.4, 292.4, 830.3, 542.6, 182.3, 843.8, 278.0, 797.1999999999999, 437.20000000000005, 340.20000000000005, 681.3000000000001, 290.49999999999994, 463.7, 170.5, 770.8, 795.2, 378.0, 369.69999999999993, 672.1, 360.9, 828.5000000000001, 579.0, 408.09999999999997, 385.4, 217.2, 490.3, 649.7, 301.99999999999994, 232.20000000000002, 225.79999999999998, 315.99999999999994, 167.2, 491.50000000000006, 745.1, 601.1, 283.20000000000005, 759.7, 549.3000000000001, 425.7, 284.7, 369.59999999999997, 361.3, 423.8, 472.49999999999994, 614.9000000000001, 258.40000000000003, 709.2, 304.7, 209.0, 782.2, 91.5, 303.8, 792.8999999999999, 606.5, 592.8000000000001, 687.3000000000001, 828.3999999999999, 841.1000000000001, 607.6000000000001, 245.9, 555.3, 229.29999999999998, 185.59999999999997, 336.90000000000003, 425.5, 422.29999999999995, 193.0, 185.80000000000004, 931.8, 641.0999999999999, 218.89999999999998, 436.5, 669.3, 489.9, 274.0, 275.7, 302.8, 339.9, 574.8, 432.5, 353.20000000000005, 217.6, 312.90000000000003, 375.70000000000005, 369.70000000000005, 409.20000000000005, 397.70000000000005, 544.2, 364.0, 337.2, 588.3, 359.79999999999995, 185.4, 536.1999999999999, 397.0, 324.09999999999997, 293.20000000000005, 376.3, 507.4, 457.29999999999995, 440.29999999999995, 312.9, 385.0, 343.1, 447.8, 477.0, 287.1, 335.29999999999995, 530.4, 357.1, 335.6, 489.20000000000005, 452.0, 536.6, 297.9, 295.8, 438.6, 268.1, 312.90000000000003, 480.6, 421.19999999999993, 462.29999999999995, 303.2, 334.6, 395.59999999999997, 499.5, 523.2, 272.79999999999995, 478.6, 530.6, 425.5, 262.5, 509.1, 387.8, 457.8, 164.5, 185.70000000000002, 490.09999999999997, 437.8, 281.2, 527.6, 315.90000000000003, 244.7, 605.2, 651.7, 354.0, 149.6, 475.9, 293.0, 519.8, 175.89999999999998, 260.7, 174.5, 289.29999999999995, 327.7, 182.89999999999998, 388.0, 249.7, 288.0, 104.7, 558.9, 369.79999999999995, 423.20000000000005, 590.8, 443.9, 473.09999999999997, 520.3, 440.30000000000007, 222.9, 477.2, 376.6, 303.8, 180.40000000000003, 440.2, 297.69999999999993, 417.19999999999993, 270.1, 239.6, 279.6, 238.9, 198.4, 367.30000000000007, 186.79999999999995, 279.2, 330.5, 150.2, 218.9, 174.7, 123.19999999999999, 191.8, 275.7, 302.8, 339.9, 574.8, 432.5, 353.20000000000005, 217.6, 312.90000000000003, 375.70000000000005, 369.70000000000005, 409.20000000000005, 397.70000000000005, 544.2, 364.0, 337.2, 588.3, 359.79999999999995, 185.4, 536.1999999999999, 397.0, 324.09999999999997, 293.20000000000005, 376.3, 507.4, 457.29999999999995, 440.29999999999995, 312.9, 385.0, 343.1, 447.8, 477.0, 287.1, 335.29999999999995, 530.4, 357.1, 335.6, 489.20000000000005, 452.0, 536.6, 297.9, 295.8, 438.6, 268.1, 312.90000000000003, 480.6, 421.19999999999993, 462.29999999999995, 303.2, 334.6, 395.59999999999997, 499.5, 523.2, 272.79999999999995, 478.6, 530.6, 425.5, 262.5, 509.1, 387.8, 457.8, 164.5, 185.70000000000002, 490.09999999999997, 437.8, 281.2, 527.6, 315.90000000000003, 244.7, 605.2, 651.7, 354.0, 149.6, 475.9, 293.0, 519.8, 175.89999999999998, 260.7, 174.5, 289.29999999999995, 327.7, 182.89999999999998, 388.0, 249.7, 288.0, 104.7, 558.9, 369.79999999999995, 423.20000000000005, 590.8, 443.9, 473.09999999999997, 520.3, 440.30000000000007, 222.9, 477.2, 376.6, 303.8, 180.40000000000003, 440.2, 297.69999999999993, 417.19999999999993, 270.1, 239.6, 279.6, 238.9, 198.4, 367.30000000000007, 186.79999999999995, 279.2, 330.5, 150.2, 218.9, 174.7, 123.19999999999999, 139.40000000000003, 25.400000000000002, 27.799999999999997, 69.39999999999999, 14.399999999999999, 43.9, 57.099999999999994, 9.3, 5.5, 16.9, 101.1, 6.0, 64.0, 16.0, 54.8, 166.3, 77.10000000000001, 443.4, 14.6, 145.3, 0.8, 5.6, 31.3, 3.7, 22.8, 32.699999999999996, 15.700000000000001, 90.7, 82.0, 57.400000000000006, 67.20000000000002, 182.5, 76.1, 34.1, 42.2, 26.6, 93.6, 32.7, 61.1, 55.800000000000004, 162.4, 46.300000000000004, 0.7000000000000001, 69.9, 35.5, 6.0, 51.99999999999999, 33.0, 103.00000000000001, 29.9, 4.5, 41.0, 23.6, 16.5, 38.9, 60.800000000000004, 176.50000000000003, 39.3, 106.0, 250.10000000000002, 20.299999999999997, 30.6, 28.800000000000004, 137.9, 14.1, 6.2, 90.30000000000001, 52.400000000000006, 16.5, 19.200000000000003, 24.0, 11.5, 2.5, 14.2, 71.50000000000001, 156.8, 92.00000000000001, 20.1, 89.4, 207.89999999999998, 30.3, 191.79999999999998, 210.9, 100.1, 7.4, 166.70000000000002, 4.0, 31.9, 15.3, 10.799999999999999, 44.599999999999994, 3.8000000000000003, 39.5, 90.0, 4.9, 49.199999999999996, 64.7, 11.9, 268.6, 162.5, 12.2, 40.900000000000006, 8.4, 5.1000000000000005, 41.9, 5.8, 16.9, 4.6, 28.4, 40.599999999999994, 130.89999999999998, 1.8000000000000003, 13.5, 88.30000000000001, 25.7, 65.3, 275.7, 302.8, 339.9, 574.8, 432.5, 353.20000000000005, 217.6, 312.90000000000003, 375.70000000000005, 369.70000000000005, 409.20000000000005, 397.70000000000005, 544.2, 364.0, 337.2, 588.3, 359.79999999999995, 185.4, 536.1999999999999, 397.0, 324.09999999999997, 293.20000000000005, 376.3, 507.4, 457.29999999999995, 440.29999999999995, 312.9, 385.0, 343.1, 447.8, 477.0, 287.1, 335.29999999999995, 530.4, 357.1, 335.6, 489.20000000000005, 452.0, 536.6, 297.9, 295.8, 438.6, 268.1, 312.90000000000003, 480.6, 421.19999999999993, 462.29999999999995, 303.2, 334.6, 395.59999999999997, 499.5, 523.2, 272.79999999999995, 478.6, 530.6, 425.5, 262.5, 509.1, 387.8, 457.8, 164.5, 185.70000000000002, 490.09999999999997, 437.8, 281.2, 527.6, 315.90000000000003, 244.7, 605.2, 651.7, 354.0, 149.6, 475.9, 293.0, 519.8, 175.89999999999998, 260.7, 174.5, 289.29999999999995, 327.7, 182.89999999999998, 388.0, 249.7, 288.0, 104.7, 558.9, 369.79999999999995, 423.20000000000005, 590.8, 443.9, 473.09999999999997, 520.3, 440.30000000000007, 222.9, 477.2, 376.6, 303.8, 180.40000000000003, 440.2, 297.69999999999993, 417.19999999999993, 270.1, 239.6, 279.6, 238.9, 198.4, 367.30000000000007, 186.79999999999995, 279.2, 330.5, 150.2, 218.9, 174.7, 123.19999999999999, 272.3, 68.2, 126.89999999999999, 332.0, 126.79999999999998, 93.8, 165.7, 89.4, 68.5, 83.29999999999998, 261.0, 234.10000000000002, 210.20000000000002, 110.7, 205.60000000000002, 244.9, 411.29999999999995, 175.10000000000002, 254.7, 247.29999999999998, 56.800000000000004, 82.89999999999999, 134.6, 111.8, 142.2, 213.1, 232.20000000000002, 424.1, 333.3, 84.6, 141.6, 368.6, 130.3, 155.7, 132.5, 133.3, 323.4, 222.3, 254.3, 70.10000000000001, 256.90000000000003, 198.2, 175.4, 370.70000000000005, 180.8, 67.5, 418.6, 190.29999999999998, 229.5, 276.4, 152.2, 107.5, 61.599999999999994, 96.3, 128.70000000000002, 300.5, 391.6, 67.60000000000001, 259.3, 248.8, 228.60000000000002, 301.8, 123.19999999999999, 109.10000000000001, 54.3, 62.900000000000006, 158.89999999999998, 255.3, 54.5, 245.89999999999998, 73.3, 171.5, 117.3, 134.9, 214.70000000000002, 178.3, 95.69999999999999, 333.6, 276.29999999999995, 194.5, 123.89999999999999, 245.20000000000002, 164.5, 237.90000000000003, 80.80000000000001, 438.0, 194.1, 216.0, 112.9, 77.30000000000001, 110.8, 18.4, 113.10000000000001, 89.8, 141.8, 123.5, 113.99999999999999, 493.5, 153.9, nan, 11.899999999999999, 227.39999999999998, 147.3, 64.5, 178.3, 129.3, 111.3, 55.8, 62.5, 363.00000000000006, 61.400000000000006, 48.2, 122.10000000000001, 361.30000000000007, 318.8, 59.4, 25.400000000000002, 27.799999999999997, 69.39999999999999, 14.399999999999999, 43.9, 57.099999999999994, 9.3, 5.5, 16.9, 101.1, 6.0, 64.0, 16.0, 54.8, 166.3, 77.10000000000001, 443.4, 14.6, 145.3, 0.8, 5.6, 31.3, 3.7, 22.8, 32.699999999999996, 15.700000000000001, 90.7, 82.0, 57.400000000000006, 67.20000000000002, 182.5, 76.1, 34.1, 42.2, 26.6, 93.6, 32.7, 61.1, 55.800000000000004, 162.4, 46.300000000000004, 0.7000000000000001, 69.9, 35.5, 6.0, 51.99999999999999, 33.0, 103.00000000000001, 29.9, 4.5, 41.0, 23.6, 16.5, 38.9, 60.800000000000004, 176.50000000000003, 39.3, 106.0, 250.10000000000002, 20.299999999999997, 30.6, 28.800000000000004, 137.9, 14.1, 6.2, 90.30000000000001, 52.400000000000006, 16.5, 19.200000000000003, 24.0, 11.5, 2.5, 14.2, 71.50000000000001, 156.8, 92.00000000000001, 20.1, 89.4, 207.89999999999998, 30.3, 191.79999999999998, 210.9, 100.1, 7.4, 166.70000000000002, 4.0, 31.9, 15.3, 10.799999999999999, 44.599999999999994, 3.8000000000000003, 39.5, 90.0, 4.9, 49.199999999999996, 64.7, 11.9, 268.6, 162.5, 12.2, 40.900000000000006, 8.4, 5.1000000000000005, 41.9, 5.8, 16.9, 4.6, 28.4, 40.599999999999994, 130.89999999999998, 1.8000000000000003, 13.5, 88.30000000000001, 25.7, 81.49999999999999, 11.7, 26.8, 62.599999999999994, 111.8, 104.19999999999999, 88.0, 37.7, 21.0, 60.7, 209.2, 115.30000000000001, 77.4, 24.9, 141.7, 24.6, 78.3, 129.6, 73.2, 63.5, 24.5, 51.900000000000006, 99.3, 113.2, 68.0, 76.10000000000001, 52.20000000000001, 105.5, 60.0, 73.8, 37.4, 68.7, 47.2, 88.9, 72.89999999999999, 54.3, 109.69999999999999, 56.1, 68.3, 76.9, 67.1, 83.10000000000001, 36.300000000000004, 89.6, 69.9, 16.599999999999998, 68.4, 95.3, 37.5, 50.0, 43.6, 65.6, 44.300000000000004, 134.7, 86.6, 178.10000000000002, 218.60000000000002, 69.2, 73.6, 71.20000000000002, 114.6, 80.8, 21.0, 22.400000000000002, 31.7, 55.3, 53.699999999999996, 137.8, 27.0, 81.10000000000001, 37.8, 37.6, 68.2, 32.1, 62.4, 59.300000000000004, 53.5, 95.0, 84.80000000000001, 42.8, 113.3, 154.9, 68.89999999999999, 25.499999999999996, 6.1000000000000005, 117.80000000000001, 82.9, 58.7, 64.3, 102.2, 58.7, 58.6, 42.900000000000006, 32.0, 70.6, 58.7, 43.599999999999994, 164.8, 117.8, 52.800000000000004, 31.8, 63.1, 59.3, 36.8, 134.8, 33.599999999999994, 126.8, 5.199999999999999, 29.799999999999997, 19.5, 51.699999999999996, 8.899999999999999, 85.10000000000001, 71.8, 111.1, 83.4, 405.5999999999999, 254.99999999999997, 339.20000000000005, 339.5, 398.90000000000003, 393.5, 118.2, 128.0, 387.40000000000003, 406.4, 479.59999999999997, 479.9, 439.0, 228.20000000000002, 289.0, 427.1, 430.59999999999997, 126.69999999999999, 515.6999999999999, 324.1, 260.2, 225.70000000000002, 168.60000000000002, 355.79999999999995, 306.9, 394.0, 281.6, 489.70000000000005, 394.5, 354.9, 285.3, 275.9, 246.7, 422.0, 198.8, 299.4, 339.1, 243.89999999999998, 435.0, 217.6, 333.5, 326.6, 225.70000000000002, 251.0, 323.0, 453.1, 330.29999999999995, 357.0, 338.3, 250.10000000000002, 444.8, 581.0, 271.20000000000005, 344.2, 402.1, 323.70000000000005, 196.10000000000002, 422.0, 360.1, 379.1, 239.59999999999997, 197.40000000000003, 293.6, 357.4, 235.39999999999998, 322.3, 237.2, 268.9, 282.7, 357.20000000000005, 448.5, 228.8, 353.09999999999997, 351.5, 331.1, 194.39999999999998, 302.7, 171.7, 422.5, 294.5, 176.1, 252.5, 245.89999999999998, 381.09999999999997, 166.0, 514.4, 343.0, 341.0, 379.6, 326.5, 399.7, 407.69999999999993, 366.79999999999995, 268.70000000000005, 319.4, 421.59999999999997, 264.5, 280.90000000000003, 325.1, 182.60000000000002, 333.4, 274.70000000000005, 371.0, 579.4000000000001, 291.20000000000005, 232.09999999999997, 368.09999999999997, 201.6, 252.1, 266.9, 96.5, 273.5, 188.9, 104.80000000000001, 133.0, 18.1, 31.4, 72.9, 61.3, 78.0, 88.4, 25.1, 19.4, 49.900000000000006, 123.5, 68.80000000000001, 39.2, 39.60000000000001, 151.5, 106.19999999999999, 66.7, 188.4, 50.1, 58.400000000000006, 18.500000000000004, 10.200000000000001, 41.6, 43.1, 80.89999999999999, 86.8, 18.3, 107.80000000000001, 126.90000000000002, 36.699999999999996, 65.7, 101.0, 22.7, 55.0, 48.800000000000004, 61.400000000000006, 72.0, 31.9, 66.9, 93.3, 46.400000000000006, 49.2, 13.8, 81.5, 52.6, 15.0, 63.4, 118.3, 29.7, 16.7, 15.3, 42.400000000000006, 42.99999999999999, 47.5, 48.6, 121.5, 279.3, 35.0, 57.0, 74.0, 51.800000000000004, 49.800000000000004, 21.0, 37.1, 20.599999999999998, 27.0, 122.4, 97.50000000000001, 15.4, 62.2, 12.399999999999999, 23.1, 16.299999999999997, 11.200000000000001, 93.0, 93.89999999999999, 85.6, 35.3, 96.2, 94.60000000000001, 62.2, 126.6, 86.30000000000001, 46.4, 2.9, 143.0, 37.5, 63.800000000000004, 33.9, 55.800000000000004, 23.7, 43.8, 78.3, 44.2, 58.49999999999999, 43.7, 26.7, 155.5, 114.0, 25.800000000000004, 5.1, 38.900000000000006, 65.19999999999999, 7.6000000000000005, 82.30000000000001, 28.9, 96.2, 4.7, 28.7, 27.900000000000002, 106.2, 2.5, 61.2, 95.8, 105.7, 89.7, 610.4, 957.3, 874.0999999999999, 370.20000000000005, 575.4999999999999, 658.4, 331.79999999999995, 197.7, 368.5, 689.0, 522.5, 685.1999999999999, 574.5, 659.4, 618.4000000000001, 1334.5, 878.4, 597.3000000000001, 775.5, 389.2, 709.4, 733.5, 150.8, 334.9, 661.0999999999999, 283.29999999999995, 624.9, 783.4000000000001, 662.0, 755.6999999999999, 683.3000000000001, 1113.4, 934.4, 519.4000000000001, 706.8, 676.1, 643.5, 304.29999999999995, 757.3000000000001, 865.5, 437.90000000000003, 467.3, 1027.0, 821.6, 338.1, 929.3, 343.9, 676.9, 513.7, 537.4, 527.6, 757.7, 925.3000000000001, 431.1, 745.0000000000001, 1094.1999999999998, 820.5, 453.79999999999995, 349.1, 504.40000000000003, 690.3, 993.7, 655.0999999999999, 620.3, 334.90000000000003, 936.7, 396.49999999999994, 514.0, 674.5000000000001, 532.6000000000001, 352.1, 533.0, 594.9, 557.2, 859.0999999999999, 467.59999999999997, 919.3000000000001, 628.0999999999999, 599.7, 439.4, 430.40000000000003, 477.8, 598.1, 540.9, 549.0000000000001, 501.1, 871.0, 272.3, 340.20000000000005, 612.3000000000001, 469.7, 849.1000000000001, 1014.5, 879.6, 549.4, 726.3, 798.3000000000001, 776.2, 845.5, 547.3, 565.1, 752.0999999999999, 551.8999999999999, 385.9000000000001, 674.6, 557.8000000000001, 865.0, 441.49999999999994, 902.9, 1067.1, nan, 546.5, 626.3, 699.3000000000001, 699.3000000000001]\n",
      "WINTER RAINFALL\n",
      "[980.3000000000001, 729.4000000000001, 699.9999999999999, 572.3, 667.4, 586.6, 1179.8, 602.3, 629.0, 1259.1, 523.0, 489.3, 658.9000000000001, 1044.5, 704.0, 660.6999999999999, 779.1, 907.2999999999998, 759.1, 765.7, 974.7, 428.59999999999997, nan, 839.1, 1155.9, 718.0, 631.7, 765.4, 558.5999999999999, 576.5999999999999, nan, 572.8, 631.0, 569.6999999999999, 607.9, 1265.9, 796.3000000000001, 561.5999999999999, 653.9000000000001, 967.5, nan, 692.6999999999999, 612.1, 428.50000000000006, 566.0, 1133.4, 748.3000000000001, 636.6999999999999, 514.0, 922.8000000000001, 721.3, 483.0999999999999, 659.8000000000001, 807.9000000000001, 766.6, 957.4, 826.3, 650.2, 681.5, 1058.6, 982.2, 646.3000000000001, 659.1, 628.5, 1079.2, 853.3000000000001, 875.8000000000001, 908.3000000000001, 1122.2999999999997, 817.9, 913.3000000000001, 593.6, 407.20000000000005, 352.40000000000003, 907.5, 770.0, 485.90000000000003, 694.3, 963.2, 700.1999999999999, 459.0, 1031.1, 980.3, 564.1999999999999, 539.1, 552.1, 343.7, 562.2, 393.40000000000003, 821.4, 761.0, 460.79999999999995, 982.2, 761.0999999999999, 683.7, 592.6, 649.9, 487.0, 394.2, 893.8, 530.0999999999999, 528.8, 661.3, 488.7, 1183.1999999999998, 721.5, 764.6, 944.1999999999999, 830.9999999999999, 666.4, nan, 273.2, 181.2, 1011.6, 182.2, 317.09999999999997, 542.1999999999999, 147.0, 415.79999999999995, 200.49999999999997, 427.70000000000005, 603.9, 806.2, 426.4, 540.5, 311.59999999999997, 499.5, 351.5, 258.6, 199.5, 486.79999999999995, 418.6, 299.50000000000006, 184.19999999999996, 248.70000000000002, 171.00000000000003, 206.4, 294.3, 451.7, 219.5, 282.90000000000003, 368.3, 304.3, 353.20000000000005, 481.2, 204.29999999999998, 387.8999999999999, nan, 302.7, 772.1, 267.1, 86.8, 358.7, nan, 227.5, 367.69999999999993, 151.4, 137.5, 134.2, 115.9, 142.0, 201.5, 349.4, 267.1, 365.40000000000003, 182.70000000000002, 495.6, 344.4, 469.3, 329.0, 583.8000000000001, 286.5, 163.0, 263.70000000000005, 345.5, 333.4, 210.10000000000002, 230.89999999999998, 215.7, 516.3, 434.00000000000006, 287.2, 325.2, 317.6, 299.0, 202.49999999999997, 201.7, 249.2, 157.4, 218.1, 294.6, 197.89999999999998, 282.20000000000005, 179.8, 261.79999999999995, 254.0, 177.20000000000002, 182.0, 210.5, 137.39999999999998, 133.3, 210.79999999999998, 141.1, 314.8, 211.0, 96.2, 155.9, 289.79999999999995, 126.0, 231.20000000000002, 184.70000000000002, 251.3, 246.59999999999997, 72.4, 114.7, 202.5, 294.4, 295.7, 271.29999999999995, 290.0, 94.89999999999999, 142.60000000000002, 296.8, 289.0, 91.69999999999999, 236.6, 169.70000000000002, 177.5, 149.00000000000003, 125.9, 280.5, 126.80000000000001, 267.5, 199.5, 401.80000000000007, 253.7, 278.1, 189.5, 230.20000000000002, 151.39999999999998, 302.3, 64.4, 228.99999999999997, 184.9, 199.1, 196.3, 131.1, 177.3, 121.9, 141.5, 143.8, 201.0, 360.2, 228.39999999999998, 257.9, 193.6, 193.3, 326.9, 340.40000000000003, 184.9, 191.2, 277.2, 270.1, 141.60000000000002, 266.5, 310.3, 105.60000000000001, 194.7, 138.40000000000003, 190.29999999999998, 231.3, 175.7, 179.10000000000002, 139.2, 167.4, 157.2, 301.2, 309.6, 117.1, 263.0, 310.40000000000003, 202.2, 103.79999999999998, 250.2, 124.8, 289.3, 172.79999999999998, 94.39999999999999, 124.70000000000002, 210.1, 196.19999999999996, 126.30000000000001, 376.2, 214.60000000000002, 259.0, 235.99999999999997, 234.2, 291.4, 224.7, 167.1, 187.0, 194.6, 289.09999999999997, 96.2, 241.70000000000002, 245.5, 112.00000000000001, 244.4, 136.3, 278.70000000000005, 376.70000000000005, 229.5, 134.89999999999998, 246.09999999999997, 145.1, 149.4, 146.5, 60.8, 219.9, 131.3, 51.8, 103.5, 238.9, 122.50000000000001, 245.50000000000003, 233.0, 288.5, 230.0, 198.3, 305.1, 334.1, 255.60000000000002, 244.70000000000002, 224.4, 321.2, 239.1, 282.4, 480.90000000000003, 215.1, 150.0, 206.69999999999996, 193.7, 302.29999999999995, 214.8, 317.0, 436.0, 231.7, 280.5, 232.10000000000002, 329.3, 182.0, 335.2, 308.20000000000005, 233.10000000000002, 143.1, 438.40000000000003, 179.4, 238.29999999999998, 326.2, 358.20000000000005, 231.10000000000002, 200.7, 201.4, 278.5, 178.2, 184.3, 272.2, 372.59999999999997, 342.9, 223.2, 195.8, 332.99999999999994, 395.90000000000003, 408.3, 182.7, 311.59999999999997, 427.1, 354.7, 157.0, 283.4, 356.8, 227.0, 132.5, 130.4, 385.09999999999997, 340.4, 238.7, 364.5, 214.10000000000002, 117.70000000000002, 195.3, 571.7, 274.9, 74.3, 374.79999999999995, 251.0, 354.8, 113.3, 205.1, 93.3, 145.29999999999998, 195.89999999999998, 54.300000000000004, 93.80000000000001, 242.79999999999998, 164.70000000000002, 79.7, 476.9, 252.7, 378.90000000000003, 360.7, 337.9, 382.69999999999993, 288.2, 190.9, 134.4, 293.3, 218.5, 135.8, 146.9, 285.0, 211.99999999999997, 350.59999999999997, 180.60000000000002, 225.9, 146.0, 221.0, 115.00000000000001, 303.90000000000003, 156.09999999999997, 185.49999999999997, 275.5, 119.7, 193.5, 128.29999999999998, 87.39999999999999, 159.10000000000002, 77.2, 85.5, 145.00000000000003, 186.8, 118.60000000000001, 159.3, 60.5, 40.4, 144.70000000000002, 222.29999999999998, 341.2, 256.1, 213.89999999999998, 59.099999999999994, 136.7, 217.6, 357.2, 55.300000000000004, 177.8, 199.1, 211.4, 93.00000000000001, 79.6, 214.5, 97.6, 133.9, 149.39999999999998, 321.79999999999995, 555.9, 197.60000000000002, 132.3, 327.4, 164.8, 171.70000000000002, 29.8, 121.6, 361.1, 106.9, 153.20000000000002, 28.1, 187.6, 99.30000000000001, 81.6, 86.8, 237.20000000000002, 306.6, 144.8, 253.8, 316.90000000000003, 132.5, 196.60000000000002, 201.39999999999998, 125.9, 94.39999999999999, 76.8, 352.5, 93.3, 250.2, 346.1, 83.4, 168.0, 82.5, 177.2, 154.7, 101.9, 125.3, 174.0, 413.6, 97.9, 92.4, 364.79999999999995, 113.8, 320.90000000000003, 206.70000000000002, 191.0, 156.39999999999998, 364.5, 142.9, 367.90000000000003, 202.89999999999998, 64.8, 111.39999999999999, 178.4, 197.89999999999998, 257.90000000000003, 239.8, 163.9, 120.9, 151.0, 170.6, 109.9, 177.6, 309.2, 112.9, 233.20000000000002, 126.6, 127.69999999999999, 232.99999999999997, 271.9, 110.7, 355.40000000000003, 112.2, 278.5, 231.3, 281.1, 149.70000000000002, 123.5, 130.3, 255.39999999999998, 84.80000000000001, 93.0, 142.3, 218.79999999999998, 54.599999999999994, 125.9, 176.70000000000002, 95.50000000000001, 285.9, 138.0, 57.3, 126.69999999999999, 97.3, 51.0, 112.79999999999998, 224.7, 114.2, 112.2, 177.09999999999997, 36.1, 274.79999999999995, 271.9, 391.9, 76.0, 195.60000000000002, 95.2, 87.3, 81.2, 222.29999999999995, 260.3, 252.10000000000002, 93.69999999999999, 118.9, 228.29999999999998, 201.2, 203.7, 293.49999999999994, 211.10000000000002, 169.29999999999998, 124.39999999999999, 36.7, 171.4, 87.6, 210.79999999999998, 203.3, 100.39999999999999, 222.2, 202.10000000000002, 127.0, 184.9, 189.0, 198.60000000000002, 212.7, 157.79999999999998, 223.2, 195.39999999999998, 193.0, 219.79999999999998, 109.6, 132.5, 316.7, 210.7, 61.1, 297.8, 180.1, 164.20000000000002, 200.5, 171.39999999999998, 212.5, 102.89999999999999, 135.8, 224.10000000000002, 64.2, 238.49999999999997, 91.69999999999999, 85.60000000000002, 232.0, 126.0, 271.0, 112.8, 152.9, 76.9, 161.9, 118.39999999999999, 72.0, 120.6, 31.2, 41.8, 117.0, 79.89999999999999, 202.70000000000002, 254.70000000000002, 187.99999999999997, 64.6, 30.7, 397.29999999999995, 139.8, 73.60000000000001, 100.3, 131.6, 269.0, 77.1, 154.7, 213.49999999999997, 230.20000000000002, 28.700000000000003, 117.2, 55.0, 334.0, 180.8, 226.6, 48.1, 107.9, 26.7, 142.0, 209.5, 71.5, 144.5, 392.2, 130.0, 139.2, 53.0, 51.8, 213.1, 71.69999999999999, 69.8, 106.99999999999999, 38.7, 57.900000000000006, 57.400000000000006, 94.60000000000001, 141.89999999999998, 87.4, 108.49999999999999, 30.599999999999998, 100.0, 268.7, 283.0, 105.10000000000001, 90.9, 43.4, 31.0, 69.60000000000001, 87.8, 182.89999999999998, 105.2, 96.4, 118.6, 251.70000000000002, 289.79999999999995, 177.0, 146.9, 167.8, 108.1, 107.60000000000001, 18.0, 156.7, 159.0, 61.7, 142.6, 107.4, 208.2, 109.10000000000001, 114.6, 162.89999999999998, 148.99999999999997, 182.39999999999998, 149.5, 208.8, 68.0, 41.800000000000004, 82.10000000000001, 127.80000000000001, 55.1, 86.5, 125.7, 219.40000000000003, 29.9, 163.6, 279.40000000000003, 54.3, 169.7, 67.5, 242.19999999999996, 76.2, 65.1, 68.39999999999999, 67.6, 81.60000000000001, 70.4, 111.9, 119.39999999999999, 87.0, 262.00000000000006, 95.1, 102.6, 35.2, 109.89999999999999, 155.70000000000002, 79.39999999999999, 116.8, 31.0, 74.5, 159.0, 69.5, 162.0, 203.1, 59.599999999999994, 44.800000000000004, 68.7, 161.9, 67.8, 26.1, 83.5, 135.4, 159.4, 33.5, 206.2, 159.9, 147.7, 21.599999999999998, 124.7, 60.39999999999999, 274.59999999999997, 151.89999999999998, 90.79999999999998, 33.7, 66.6, 36.8, 86.9, 83.10000000000001, 58.0, 95.1, 291.0, 58.3, 77.39999999999999, 20.3, 34.9, 153.4, 128.5, 26.6, 34.599999999999994, 21.6, 32.7, 51.1, 104.9, 146.1, 86.6, 94.5, 18.9, 112.89999999999999, 133.2, 117.3, 48.900000000000006, 59.300000000000004, 32.4, 49.2, 24.2, 78.00000000000001, 122.70000000000002, 44.900000000000006, 52.3, 101.5, 224.4, 287.40000000000003, 66.1, 88.0, 148.3, 108.29999999999998, 88.8, 10.5, 99.5, 208.4, 32.900000000000006, 57.8, 38.599999999999994, 83.3, 42.6, 64.3, 100.2, 158.0, 169.2, 73.0, 133.7, 114.3, 12.5, 34.6, 48.9, 32.599999999999994, 36.599999999999994, 55.400000000000006, 288.1, 30.3, 164.0, 235.3, 51.599999999999994, 259.9, 79.10000000000001, 158.1, 69.4, 47.599999999999994, 37.20000000000001, 41.0, 123.4, 61.300000000000004, 52.2, 153.4, 95.9, 170.4, 41.1, 54.0, 28.9, 185.9, 174.70000000000002, 128.7, 62.0, 15.4, 77.69999999999999, 112.6, 28.7, 197.39999999999998, 148.29999999999998, 59.0, 57.9, 43.5, 64.4, 29.0, 63.599999999999994, 82.0, 45.3, 105.6, 76.7, 77.80000000000001, 97.6, 122.1, 10.7, 195.20000000000002, 49.099999999999994, 167.89999999999998, 73.4, 34.6, 22.3, 81.80000000000001, 21.8, 78.59999999999998, 44.900000000000006, 31.0, 45.8, 214.5, 61.8, 144.9, 41.2, 102.0, 108.8, 188.3, 45.6, 75.2, 49.9, 87.5, 112.80000000000001, 491.79999999999995, 174.4, 52.8, 53.199999999999996, 82.30000000000001, 29.4, 91.39999999999999, 156.29999999999998, 189.5, 59.1, 116.5, 147.10000000000002, 136.7, 167.0, 225.8, 78.80000000000001, 47.900000000000006, 263.5, 105.5, 245.7, 63.1, 117.9, 121.9, 195.5, 136.6, 35.8, 145.1, 174.8, 33.400000000000006, 73.4, 95.3, 167.7, 123.9, 77.19999999999999, 152.6, 94.39999999999999, 133.8, 29.400000000000002, 69.8, 86.7, 63.3, 96.8, 139.29999999999998, 162.7, 250.10000000000002, 323.0, 568.8, 199.90000000000003, 201.5, 195.0, 221.39999999999998, 272.8, 88.9, 184.60000000000002, 77.0, 50.9, 74.7, 297.4, 133.1, 112.4, 83.4, 132.1, 116.7, 114.39999999999999, 170.4, 34.5, 53.8, 115.69999999999999, 115.5, 74.0, 129.2, 123.6, 133.60000000000002, 84.1, 90.2, 301.40000000000003, 169.10000000000002, 55.6, 172.2, 68.60000000000001, 101.0, 121.3, 91.5, 65.60000000000001, 128.20000000000002, 77.1, 74.0, 48.800000000000004, 109.7, 66.7, 31.5, 76.6, 67.8, 88.7, 141.3, 69.30000000000001, 54.300000000000004, 105.19999999999999, 37.4, 106.2, 62.9, 45.699999999999996, 96.6, 82.0, 139.6, 61.8, 8.1, 24.0, 13.899999999999999, 77.0, 8.7, 19.3, 31.5, 7.9, 55.5, 154.6, 93.80000000000001, 12.1, 13.2, 51.7, 8.700000000000001, 67.7, 118.5, 62.1, 37.4, 22.8, 46.8, 45.8, 92.3, 67.8, 27.6, 3.3000000000000003, 73.8, 59.900000000000006, 58.4, 6.2, 40.5, 16.900000000000002, 40.3, 40.7, 29.3, 28.6, 48.0, 9.6, 29.4, 59.800000000000004, 32.3, 31.800000000000004, 21.6, 67.5, 5.199999999999999, 45.400000000000006, 45.099999999999994, 8.9, 25.4, 9.6, 35.8, 42.7, 33.6, 77.0, 149.4, 189.5, 63.1, 61.8, 46.80000000000001, 84.30000000000001, 62.699999999999996, 12.5, 20.0, 12.9, 14.599999999999998, 7.9, 104.6, 10.5, 36.3, 17.8, 19.900000000000002, 59.80000000000001, 29.2, 50.2, 29.400000000000002, 51.2, 18.5, 28.6, 18.5, 65.4, 64.2, 57.2, 10.6, 4.7, 74.10000000000001, 42.7, 11.0, 52.2, 17.8, 36.1, 41.7, 15.5, 20.1, 39.099999999999994, 16.6, 26.799999999999997, 114.80000000000001, 115.7, 22.3, 19.400000000000002, 23.0, 25.4, 36.5, 69.2, 3.0999999999999996, 10.7, 4.199999999999999, 18.2, 8.8, 18.099999999999998, 8.6, 27.6, 27.7, 32.699999999999996, 61.900000000000006, 7.0, 38.6, 40.599999999999994, 96.1, 15.899999999999999, 50.0, 47.3, 38.9, 69.1, 137.9, 97.69999999999999, 21.599999999999998, 40.400000000000006, 80.2, 24.5, 28.200000000000003, 169.0, 89.60000000000001, 62.3, 21.2, 71.3, 72.4, 91.4, 54.1, 31.4, 6.500000000000001, 61.1, 73.80000000000001, 96.4, 27.8, 41.3, 37.9, 30.5, 83.60000000000001, 23.8, 40.099999999999994, 111.3, 16.7, 39.4, 56.0, 47.2, 100.5, 32.9, 96.0, 9.3, 101.50000000000001, 59.199999999999996, 26.4, 59.0, 24.4, 58.0, 51.1, 41.0, 49.6, 394.50000000000006, 250.6, 72.5, 131.7, 60.599999999999994, 72.5, 71.30000000000001, 22.4, 32.2, 22.7, 15.6, 12.0, 118.39999999999999, 34.2, 44.900000000000006, 9.4, 18.799999999999997, 63.6, 55.2, 37.5, 34.4, 42.6, 32.2, 36.8, 34.3, 117.1, 86.8, 101.7, 16.299999999999997, 10.5, 96.60000000000001, 59.800000000000004, 42.6, 80.30000000000001, 32.0, 42.4, 66.8, 25.2, 30.0, 56.3, 35.7, 34.0, 112.7, 93.5, 26.2, 10.9, 8.6, 16.9, 39.6, 72.8, 15.4, 45.900000000000006, 24.1, 20.8, 10.9, 33.7, 66.2, 22.9, 50.7, 38.5, 148.3, 29.5, 102.6, 126.69999999999999, 182.2, 79.7, 143.0, 53.3, 143.6, 117.4, 344.6, 200.6, 60.599999999999994, 102.1, 208.2, 53.8, 107.5, 218.29999999999998, 227.10000000000002, 106.4, 108.5, 270.6, 184.3, 213.39999999999998, 175.2, 174.6, 61.1, 192.0, 262.8, 332.1, 102.4, 91.6, 144.2, 151.89999999999998, 208.39999999999998, 88.6, 154.39999999999998, 340.7, 75.5, 95.0, 72.5, 124.3, 238.7, 121.6, 294.5, 93.30000000000001, 267.6, 105.39999999999999, 117.5, 230.7, 121.5, 186.39999999999998, 207.39999999999998, 280.1, 235.5, 525.9000000000001, 498.20000000000005, 337.70000000000005, 384.6, 219.5, 231.0, 166.0, 130.2, 308.0, 94.0, 57.2, 116.3, 361.6, 181.1, 128.8, 60.2, 83.6, 223.2, 141.6, 214.10000000000002, 83.4, 122.0, 161.60000000000002, 258.5, 153.8, 207.6, 277.0, 231.7, 87.4, 144.5, 225.70000000000002, 273.7, 130.7, 241.6, 155.8, 190.29999999999998, 171.3, 140.3, 106.7, 147.7, 155.6, 96.19999999999999, 253.8, 236.90000000000003, 156.0, 47.9, 129.8, 52.3, 149.4, 311.20000000000005, 109.1, 96.89999999999999, 185.2, 132.89999999999998, 142.8, 143.3, 105.5, 108.0, 132.8, 140.3, 123.60000000000001, 35.0, 157.1, 178.1, 320.7, 177.60000000000002, 141.79999999999998, 104.2, 188.10000000000002, 252.3, 412.0, 306.6, 141.7, 157.7, 343.29999999999995, 87.0, 105.1, 231.9, 311.1, 211.4, 193.4, 337.1, 275.8, 222.5, 203.8, 137.8, 121.5, 195.3, 363.1, 450.8, 176.9, 156.5, 199.5, 172.5, 272.3, 148.0, 199.20000000000002, 407.6, 160.2, 155.3, 118.0, 246.0, 357.2, 149.4, 262.1, 82.5, 283.5, 150.8, 189.1, 440.3, 126.5, 169.39999999999998, 228.1, 431.5, 114.19999999999999, 328.4, 378.4, 301.8, 248.4, 197.7, 147.5, 137.5, 128.10000000000002, 282.7, 126.1, 85.9, 127.0, 311.2, 234.8, 121.19999999999999, 90.3, 121.7, 343.7, 191.5, 163.3, 117.0, 208.79999999999998, 180.2, 157.2, 221.1, 278.5, 151.9, 334.9, 109.1, 197.7, 304.5, 414.1, 217.2, 180.9, 268.3, 380.1, 228.60000000000002, 201.5, 207.7, 372.5, 261.5, 209.4, 295.8, 234.5, 231.60000000000002, 78.0, 149.39999999999998, 57.4, 304.7, 435.0, 237.20000000000002, 246.8, 202.1, 277.7, nan, 118.1, 207.0, 136.5, 143.89999999999998, 76.5, 170.1, 44.4, 165.0, 154.9, 90.39999999999999, 100.6, 44.2, 15.100000000000001, 26.300000000000004, 25.0, 163.3, 59.2, 169.4, 109.1, 36.699999999999996, 150.50000000000003, 290.79999999999995, 440.70000000000005, 60.3, 169.6, 55.599999999999994, 71.2, 132.6, 8.4, 22.900000000000002, 124.99999999999999, 40.300000000000004, 267.70000000000005, 147.0, 175.7, 147.39999999999998, 532.1, 288.40000000000003, 227.99999999999997, 114.5, 75.89999999999999, 142.5, 163.89999999999998, 427.3, 85.5, 217.09999999999997, 68.9, 54.5, 196.3, 199.9, 48.5, 233.0, 66.19999999999999, 246.0, 116.7, 127.19999999999999, 332.6, 153.3, 156.29999999999998, 57.800000000000004, 311.3, 241.0, 140.29999999999998, 69.7, 226.50000000000003, 97.8, 251.5, 157.8, 103.60000000000001, 180.70000000000002, 94.80000000000001, 156.29999999999998, 124.3, 139.0, 61.99999999999999, 86.0, 41.3, 35.3, 107.4, 238.6, 212.89999999999998, 91.3, 156.0, 118.8, 104.1, 72.6, 83.69999999999999, 111.69999999999999, 115.30000000000001, 121.9, 207.3, 70.2, 196.3, 66.9, 84.3, 210.8, 21.400000000000002, 81.8, 242.3, 143.6, 201.0, 250.6, 128.5, 324.40000000000003, 181.59999999999997, 105.19999999999999, 94.69999999999999, 79.1, 56.3, 44.39999999999999, 76.6, 224.9, 61.7, 60.599999999999994, 431.09999999999997, 298.29999999999995, 123.39999999999999, 179.20000000000002, 154.20000000000002, 121.10000000000001, 167.6, 28.3, 22.7, 168.1, 180.60000000000002, 33.9, 70.10000000000001, 31.1, 25.3, 60.400000000000006, 112.2, 172.1, 28.6, 45.099999999999994, 37.0, 148.2, 202.3, 159.2, 113.5, 167.6, 44.800000000000004, 33.400000000000006, 68.0, 102.7, 204.29999999999998, 97.4, 78.60000000000001, 109.8, 125.30000000000001, 136.2, 144.7, 210.6, 125.80000000000001, 56.599999999999994, 62.599999999999994, 39.3, 114.7, 99.4, 140.2, 84.1, 117.2, 90.7, 127.3, 78.19999999999999, 180.5, 79.20000000000002, 124.30000000000001, 131.1, 129.89999999999998, 160.4, 40.8, 99.5, 89.1, 60.1, 33.0, 178.79999999999998, 99.1, 37.8, 194.3, 87.39999999999999, 114.80000000000001, 119.69999999999999, 55.1, 93.7, 118.99999999999999, 25.799999999999997, 60.50000000000001, 92.80000000000001, 70.30000000000001, 44.5, 40.2, 94.39999999999999, 93.2, 225.3, 118.3, 142.10000000000002, 13.799999999999999, 70.99999999999999, 56.3, 46.300000000000004, 46.7, 51.0, 87.0, 103.5, 86.10000000000001, 100.5, 129.1, 122.9, 29.3, 40.7, 165.0, 54.900000000000006, 10.9, 65.5, 123.10000000000001, 100.1, 32.3, 200.0, 140.89999999999998, 95.69999999999999, 5.3999999999999995, 133.0, 90.7, 216.10000000000002, 102.30000000000001, 88.8, 29.099999999999998, 77.0, 13.099999999999998, 95.9, 102.39999999999999, 54.900000000000006, 48.0, 183.50000000000003, 97.39999999999999, 26.700000000000003, 87.7, 93.10000000000001, 172.4, 44.4, 42.1, 71.19999999999999, 44.5, 1.2999999999999998, 4.8, 146.7, 38.9, 41.199999999999996, 44.900000000000006, 43.9, 145.7, 248.2, 133.5, 53.3, 223.9, 32.0, 141.2, 76.7, 82.0, 167.7, 244.79999999999998, 50.6, 148.9, 116.8, 60.4, 124.6, 134.5, 105.80000000000001, 197.5, 73.4, 49.1, 159.70000000000002, 76.0, 59.2, 142.10000000000002, 111.80000000000001, 50.7, 41.599999999999994, 65.3, 158.9, 98.89999999999999, 105.2, 64.9, 148.5, 94.8, 27.0, 65.60000000000001, 100.5, 177.5, 46.400000000000006, 122.4, 153.6, 77.69999999999999, 91.69999999999999, 75.2, 73.60000000000001, 215.1, 135.3, 91.2, 51.60000000000001, 19.900000000000002, 106.4, 75.4, 100.8, 153.6, 34.1, 167.9, 119.3, 228.4, 280.5, 210.79999999999998, 40.1, 125.10000000000001, 91.5, 62.5, 33.900000000000006, 51.1, 116.1, 201.20000000000002, 99.0, 139.7, 77.6, 212.5, 60.1, 31.599999999999998, 214.39999999999998, 76.99999999999999, 98.0, 122.8, 277.9, 345.3, 116.0, 186.9, 93.9, 58.50000000000001, 37.6, 171.8, 80.10000000000001, 148.7, 79.3, 158.8, 62.800000000000004, 54.0, 32.5, 110.6, 148.5, 24.8, 124.7, 225.2, 58.60000000000001, 42.1, 482.2, 642.2, 567.0, 242.39999999999998, 429.7, 487.99999999999994, 440.4, 433.70000000000005, 262.7, 428.1, 437.79999999999995, 530.3, 510.9, 577.4, 402.5, 401.79999999999995, 417.4, 508.20000000000005, 659.0999999999999, 710.2, 410.4, 762.2, 404.0, 318.80000000000007, 648.7, 314.8, 312.0, 512.0, 496.4, 694.0000000000001, 600.2, 575.5, 532.0, 455.99999999999994, 428.2, 413.59999999999997, 493.90000000000003, 209.7, 519.5, 646.9, 472.5, 473.4, 489.59999999999997, 613.1, 410.00000000000006, 819.7, 308.09999999999997, 416.80000000000007, 250.50000000000003, 307.6, 308.8, 351.6, 471.69999999999993, 446.3, 463.99999999999994, 527.6, 492.9000000000001, 338.8, 436.29999999999995, 585.8, 328.3, 462.1, 505.9, 426.8, 462.5, 643.6, 470.7, 307.09999999999997, 608.6, 429.6, 496.20000000000005, 600.0, 402.0, 190.79999999999998, 333.2, 440.5, 708.3, 584.8000000000001, 597.6, 344.4, 437.09999999999997, 345.9, 510.29999999999995, 396.5, 463.5, 369.0, 548.8000000000001, 225.19999999999996, 427.20000000000005, 408.40000000000003, 484.0, 473.30000000000007, 700.5, 510.5, 262.3, 500.99999999999994, 569.6999999999999, 572.4, 535.6, 379.59999999999997, 152.3, 153.4, 155.4, 504.70000000000005, 797.6999999999999, 488.8, 559.7, 599.2, 494.8, 605.5, 474.9, 297.59999999999997, 300.79999999999995, 437.3, 693.9000000000001, 672.8000000000001, 641.4000000000001, 593.8000000000001, 366.5, 484.79999999999995, 519.5999999999999, 589.5999999999999, 366.3, 418.2, 640.1, 537.5, 633.3000000000001, 578.9, 627.4, 514.0, 466.79999999999995, 605.0, 625.6999999999999, 617.5, 703.6000000000001, 484.9, 609.8000000000001, 347.90000000000003, 393.9, 646.4999999999999, 340.5, 292.9, 542.1999999999999, 558.8, 733.4, 420.20000000000005, 798.7, 639.9, 458.0999999999999, 588.9, 467.9, 542.3, 329.7, 648.7000000000002, 621.2, 529.1, 660.5, 681.3, 626.7, 533.0999999999999, 763.6000000000001, 306.1, 419.3, 302.90000000000003, 415.00000000000006, 508.59999999999997, 469.20000000000005, 501.3, 401.40000000000003, 583.9999999999999, 541.8000000000001, 505.9, 407.8, 395.7, 651.3000000000001, 406.0, 614.2, 425.5, 544.3, 473.9, 702.5, 285.1, 333.7, 434.2, 396.1, 324.1, 606.3, 400.70000000000005, 211.89999999999998, 593.2, 539.9, 808.7, 578.0, 448.8, 491.1, 447.6, 302.9, 358.59999999999997, 432.9, 328.5, 370.3, 620.0, 176.9, 421.4, 498.09999999999997, 412.40000000000003, 582.0, 655.5, 562.8, 383.8, 448.6, 681.6999999999999, 660.9999999999999, 652.6, 377.9, 515.4000000000001, 652.0000000000001, 495.49999999999994, 463.8, 488.9, 541.5, 457.3, 419.09999999999997, 542.4, 843.8, 453.79999999999995, 313.69999999999993, 436.4, 505.3, 635.6, 482.2, 642.2, 567.0, 242.39999999999998, 429.7, 487.99999999999994, 440.4, 433.70000000000005, 262.7, 428.1, 437.79999999999995, 530.3, 510.9, 577.4, 402.5, 401.79999999999995, 417.4, 508.20000000000005, 659.0999999999999, 710.2, 410.4, 762.2, 404.0, 318.80000000000007, 648.7, 314.8, 312.0, 512.0, 496.4, 694.0000000000001, 600.2, 575.5, 532.0, 455.99999999999994, 428.2, 413.59999999999997, 493.90000000000003, 209.7, 519.5, 646.9, 472.5, 473.4, 489.59999999999997, 613.1, 410.00000000000006, 819.7, 308.09999999999997, 416.80000000000007, 250.50000000000003, 307.6, 308.8, 351.6, 471.69999999999993, 446.3, 463.99999999999994, 527.6, 492.9000000000001, 338.8, 436.29999999999995, 585.8, 328.3, 462.1, 505.9, 426.8, 462.5, 643.6, 470.7, 307.09999999999997, 608.6, 429.6, 496.20000000000005, 600.0, 402.0, 190.79999999999998, 333.2, 440.5, 708.3, 584.8000000000001, 597.6, 344.4, 437.09999999999997, 345.9, 510.29999999999995, 396.5, 463.5, 369.0, 548.8000000000001, 225.19999999999996, 427.20000000000005, 408.40000000000003, 484.0, 473.30000000000007, 700.5, 510.5, 262.3, 500.99999999999994, 569.6999999999999, 572.4, 535.6, 379.59999999999997, 152.3, 153.4, 155.4, 504.70000000000005, 797.6999999999999, 488.8, 559.7, 599.2, 494.8, 605.5, 474.9, 297.59999999999997, 300.79999999999995, 437.3, 779.2, 33.3, 46.7, 516.0, 189.6, 17.0, 27.9, 41.699999999999996, 39.5, 77.5, 394.1, 233.8, 43.199999999999996, 39.4, 52.400000000000006, 122.7, 134.5, 151.4, 121.8, 99.3, 96.10000000000001, 89.4, 49.5, 228.5, 124.70000000000002, 66.3, 59.099999999999994, 363.50000000000006, 223.39999999999998, 182.79999999999998, 91.6, 187.00000000000003, 86.1, 250.60000000000002, 76.1, 56.099999999999994, 93.39999999999999, 151.4, 74.4, 53.3, 103.80000000000001, 100.0, 70.2, 71.5, 155.5, 156.4, 196.79999999999998, 113.3, 118.9, 158.5, 87.30000000000001, 49.4, 86.0, 78.30000000000001, 212.89999999999998, 337.5, 532.3, 66.6, 346.3, 215.8, 396.09999999999997, 432.4, 43.9, 53.99999999999999, 51.1, 95.10000000000001, 67.0, 153.5, 60.9, 105.0, 94.79999999999998, 180.49999999999997, 77.5, 163.39999999999998, 138.0, 70.5, 34.900000000000006, 161.4, 102.80000000000001, 96.9, 104.9, 108.5, 118.69999999999999, 243.40000000000003, 52.599999999999994, 352.4, 131.60000000000002, 126.1, 136.3, 41.8, 55.5, 74.0, 192.9, 70.0, 59.699999999999996, 110.10000000000001, 125.8, 57.900000000000006, 85.80000000000001, 119.60000000000001, 23.200000000000003, 127.39999999999999, 74.7, 75.4, 118.69999999999999, 31.7, 30.699999999999996, 22.9, 21.3, 170.20000000000002, 44.800000000000004, 38.099999999999994, 30.8, 266.5, 175.6, 92.7, 211.7, 155.8, 351.3, 257.0, 277.9, 312.5, 125.5, 67.5, 265.70000000000005, 394.4, 448.6, 438.40000000000003, 364.79999999999995, 110.1, 284.9, 583.0, 726.5, 104.6, 261.9, 344.20000000000005, 270.7, 175.0, 178.1, 369.79999999999995, 311.6, 254.39999999999998, 224.5, 516.3000000000001, 853.7, 337.1, 360.49999999999994, 518.1, 318.0, 301.50000000000006, 50.8, 207.8, 488.3, 202.4, 395.9, 126.4, 483.1, 295.20000000000005, 231.6, 184.0, 481.80000000000007, 535.3, 287.90000000000003, 490.9, 428.7, 341.00000000000006, 373.3, 389.29999999999995, 232.79999999999998, 183.59999999999997, 307.2, 576.9, 144.3, 401.9, 678.6000000000001, 166.2, 278.7, 224.0, 321.4, 287.0, 215.6, 303.7, 234.7, 572.6000000000001, 178.0, 333.8, 562.5, 176.9, 575.9, 361.50000000000006, 375.20000000000005, 252.0, 536.0, 324.40000000000003, 463.3, 375.5999999999999, 155.4, 167.59999999999997, 379.79999999999995, 320.6, 406.5, 570.1, 251.10000000000002, 261.7, 280.70000000000005, 424.0, 332.6, 248.7, 465.4, 225.59999999999997, 497.3, 305.29999999999995, 263.8, 501.6, 490.4, 188.90000000000003, 554.0999999999999, 235.2, 649.9, 479.6, 638.4999999999999, 209.5, 253.3, 205.2, 342.59999999999997, 219.5, 173.3, 280.6, 572.9000000000001, 125.1, 153.5, 661.8, 684.0999999999999, 829.9, 391.2, 430.2, 471.0, 437.00000000000006, 353.0, 135.7, 727.1, 440.6, 529.6, 480.79999999999995, 268.8, 733.4, 891.4, 744.0, 455.9, 758.2, 530.5999999999999, 499.09999999999997, 761.7, 660.3, 580.0999999999999, 742.1, 227.4, 455.90000000000003, 672.3000000000001, 514.0, 918.2000000000002, 844.8, 518.8000000000001, 633.2, 439.7, 370.19999999999993, 560.8, 499.9, 344.5999999999999, 858.4, 556.5000000000001, 688.5999999999999, 458.0, 665.9, 676.4000000000001, 413.59999999999997, 834.2, 470.50000000000006, 524.8000000000001, 491.99999999999994, 377.4, 280.00000000000006, 552.1999999999999, 609.8000000000001, 602.9999999999999, 604.3999999999999, 732.4000000000002, 310.6, 992.4000000000001, 391.2, 459.5, 547.1999999999999, 745.7, 595.2, 336.5, 264.5, 642.6, 343.0, 544.4, 895.0999999999999, 361.20000000000005, 418.40000000000003, 843.0, 491.59999999999997, 535.0999999999999, 821.4, 775.5000000000001, 817.7, 456.6000000000001, 559.2, 515.9, 332.2, 522.5, 511.19999999999993, 449.4, 729.5999999999999, 461.2, 911.0, 243.9, 255.70000000000002, 706.3000000000001, 732.5, 530.7000000000002, 643.2, 858.0, 569.4, 820.0000000000001, 521.6999999999999, 640.6999999999999, 364.30000000000007, 314.0, 764.0000000000001, 393.79999999999995, 595.9000000000001, 362.4, 889.9, 427.7, 483.70000000000005, 448.70000000000005, 463.29999999999995, 859.0999999999999, 374.3, 695.1999999999999, 678.5, 384.79999999999995, 762.6, 245.5, 619.1999999999999, 491.90000000000003, 329.3, 227.5, 170.40000000000003, 60.5, 66.7, 203.89999999999998, 513.5999999999999, 239.5, 384.40000000000003, 240.89999999999998, 269.9, 534.5, 816.3, 913.2, 250.39999999999998, 509.1, 110.2, 308.9, 580.4, 56.5, 333.1, 572.6999999999999, 113.2, 696.7, 418.40000000000003, 377.7, 446.5, 1334.5, 617.4, 552.4, 415.70000000000005, 333.19999999999993, 601.9, 518.6, 794.3000000000001, 239.39999999999998, 606.9000000000001, 137.5, 288.7, 649.5999999999999, 542.2, 152.9, 752.1, 250.1, 791.9999999999999, 377.1000000000001, 288.50000000000006, 645.8000000000001, 288.99999999999994, 413.9, 156.5, 764.5, 727.5000000000001, 345.5, 367.99999999999994, 610.0, 339.2, 793.1000000000001, 515.4, 393.7, 373.59999999999997, 193.3, 423.8, 519.8, 299.79999999999995, 209.50000000000003, 190.29999999999998, 314.59999999999997, 155.99999999999997, 482.1, 698.8000000000001, 585.3000000000001, 261.90000000000003, 672.9000000000001, 462.6000000000001, 415.29999999999995, 243.0, 346.9, 350.3, 379.70000000000005, 461.69999999999993, 554.1, 234.00000000000003, 697.1000000000001, 221.9, 193.3, 774.8000000000001, 90.60000000000001, 272.0, 782.1999999999999, 526.2, 585.1, 672.2, 793.1999999999999, 807.2000000000002, 585.5000000000001, 229.3, 541.1999999999999, 212.6, 173.49999999999997, 306.40000000000003, 327.2, 418.99999999999994, 107.49999999999999, 181.50000000000003, 911.6999999999999, 634.6999999999999, 218.79999999999998, 396.1, 471.3, 306.5, 226.5, 238.9, 122.50000000000001, 245.50000000000003, 233.0, 288.5, 230.0, 198.3, 305.1, 334.1, 255.60000000000002, 244.70000000000002, 224.4, 321.2, 239.1, 282.4, 480.90000000000003, 215.1, 150.0, 206.69999999999996, 193.7, 302.29999999999995, 214.8, 317.0, 436.0, 231.7, 280.5, 232.10000000000002, 329.3, 182.0, 335.2, 308.20000000000005, 233.10000000000002, 143.1, 438.40000000000003, 179.4, 238.29999999999998, 326.2, 358.20000000000005, 231.10000000000002, 200.7, 201.4, 278.5, 178.2, 184.3, 272.2, 372.59999999999997, 342.9, 223.2, 195.8, 332.99999999999994, 395.90000000000003, 408.3, 182.7, 311.59999999999997, 427.1, 354.7, 157.0, 283.4, 356.8, 227.0, 132.5, 130.4, 385.09999999999997, 340.4, 238.7, 364.5, 214.10000000000002, 117.70000000000002, 195.3, 571.7, 274.9, 74.3, 374.79999999999995, 251.0, 354.8, 113.3, 205.1, 93.3, 145.29999999999998, 195.89999999999998, 54.300000000000004, 93.80000000000001, 242.79999999999998, 164.70000000000002, 79.7, 476.9, 252.7, 378.90000000000003, 360.7, 337.9, 382.69999999999993, 288.2, 190.9, 134.4, 293.3, 218.5, 135.8, 146.9, 285.0, 211.99999999999997, 350.59999999999997, 180.60000000000002, 225.9, 146.0, 221.0, 115.00000000000001, 303.90000000000003, 156.09999999999997, 185.49999999999997, 275.5, 119.7, 193.5, 128.29999999999998, 87.39999999999999, 144.3, 238.9, 122.50000000000001, 245.50000000000003, 233.0, 288.5, 230.0, 198.3, 305.1, 334.1, 255.60000000000002, 244.70000000000002, 224.4, 321.2, 239.1, 282.4, 480.90000000000003, 215.1, 150.0, 206.69999999999996, 193.7, 302.29999999999995, 214.8, 317.0, 436.0, 231.7, 280.5, 232.10000000000002, 329.3, 182.0, 335.2, 308.20000000000005, 233.10000000000002, 143.1, 438.40000000000003, 179.4, 238.29999999999998, 326.2, 358.20000000000005, 231.10000000000002, 200.7, 201.4, 278.5, 178.2, 184.3, 272.2, 372.59999999999997, 342.9, 223.2, 195.8, 332.99999999999994, 395.90000000000003, 408.3, 182.7, 311.59999999999997, 427.1, 354.7, 157.0, 283.4, 356.8, 227.0, 132.5, 130.4, 385.09999999999997, 340.4, 238.7, 364.5, 214.10000000000002, 117.70000000000002, 195.3, 571.7, 274.9, 74.3, 374.79999999999995, 251.0, 354.8, 113.3, 205.1, 93.3, 145.29999999999998, 195.89999999999998, 54.300000000000004, 93.80000000000001, 242.79999999999998, 164.70000000000002, 79.7, 476.9, 252.7, 378.90000000000003, 360.7, 337.9, 382.69999999999993, 288.2, 190.9, 134.4, 293.3, 218.5, 135.8, 146.9, 285.0, 211.99999999999997, 350.59999999999997, 180.60000000000002, 225.9, 146.0, 221.0, 115.00000000000001, 303.90000000000003, 156.09999999999997, 185.49999999999997, 275.5, 119.7, 193.5, 128.29999999999998, 87.39999999999999, 138.70000000000002, 25.400000000000002, 24.599999999999998, 18.7, 10.999999999999998, 2.9999999999999996, 22.6, 8.8, 1.4000000000000001, 16.9, 46.7, 5.3, 63.8, 2.1, 31.599999999999998, 166.10000000000002, 69.5, 442.59999999999997, 14.5, 138.70000000000002, 0.8, 5.6, 13.2, 3.1, 22.7, 31.499999999999996, 1.9000000000000001, 90.5, 82.0, 56.5, 66.50000000000001, 181.7, 66.3, 32.800000000000004, 42.2, 19.900000000000002, 87.0, 32.6, 46.0, 28.4, 146.4, 11.6, 0.7000000000000001, 62.7, 35.5, 3.5, 51.99999999999999, 32.599999999999994, 102.80000000000001, 29.9, 3.3, 40.7, 23.0, 4.4, 37.8, 60.5, 176.20000000000002, 38.199999999999996, 106.0, 249.4, 7.8999999999999995, 28.500000000000004, 26.900000000000002, 137.9, 13.5, 6.2, 2.0, 49.00000000000001, 16.1, 17.600000000000005, 23.900000000000002, 6.1000000000000005, 1.6, 14.2, 70.80000000000001, 155.7, 91.70000000000002, 18.3, 81.5, 207.7, 29.6, 191.6, 210.8, 100.1, 7.4, 166.4, 3.1, 31.9, 15.1, 4.6, 44.599999999999994, 3.6, 32.9, 90.0, 4.5, 49.199999999999996, 63.9, 11.8, 256.1, 162.4, 12.2, 40.800000000000004, 1.8, 5.1000000000000005, 41.9, 3.0999999999999996, 14.499999999999998, 4.3999999999999995, 28.099999999999998, 40.599999999999994, 129.29999999999998, 1.8000000000000003, 12.2, 87.9, 15.2, 17.799999999999997, 238.9, 122.50000000000001, 245.50000000000003, 233.0, 288.5, 230.0, 198.3, 305.1, 334.1, 255.60000000000002, 244.70000000000002, 224.4, 321.2, 239.1, 282.4, 480.90000000000003, 215.1, 150.0, 206.69999999999996, 193.7, 302.29999999999995, 214.8, 317.0, 436.0, 231.7, 280.5, 232.10000000000002, 329.3, 182.0, 335.2, 308.20000000000005, 233.10000000000002, 143.1, 438.40000000000003, 179.4, 238.29999999999998, 326.2, 358.20000000000005, 231.10000000000002, 200.7, 201.4, 278.5, 178.2, 184.3, 272.2, 372.59999999999997, 342.9, 223.2, 195.8, 332.99999999999994, 395.90000000000003, 408.3, 182.7, 311.59999999999997, 427.1, 354.7, 157.0, 283.4, 356.8, 227.0, 132.5, 130.4, 385.09999999999997, 340.4, 238.7, 364.5, 214.10000000000002, 117.70000000000002, 195.3, 571.7, 274.9, 74.3, 374.79999999999995, 251.0, 354.8, 113.3, 205.1, 93.3, 145.29999999999998, 195.89999999999998, 54.300000000000004, 93.80000000000001, 242.79999999999998, 164.70000000000002, 79.7, 476.9, 252.7, 378.90000000000003, 360.7, 337.9, 382.69999999999993, 288.2, 190.9, 134.4, 293.3, 218.5, 135.8, 146.9, 285.0, 211.99999999999997, 350.59999999999997, 180.60000000000002, 225.9, 146.0, 221.0, 115.00000000000001, 303.90000000000003, 156.09999999999997, 185.49999999999997, 275.5, 119.7, 193.5, 128.29999999999998, 87.39999999999999, 206.90000000000003, 50.9, 123.69999999999999, 238.2, 99.0, 16.9, 32.400000000000006, 52.3, 44.400000000000006, 82.69999999999999, 240.29999999999998, 179.4, 118.50000000000001, 35.300000000000004, 57.5, 209.6, 319.0, 162.8, 212.1, 225.5, 53.1, 72.8, 93.7, 91.69999999999999, 142.2, 151.2, 160.90000000000003, 327.50000000000006, 306.8, 77.8, 101.29999999999998, 316.6, 60.4, 139.1, 112.2, 56.199999999999996, 234.29999999999995, 202.9, 205.9, 27.6, 180.60000000000002, 79.2, 173.6, 166.10000000000002, 180.10000000000002, 32.400000000000006, 366.3, 168.29999999999998, 207.5, 195.8, 80.30000000000001, 60.99999999999999, 56.8, 60.400000000000006, 121.30000000000001, 284.1, 296.40000000000003, 33.7, 253.8, 211.70000000000002, 211.3, 244.5, 95.99999999999999, 96.60000000000001, 35.8, 54.10000000000001, 73.7, 222.70000000000002, 50.4, 159.8, 50.4, 157.2, 82.69999999999999, 125.9, 186.3, 166.20000000000002, 76.3, 208.3, 184.7, 185.3, 88.0, 214.20000000000002, 151.20000000000002, 194.20000000000002, 74.10000000000001, 276.2, 127.4, 191.0, 84.80000000000001, 33.400000000000006, 81.99999999999999, 17.6, 72.9, 73.5, 69.5, 97.2, 112.69999999999999, 454.2, 101.7, 165.7, 7.6000000000000005, 175.39999999999998, 64.3, 64.1, 124.9, 34.7, 62.3, 40.3, 59.599999999999994, 346.30000000000007, 57.400000000000006, 46.9, 24.999999999999996, 254.8, 174.5, 58.7, 25.400000000000002, 24.599999999999998, 18.7, 10.999999999999998, 2.9999999999999996, 22.6, 8.8, 1.4000000000000001, 16.9, 46.7, 5.3, 63.8, 2.1, 31.599999999999998, 166.10000000000002, 69.5, 442.59999999999997, 14.5, 138.70000000000002, 0.8, 5.6, 13.2, 3.1, 22.7, 31.499999999999996, 1.9000000000000001, 90.5, 82.0, 56.5, 66.50000000000001, 181.7, 66.3, 32.800000000000004, 42.2, 19.900000000000002, 87.0, 32.6, 46.0, 28.4, 146.4, 11.6, 0.7000000000000001, 62.7, 35.5, 3.5, 51.99999999999999, 32.599999999999994, 102.80000000000001, 29.9, 3.3, 40.7, 23.0, 4.4, 37.8, 60.5, 176.20000000000002, 38.199999999999996, 106.0, 249.4, 7.8999999999999995, 28.500000000000004, 26.900000000000002, 137.9, 13.5, 6.2, 2.0, 49.00000000000001, 16.1, 17.600000000000005, 23.900000000000002, 6.1000000000000005, 1.6, 14.2, 70.80000000000001, 155.7, 91.70000000000002, 18.3, 81.5, 207.7, 29.6, 191.6, 210.8, 100.1, 7.4, 166.4, 3.1, 31.9, 15.1, 4.6, 44.599999999999994, 3.6, 32.9, 90.0, 4.5, 49.199999999999996, 63.9, 11.8, 256.1, 162.4, 12.2, 40.800000000000004, 1.8, 5.1000000000000005, 41.9, 3.0999999999999996, 14.499999999999998, 4.3999999999999995, 28.099999999999998, 40.599999999999994, 129.29999999999998, 1.8000000000000003, 12.2, 87.9, 15.2, 41.5, 8.1, 24.0, 13.899999999999999, 77.0, 8.7, 19.3, 31.5, 7.9, 55.5, 154.6, 93.80000000000001, 12.1, 13.2, 51.7, 8.700000000000001, 67.7, 118.5, 62.1, 37.4, 22.8, 46.8, 45.8, 92.3, 67.8, 27.6, 3.3000000000000003, 73.8, 59.900000000000006, 58.4, 6.2, 40.5, 16.900000000000002, 40.3, 40.7, 29.3, 28.6, 48.0, 9.6, 29.4, 59.800000000000004, 32.3, 31.800000000000004, 21.6, 67.5, 5.199999999999999, 45.400000000000006, 45.099999999999994, 8.9, 25.4, 9.6, 35.8, 42.7, 33.6, 77.0, 149.4, 189.5, 63.1, 61.8, 46.80000000000001, 84.30000000000001, 62.699999999999996, 12.5, 20.0, 12.9, 14.599999999999998, 7.9, 104.6, 10.5, 36.3, 17.8, 19.900000000000002, 59.80000000000001, 29.2, 50.2, 29.400000000000002, 51.2, 18.5, 28.6, 18.5, 65.4, 64.2, 57.2, 10.6, 4.7, 74.10000000000001, 42.7, 11.0, 52.2, 17.8, 36.1, 41.7, 15.5, 20.1, 39.099999999999994, 16.6, 26.799999999999997, 114.80000000000001, 115.7, 22.3, 19.400000000000002, 23.0, 25.4, 36.5, 69.2, 3.0999999999999996, 10.7, 4.199999999999999, 18.2, 8.8, 18.099999999999998, 8.6, 27.6, 27.7, 32.699999999999996, 33.300000000000004, 289.79999999999995, 126.0, 231.20000000000002, 184.70000000000002, 251.3, 246.59999999999997, 72.4, 114.7, 202.5, 294.4, 295.7, 271.29999999999995, 290.0, 94.89999999999999, 142.60000000000002, 296.8, 289.0, 91.69999999999999, 236.6, 169.70000000000002, 177.5, 149.00000000000003, 125.9, 280.5, 126.80000000000001, 267.5, 199.5, 401.80000000000007, 253.7, 278.1, 189.5, 230.20000000000002, 151.39999999999998, 302.3, 64.4, 228.99999999999997, 184.9, 199.1, 196.3, 131.1, 177.3, 121.9, 141.5, 143.8, 201.0, 360.2, 228.39999999999998, 257.9, 193.6, 193.3, 326.9, 340.40000000000003, 184.9, 191.2, 277.2, 270.1, 141.60000000000002, 266.5, 310.3, 105.60000000000001, 194.7, 138.40000000000003, 190.29999999999998, 231.3, 175.7, 179.10000000000002, 139.2, 167.4, 157.2, 301.2, 309.6, 117.1, 263.0, 310.40000000000003, 202.2, 103.79999999999998, 250.2, 124.8, 289.3, 172.79999999999998, 94.39999999999999, 124.70000000000002, 210.1, 196.19999999999996, 126.30000000000001, 376.2, 214.60000000000002, 259.0, 235.99999999999997, 234.2, 291.4, 224.7, 167.1, 187.0, 194.6, 289.09999999999997, 96.2, 241.70000000000002, 245.5, 112.00000000000001, 244.4, 136.3, 278.70000000000005, 376.70000000000005, 229.5, 134.89999999999998, 246.09999999999997, 145.1, 149.4, 146.5, 60.8, 219.9, 131.3, 51.8, 120.1, 17.4, 22.6, 26.5, 43.8, 1.8, 14.899999999999999, 22.5, 11.5, 48.6, 67.1, 61.800000000000004, 17.700000000000003, 35.900000000000006, 53.0, 102.49999999999999, 51.5, 183.3, 47.1, 49.5, 18.500000000000004, 9.200000000000001, 23.8, 35.0, 80.89999999999999, 37.3, 0.7, 89.0, 125.40000000000002, 33.6, 58.9, 79.89999999999999, 3.8, 33.5, 37.1, 36.3, 33.1, 31.3, 12.1, 45.2, 33.7, 27.1, 13.600000000000001, 34.8, 51.9, 3.6, 58.6, 82.4, 25.799999999999997, 11.100000000000001, 2.7, 34.00000000000001, 42.99999999999999, 9.100000000000001, 38.9, 104.8, 260.7, 33.199999999999996, 53.1, 64.0, 32.1, 36.7, 12.3, 36.300000000000004, 10.0, 11.499999999999998, 6.0, 80.30000000000001, 10.3, 14.5, 11.0, 17.900000000000002, 12.1, 10.8, 90.0, 82.29999999999998, 82.5, 4.9, 40.400000000000006, 85.0, 46.8, 98.8, 81.70000000000002, 43.199999999999996, 1.6, 107.8, 25.2, 48.60000000000001, 30.299999999999997, 1.9, 16.799999999999997, 29.9, 60.199999999999996, 42.1, 38.4, 31.400000000000002, 19.099999999999998, 136.8, 105.7, 24.000000000000004, 3.5, 24.2, 21.299999999999997, 7.6000000000000005, 50.1, 0.1, 11.899999999999999, 3.2, 18.0, 22.700000000000003, 81.5, 2.5, 13.1, 72.5, 18.5, 17.7, 597.7, 956.0999999999999, 854.8, 339.3, 571.5999999999999, 631.9, 313.4, 174.89999999999998, 350.4, 678.5999999999999, 502.69999999999993, 682.3, 571.6, 592.9, 616.4000000000001, 1200.7, 857.0999999999999, 589.2, 773.3000000000001, 381.6, 703.1, 623.9000000000001, 124.1, 302.0, 648.4, 269.2, 463.99999999999994, 737.5000000000001, 641.0, 745.6999999999999, 669.9000000000001, 1078.1, 931.0, 511.80000000000007, 617.4, 619.2, 558.4, 280.29999999999995, 756.2, 843.1, 429.80000000000007, 455.8, 913.3, 820.1, 304.1, 872.5, 324.29999999999995, 663.9, 487.6000000000001, 519.0, 507.70000000000005, 754.7, 877.4, 405.90000000000003, 735.4000000000001, 1076.3999999999999, 796.8, 450.4, 310.40000000000003, 490.5, 666.5, 903.8, 646.5999999999999, 614.9999999999999, 324.90000000000003, 920.1, 355.19999999999993, 506.40000000000003, 661.6, 523.8000000000001, 346.5, 532.6, 580.1, 524.8000000000001, 842.8, 435.4, 895.2, 578.9, 590.1, 407.49999999999994, 427.0, 476.90000000000003, 464.5, 518.6, 522.2, 495.0, 852.9, 229.70000000000002, 334.90000000000003, 608.0, 469.4, 829.0000000000001, 1001.4, 869.7, 546.8, 670.3, 793.0000000000001, 765.3000000000001, 825.6, 543.6, 531.5, 699.0999999999999, 512.0999999999999, 372.30000000000007, 617.6, 541.5, 440.8, 368.99999999999994, 888.6999999999999, 1015.4, nan, 477.00000000000006, 568.6999999999999, 613.9000000000001, 613.9000000000001]\n"
     ]
    }
   ],
   "source": [
    "print(rainfall_data.shape)\n",
    "print(rainfall_data)\n",
    "\n",
    "kharif_months = [\"JUL\",\"AUG\",\"SEP\",\"OCT\"]\n",
    "kharif_rainfall = [0]\n",
    "for month in kharif_months:\n",
    "    kharif_rainfall = kharif_rainfall + rainfall_data[month]\n",
    "print(\"KHARIF RAINFALL\")\n",
    "print(kharif_rainfall)\n",
    "\n",
    "summer_months = [\"APR\",\"MAY\",\"JUN\"]\n",
    "summer_rainfall = [0]\n",
    "for month in summer_months:\n",
    "    summer_rainfall = summer_rainfall + rainfall_data[month]\n",
    "print(\"SUMMER RAINFALL\")\n",
    "print(summer_rainfall)\n",
    "\n",
    "wholeyear_rainfall = rainfall_data[\"ANNUAL\"].copy()\n",
    "print(\"WHOLE YEAR RAINFALL\")\n",
    "\n",
    "autumn_months = [\"SEP\",\"OCT\",\"NOV\"]\n",
    "autumn_rainfall = [0]\n",
    "for month in autumn_months:\n",
    "    autumn_rainfall = autumn_rainfall + rainfall_data[month]\n",
    "print(\"AUTUMN RANFALL\")\n",
    "print(autumn_rainfall)\n",
    "\n",
    "# winter and rabi have one row less as they are sum of months of two consective years\n",
    "# filling those rows with the previous years values\n",
    "\n",
    "\n",
    "rabi_months_1 = [\"OCT\",\"NOV\",\"DEC\"]\n",
    "rabi_months_2 = [\"JAN\",\"FEB\",\"MAR\"]\n",
    "rabi_rainfall_1 = [0]\n",
    "rabi_rainfall_2 = [0]\n",
    "for month in rabi_months_1:\n",
    "    rabi_rainfall_1 = rabi_rainfall_1 + rainfall_data[month]\n",
    "for month in rabi_months_2:\n",
    "    rabi_rainfall_2 = rabi_rainfall_2 + rainfall_data[month]\n",
    "print(rabi_rainfall_1.size)\n",
    "print(rabi_rainfall_2.shape)\n",
    "rabi_rainfall = []\n",
    "for i in range(0,(rabi_rainfall_1.shape[0] - 1)):\n",
    "    value = rabi_rainfall_1.iloc[i] + rabi_rainfall_2.iloc[i+1]\n",
    "    rabi_rainfall.append(value)\n",
    "rabi_rainfall.append(value)\n",
    "print(\"RABI RAINFALL\")\n",
    "print(rabi_rainfall)\n",
    "\n",
    "winter_rainfall_2 = rainfall_data[\"JAN\"].copy()\n",
    "winter_rainfall = []\n",
    "for i in range(0,(rabi_rainfall_1.shape[0] - 1)):\n",
    "    value = rabi_rainfall_1.iloc[i] + winter_rainfall_2.iloc[i+1]\n",
    "    winter_rainfall.append(value)\n",
    "winter_rainfall.append(value)    \n",
    "print(\"WINTER RAINFALL\")\n",
    "print(winter_rainfall)\n"
   ]
  },
  {
   "cell_type": "code",
   "execution_count": 24,
   "metadata": {},
   "outputs": [
    {
     "name": "stdout",
     "output_type": "stream",
     "text": [
      "3772\n",
      "3772\n",
      "3772\n",
      "3772\n",
      "3772\n",
      "3772\n"
     ]
    }
   ],
   "source": [
    "print(len(winter_rainfall))\n",
    "print(len(summer_rainfall))\n",
    "print(len(rabi_rainfall))\n",
    "print(len(kharif_rainfall))\n",
    "print(len(wholeyear_rainfall))\n",
    "print(len(autumn_rainfall))"
   ]
  },
  {
   "cell_type": "markdown",
   "metadata": {},
   "source": [
    "### ADDING THE NEW COLUMNS (SEASONAL RAINFALL) TO RAINFALL DATASET"
   ]
  },
  {
   "cell_type": "code",
   "execution_count": 25,
   "metadata": {},
   "outputs": [],
   "source": [
    "rainfall_data['Kharif'] = kharif_rainfall\n",
    "rainfall_data['Whole Year'] = wholeyear_rainfall\n",
    "rainfall_data['Autumn'] = autumn_rainfall\n",
    "rainfall_data['Summer'] = summer_rainfall\n",
    "rainfall_data['Rabi'] = rabi_rainfall\n",
    "rainfall_data['Winter'] = winter_rainfall"
   ]
  },
  {
   "cell_type": "markdown",
   "metadata": {},
   "source": [
    "> **RETRIEVING THE RAINFALL VALUE FROM SEASONAL COLUMNS OF RAINFALL DATA BASED ON THE CONDITIONAL STATEMENT MATCHING THE STATE_NAME AND YEAR OF CROP_DATA(\"apy.csv\")**"
   ]
  },
  {
   "cell_type": "code",
   "execution_count": 26,
   "metadata": {},
   "outputs": [
    {
     "name": "stdout",
     "output_type": "stream",
     "text": [
      "94    1208.4\n",
      "Name: Kharif, dtype: float64\n"
     ]
    }
   ],
   "source": [
    "# TEST CODE FOR RETRIEVING THE RAINFALL DATA\n",
    "\n",
    "v = rainfall_data['Kharif'].loc[(rainfall_data['SUBDIVISION']==\"Andaman and Nicobar Islands\") & (rainfall_data['YEAR']==2000)]\n",
    "print(v)"
   ]
  },
  {
   "cell_type": "code",
   "execution_count": 27,
   "metadata": {},
   "outputs": [
    {
     "name": "stdout",
     "output_type": "stream",
     "text": [
      "246091\n"
     ]
    }
   ],
   "source": [
    "rainfall = []\n",
    "for index,row in data_crops.iterrows():\n",
    "    state = row[\"State_Name\"]\n",
    "    season = row['Season'].strip()\n",
    "    year = row['Crop_Year']\n",
    "    values = rainfall_data[season].loc[(rainfall_data['SUBDIVISION']==state) & (rainfall_data['YEAR']==year)]\n",
    "    if len(values)>0:\n",
    "        value = values.to_numpy()[0]\n",
    "    else:\n",
    "        value = np.nan\n",
    "    rainfall.append(value)\n",
    "    \n",
    "print(len(rainfall))\n",
    "\n"
   ]
  },
  {
   "cell_type": "code",
   "execution_count": 28,
   "metadata": {},
   "outputs": [],
   "source": [
    "data_crops['Rainfall'] = rainfall"
   ]
  },
  {
   "cell_type": "code",
   "execution_count": 29,
   "metadata": {},
   "outputs": [
    {
     "name": "stdout",
     "output_type": "stream",
     "text": [
      "                         State_Name District_Name  Crop_Year       Season  \\\n",
      "0       Andaman and Nicobar Islands      NICOBARS       2000  Kharif        \n",
      "1       Andaman and Nicobar Islands      NICOBARS       2000  Kharif        \n",
      "2       Andaman and Nicobar Islands      NICOBARS       2000  Kharif        \n",
      "3       Andaman and Nicobar Islands      NICOBARS       2000  Whole Year    \n",
      "4       Andaman and Nicobar Islands      NICOBARS       2000  Whole Year    \n",
      "...                             ...           ...        ...          ...   \n",
      "246086                  West Bengal       PURULIA       2014  Summer        \n",
      "246087                  West Bengal       PURULIA       2014  Summer        \n",
      "246088                  West Bengal       PURULIA       2014  Whole Year    \n",
      "246089                  West Bengal       PURULIA       2014  Winter        \n",
      "246090                  West Bengal       PURULIA       2014  Winter        \n",
      "\n",
      "                       Crop      Area  Production  Rainfall  \n",
      "0                  Arecanut    1254.0      2000.0    1208.4  \n",
      "1       Other Kharif pulses       2.0         1.0    1208.4  \n",
      "2                      Rice     102.0       321.0    1208.4  \n",
      "3                    Banana     176.0       641.0    2763.2  \n",
      "4                 Cashewnut     720.0       165.0    2763.2  \n",
      "...                     ...       ...         ...       ...  \n",
      "246086                 Rice     306.0       801.0    1219.6  \n",
      "246087              Sesamum     627.0       463.0    1219.6  \n",
      "246088            Sugarcane     324.0     16250.0    3584.0  \n",
      "246089                 Rice  279151.0    597899.0     125.1  \n",
      "246090              Sesamum     175.0        88.0     125.1  \n",
      "\n",
      "[246091 rows x 8 columns]\n"
     ]
    }
   ],
   "source": [
    "print(data_crops)"
   ]
  },
  {
   "cell_type": "code",
   "execution_count": 30,
   "metadata": {},
   "outputs": [
    {
     "name": "stdout",
     "output_type": "stream",
     "text": [
      "['Arecanut' 'Other Kharif pulses' 'Rice' 'Banana' 'Cashewnut' 'Coconut '\n",
      " 'Dry ginger' 'Sugarcane' 'Sweet potato' 'Tapioca' 'Black pepper'\n",
      " 'Dry chillies' 'other oilseeds' 'Turmeric' 'Maize' 'Moong(Green Gram)'\n",
      " 'Urad' 'Arhar/Tur' 'Groundnut' 'Sunflower' 'Bajra' 'Castor seed'\n",
      " 'Cotton(lint)' 'Horse-gram' 'Jowar' 'Korra' 'Ragi' 'Tobacco' 'Gram'\n",
      " 'Wheat' 'Masoor' 'Sesamum' 'Linseed' 'Safflower' 'Onion'\n",
      " 'other misc. pulses' 'Samai' 'Small millets' 'Coriander' 'Potato'\n",
      " 'Other  Rabi pulses' 'Soyabean' 'Beans & Mutter(Vegetable)' 'Bhindi'\n",
      " 'Brinjal' 'Citrus Fruit' 'Cucumber' 'Grapes' 'Mango' 'Orange'\n",
      " 'other fibres' 'Other Fresh Fruits' 'Other Vegetables' 'Papaya'\n",
      " 'Pome Fruit' 'Tomato' 'Rapeseed &Mustard' 'Mesta' 'Cowpea(Lobia)' 'Lemon'\n",
      " 'Pome Granet' 'Sapota' 'Cabbage' 'Peas  (vegetable)' 'Niger seed'\n",
      " 'Bottle Gourd' 'Sannhamp' 'Varagu' 'Garlic' 'Ginger' 'Oilseeds total'\n",
      " 'Pulses total' 'Jute' 'Peas & beans (Pulses)' 'Blackgram' 'Paddy'\n",
      " 'Pineapple' 'Barley' 'Khesari' 'Guar seed' 'Moth'\n",
      " 'Other Cereals & Millets' 'Cond-spcs other' 'Turnip' 'Carrot' 'Redish'\n",
      " 'Arcanut (Processed)' 'Atcanut (Raw)' 'Cashewnut Processed'\n",
      " 'Cashewnut Raw' 'Cardamom' 'Rubber' 'Bitter Gourd' 'Drum Stick'\n",
      " 'Jack Fruit' 'Snak Guard' 'Pump Kin' 'Tea' 'Coffee' 'Cauliflower'\n",
      " 'Other Citrus Fruit' 'Water Melon' 'Total foodgrain' 'Kapas' 'Colocosia'\n",
      " 'Lentil' 'Bean' 'Jobster' 'Perilla' 'Rajmash Kholar' 'Ricebean (nagadal)'\n",
      " 'Ash Gourd' 'Beet Root' 'Lab-Lab' 'Ribed Guard' 'Yam' 'Apple' 'Peach'\n",
      " 'Pear' 'Plums' 'Litchi' 'Ber' 'Other Dry Fruit' 'Jute & mesta']\n"
     ]
    }
   ],
   "source": [
    "print(data_crops.Crop.unique())"
   ]
  },
  {
   "cell_type": "code",
   "execution_count": 31,
   "metadata": {},
   "outputs": [
    {
     "name": "stdout",
     "output_type": "stream",
     "text": [
      "0\n",
      "246091\n"
     ]
    }
   ],
   "source": [
    "#NO missing values in Crops attribute\n",
    "\n",
    "print(data_crops.Crop.isnull().sum())\n",
    "\n",
    "print(sum(data_crops.Crop.value_counts()))"
   ]
  },
  {
   "cell_type": "markdown",
   "metadata": {},
   "source": [
    "### Defining dictionaries for different types of crops for knowing the percentage of each type of crop grown"
   ]
  },
  {
   "cell_type": "code",
   "execution_count": 32,
   "metadata": {},
   "outputs": [],
   "source": [
    "cereals = [\"Rice\",\"Wheat\",\"bread wheat\",\"Korra\",\"Durum wheat\",\"macaroni wheat\",\"Corn\",\"Maize\",\"Jobs Tears\",\"salay\",\"adlay\",\n",
    "           \"tigbe\",\"pawas\",\"Barley\",\"Millet\",\"Oat\",\"Rye\",\"Spelt\",\"Canary grass\",\"Quinoa\",\"Amaranth\",\"Grain amaranth\",\n",
    "           \"Buckwheat\",\"Kañiwa\",\"Pitseed goosefoot\",\"Jowar\",\"Small millets\",\"Other Cereals & Millets\",\"Bajra\",\n",
    "          \"Ragi\",\"Varagu\",\"Paddy\"]\n",
    "\n",
    "pulses = [\"Urad\",\"Greengram\",\"Cowpea(Lobia)\",\"Soyabean\",\"Arhar/Tur\",\"Horse-gram\",\"Bengalgram\",\"Sword bean\",\"Lab-Lab\",\n",
    "         \"Field lab lab\",\"dry beans\", \"dry broad beans\",\"dry peas\",\"chickpeas\",\"cow peas\",\"pigeon peas\",\n",
    "          \"Bambara beans\",\"vetches\",\"lupins\",\"pulses nes\",\"other misc. pulses\",\"Pulses total\",\"Moong(Green Gram)\",\n",
    "          \"Masoor\",\"Other  Rabi pulses\",\"Peas & beans (Pulses)\",\"Gram\",\"Blackgram\",\"Khesari\",\"Moth\",\"Total foodgrain\",\n",
    "         \"Lentil\",\"Bean\",\"Rajmash Kholar\",\"Ricebean (nagadal)\",\"Moong\",\"Other Kharif pulses\",\"Samai\"]\n",
    "\n",
    "fruits = [\"Mango\",\"Grapes\",\"Apple\",\"Apricots\",\"Orange\",\"Avocados\",\"Guava\",\"Litchi\",\"Papaya\",\"Sapota\",\n",
    "          \"Citrus Fruit\",\"Banana\",\"Pome Granet\",\"Pome Fruit\",\"Pineapple\",\"Jack Fruit\",\n",
    "         \"Other Citrus Fruit\",\"Water Melon\",\"Peach\",\"Pear\",\"Other Dry Fruit\",\"Plums\",\"Ber\",\"Other Fresh Fruits\"]\n",
    "\n",
    "vegetables = [\"Sweet potato\",\"Dry ginger\",\"Onion\",\"Potato\",\"Bhindi\",\"Beans & Mutter(Vegetable)\",\"Peas(vegetable)\",\n",
    "             \"Other Vegetables\",\"Cabbage\",\"Bottle Gourd\",\"Garlic\",\"Ginger\",\"Carrot\",\"Redish\",\"Bitter Gourd\",\"Drum Stick\",\n",
    "             \"Snak Guard\",\"Pump Kin\",\"Cauliflower\",\"Beet Root\",\"Ash Gourd\",\"Ribed Guard\",\"Yam\",\"Tapioca\",\"Peas  (vegetable)\",\n",
    "             \"Brinjal\",\"Cucumber\",\"Tomato\",\"Lemon\",\"Turnip\",\"Colocosia\",\"Peas\"]\n",
    "\n",
    "nuts = [\"Coconut\",\"Cashewnut\",\"Cashewnut Processed\",\"Arcanut (Processed)\",\"Atcanut (Raw)\",\"Cashewnut Raw\",\"Arecanut\",\n",
    "       \"Groundnut\",]\n",
    "\n",
    "cashcrops = [\"Jute & mesta\",\"Sugarcane\",\"other oilseeds\",\"Cotton(lint)\",\"Sunflower\",\"Castor seed\",\"Tobacco\",\"Sesamum\",\n",
    "             \"Linseed\",\"Safflower\",\"other fibres\",\"Mesta\",\"Niger seed\",\"Sannhamp\",\"Oilseeds total\",\n",
    "            \"Jute\",\"Guar seed\",\"Rubber\",\"Tea\",\"Coffee\",\"Kapas\",\"Perilla\",\"Jobster\"]\n",
    "\n",
    "spices = [\"Black pepper\",\"Dry chillies\",\"Coriander\",\"Cond-spcs other\",\"Turmeric\",\"Rapeseed &Mustard\",\"Cardamom\"]\n",
    "\n"
   ]
  },
  {
   "cell_type": "code",
   "execution_count": 33,
   "metadata": {},
   "outputs": [
    {
     "name": "stdout",
     "output_type": "stream",
     "text": [
      "Number of Cereal crops     : 63729\n",
      "Number of Pulse crops      : 61489\n",
      "Number of Fruit crops      : 6205\n",
      "Number of Vegetables crops : 28978\n",
      "Number of Nut crops        : 13573\n",
      "Number of Cash crops       : 49086\n",
      "Number of Spice crops      : 23031\n",
      "246091\n",
      "[63729, 61489, 6205, 28978, 13573, 49086, 23031]\n",
      "['Cereals', 'Pulses', 'Fruits', 'Vegetables', 'Nuts', 'Cash Crops', 'Spices']\n",
      "246091\n",
      "0\n",
      "[]\n"
     ]
    }
   ],
   "source": [
    "\n",
    "crop_type = []\n",
    "not_found = []\n",
    "count_not_found = 0\n",
    "count_cereals,count_pulses,count_fruits,count_vegetables,count_nuts,count_cashcrops,count_spices = 0,0,0,0,0,0,0\n",
    "for crop in data_crops.Crop:\n",
    "    crop = crop.strip()\n",
    "    if crop in cereals:\n",
    "        count_cereals += 1\n",
    "        crop_type.append(\"Cereal\")\n",
    "    elif crop in pulses:\n",
    "        count_pulses +=1\n",
    "        crop_type.append(\"Pulse\")\n",
    "    elif crop in fruits:\n",
    "        count_fruits +=1\n",
    "        crop_type.append(\"Fruit\")\n",
    "    elif crop in vegetables:\n",
    "        count_vegetables +=1\n",
    "        crop_type.append(\"Vegetable\")\n",
    "    elif crop in nuts:\n",
    "        count_nuts +=1\n",
    "        crop_type.append(\"Nut\")\n",
    "    elif crop in cashcrops:\n",
    "        count_cashcrops +=1\n",
    "        crop_type.append(\"Cash-crop\")\n",
    "    elif crop in spices:\n",
    "        count_spices +=1\n",
    "        crop_type.append(\"Spice\")\n",
    "    else:\n",
    "        count_not_found +=1\n",
    "        not_found.append(crop)\n",
    "        \n",
    "        \n",
    "print(f\"Number of Cereal crops     : {count_cereals}\")\n",
    "print(f\"Number of Pulse crops      : {count_pulses}\")\n",
    "print(f\"Number of Fruit crops      : {count_fruits}\")\n",
    "print(f\"Number of Vegetables crops : {count_vegetables}\")\n",
    "print(f\"Number of Nut crops        : {count_nuts}\")\n",
    "print(f\"Number of Cash crops       : {count_cashcrops}\")\n",
    "print(f\"Number of Spice crops      : {count_spices}\")\n",
    "\n",
    "#data_crops[\"Crop Type\"] = crop_type\n",
    "print(len(crop_type))\n",
    "\n",
    "crop_count = [count_cereals,count_pulses,count_fruits,count_vegetables,count_nuts,count_cashcrops,count_spices]\n",
    "crops = [\"Cereals\",\"Pulses\",\"Fruits\",\"Vegetables\",\"Nuts\",\"Cash Crops\",\"Spices\"]\n",
    "print(crop_count)\n",
    "print(crops)\n",
    "print(sum(crop_count))\n",
    "print(count_not_found)\n",
    "print(not_found)"
   ]
  },
  {
   "cell_type": "code",
   "execution_count": 34,
   "metadata": {},
   "outputs": [
    {
     "name": "stdout",
     "output_type": "stream",
     "text": [
      "                         State_Name District_Name  Crop_Year       Season  \\\n",
      "0       Andaman and Nicobar Islands      NICOBARS       2000  Kharif        \n",
      "1       Andaman and Nicobar Islands      NICOBARS       2000  Kharif        \n",
      "2       Andaman and Nicobar Islands      NICOBARS       2000  Kharif        \n",
      "3       Andaman and Nicobar Islands      NICOBARS       2000  Whole Year    \n",
      "4       Andaman and Nicobar Islands      NICOBARS       2000  Whole Year    \n",
      "...                             ...           ...        ...          ...   \n",
      "246086                  West Bengal       PURULIA       2014  Summer        \n",
      "246087                  West Bengal       PURULIA       2014  Summer        \n",
      "246088                  West Bengal       PURULIA       2014  Whole Year    \n",
      "246089                  West Bengal       PURULIA       2014  Winter        \n",
      "246090                  West Bengal       PURULIA       2014  Winter        \n",
      "\n",
      "                       Crop      Area  Production  Rainfall  Crop_Type  \n",
      "0                  Arecanut    1254.0      2000.0    1208.4        Nut  \n",
      "1       Other Kharif pulses       2.0         1.0    1208.4      Pulse  \n",
      "2                      Rice     102.0       321.0    1208.4     Cereal  \n",
      "3                    Banana     176.0       641.0    2763.2      Fruit  \n",
      "4                 Cashewnut     720.0       165.0    2763.2        Nut  \n",
      "...                     ...       ...         ...       ...        ...  \n",
      "246086                 Rice     306.0       801.0    1219.6     Cereal  \n",
      "246087              Sesamum     627.0       463.0    1219.6  Cash-crop  \n",
      "246088            Sugarcane     324.0     16250.0    3584.0  Cash-crop  \n",
      "246089                 Rice  279151.0    597899.0     125.1     Cereal  \n",
      "246090              Sesamum     175.0        88.0     125.1  Cash-crop  \n",
      "\n",
      "[246091 rows x 9 columns]\n"
     ]
    }
   ],
   "source": [
    "data_crops[\"Crop_Type\"] = crop_type\n",
    "print(data_crops)"
   ]
  },
  {
   "cell_type": "code",
   "execution_count": 35,
   "metadata": {},
   "outputs": [
    {
     "data": {
      "image/png": "[encoded data removed]",
      "text/plain": [
       "<Figure size 1800x1080 with 1 Axes>"
      ]
     },
     "metadata": {},
     "output_type": "display_data"
    }
   ],
   "source": [
    "import matplotlib.pyplot as pp\n",
    "pp.figure(figsize=(25,15))\n",
    "w,t,at = pp.pie(crop_count,labels=crops,autopct='%.2f%%')\n",
    "pp.setp(at,size=30,weight='bold')\n",
    "pp.setp(t,size=25,weight='bold')\n",
    "pp.axis('equal')\n",
    "pp.title(\"DISTRIBUTION OF CROPS IN INDIA (BY COUNT)\",size=30,loc='center',weight='bold')\n",
    "pp.show()"
   ]
  },
  {
   "cell_type": "code",
   "execution_count": 36,
   "metadata": {},
   "outputs": [
    {
     "name": "stdout",
     "output_type": "stream",
     "text": [
      "Index(['State_Name', 'District_Name', 'Crop_Year', 'Season', 'Crop', 'Area',\n",
      "       'Production', 'Rainfall', 'Crop_Type'],\n",
      "      dtype='object')\n",
      "Index(['State_Name', 'District_Name', 'Crop_Year', 'Season', 'Crop', 'Area',\n",
      "       'Production', 'Rainfall'],\n",
      "      dtype='object')\n"
     ]
    }
   ],
   "source": [
    "print(data_crops.columns)\n",
    "data_crops = data_crops.drop(columns=\"Crop_Type\")\n",
    "print(data_crops.columns)"
   ]
  },
  {
   "cell_type": "markdown",
   "metadata": {},
   "source": [
    "### While converting the non-numericdata (categorical) to numeric data.....we ought to compare one-hot encoding and binary encoding and label encoding.\n",
    "**Fields considered are**\n",
    "* states\n",
    "* districts\n",
    "* crop\n",
    "* seasons"
   ]
  },
  {
   "cell_type": "markdown",
   "metadata": {},
   "source": [
    "## ONE-HOT ENCODING\n",
    "![ONE-HOT Encoding](/images/OH.png) \n",
    "\n",
    "## LABEL ENCODING\n",
    "![Label Encoding](/images/Label.png)\n",
    "\n",
    "## BINARY ENCODING\n",
    "### It is a variation added to label encoding. If the labels encoded to the categorical features which are in the decimal format (ex: 5) when converted to Binary format (ex: 5 -> 101) then it is called as Binary Encoding."
   ]
  },
  {
   "cell_type": "markdown",
   "metadata": {},
   "source": [
    "# ONE HOT ENCODING"
   ]
  },
  {
   "cell_type": "code",
   "execution_count": 37,
   "metadata": {},
   "outputs": [
    {
     "data": {
      "text/plain": [
       "(246091, 813)"
      ]
     },
     "execution_count": 37,
     "metadata": {},
     "output_type": "execute_result"
    }
   ],
   "source": [
    "ohe = ce.OneHotEncoder()\n",
    "d_1 = ohe.fit_transform(data_crops)\n",
    "d_1.shape"
   ]
  },
  {
   "cell_type": "markdown",
   "metadata": {},
   "source": [
    "# BINARY ENCODING"
   ]
  },
  {
   "cell_type": "code",
   "execution_count": 38,
   "metadata": {},
   "outputs": [
    {
     "data": {
      "text/plain": [
       "(246091, 34)"
      ]
     },
     "execution_count": 38,
     "metadata": {},
     "output_type": "execute_result"
    }
   ],
   "source": [
    "be = ce.BinaryEncoder()\n",
    "data = be.fit_transform(data_crops)   #if none columns are specified the method considers all the string attributes by default\n",
    "data.shape"
   ]
  },
  {
   "cell_type": "markdown",
   "metadata": {},
   "source": [
    "# LABEL ENCODING"
   ]
  },
  {
   "cell_type": "code",
   "execution_count": 39,
   "metadata": {},
   "outputs": [
    {
     "name": "stdout",
     "output_type": "stream",
     "text": [
      "        State_Name  District_Name  Crop_Year  Season  Crop      Area  \\\n",
      "0                0            427       2000       1     2    1254.0   \n",
      "1                0            427       2000       1    74       2.0   \n",
      "2                0            427       2000       1    95     102.0   \n",
      "3                0            427       2000       4     7     176.0   \n",
      "4                0            427       2000       4    22     720.0   \n",
      "...            ...            ...        ...     ...   ...       ...   \n",
      "246086          32            471       2014       3    95     306.0   \n",
      "246087          32            471       2014       3   102     627.0   \n",
      "246088          32            471       2014       4   106     324.0   \n",
      "246089          32            471       2014       5    95  279151.0   \n",
      "246090          32            471       2014       5   102     175.0   \n",
      "\n",
      "        Production  Rainfall  \n",
      "0           2000.0    1208.4  \n",
      "1              1.0    1208.4  \n",
      "2            321.0    1208.4  \n",
      "3            641.0    2763.2  \n",
      "4            165.0    2763.2  \n",
      "...            ...       ...  \n",
      "246086       801.0    1219.6  \n",
      "246087       463.0    1219.6  \n",
      "246088     16250.0    3584.0  \n",
      "246089    597899.0     125.1  \n",
      "246090        88.0     125.1  \n",
      "\n",
      "[246091 rows x 8 columns]\n"
     ]
    }
   ],
   "source": [
    "from sklearn.preprocessing import LabelEncoder\n",
    "le = LabelEncoder()\n",
    "state = data_crops.State_Name\n",
    "state = le.fit_transform(state)\n",
    "data_crops = data_crops.assign(State_Name = state)\n",
    "district = data_crops.District_Name\n",
    "district = le.fit_transform(district)\n",
    "data_crops = data_crops.assign(District_Name = district)\n",
    "\n",
    "season = data_crops.Season\n",
    "season = le.fit_transform(season)\n",
    "data_crops = data_crops.assign(Season = season)\n",
    "\n",
    "crop = data_crops.Crop\n",
    "crop = le.fit_transform(crop)\n",
    "data_crops = data_crops.assign(Crop = crop)\n",
    "print(data_crops)\n",
    "\n"
   ]
  },
  {
   "cell_type": "code",
   "execution_count": 40,
   "metadata": {},
   "outputs": [
    {
     "name": "stdout",
     "output_type": "stream",
     "text": [
      "Index(['State_Name_0', 'State_Name_1', 'State_Name_2', 'State_Name_3',\n",
      "       'State_Name_4', 'State_Name_5', 'State_Name_6', 'District_Name_0',\n",
      "       'District_Name_1', 'District_Name_2', 'District_Name_3',\n",
      "       'District_Name_4', 'District_Name_5', 'District_Name_6',\n",
      "       'District_Name_7', 'District_Name_8', 'District_Name_9',\n",
      "       'District_Name_10', 'Crop_Year', 'Season_0', 'Season_1', 'Season_2',\n",
      "       'Season_3', 'Crop_0', 'Crop_1', 'Crop_2', 'Crop_3', 'Crop_4', 'Crop_5',\n",
      "       'Crop_6', 'Crop_7', 'Area', 'Production', 'Rainfall'],\n",
      "      dtype='object')\n"
     ]
    }
   ],
   "source": [
    "print(data.columns)"
   ]
  },
  {
   "cell_type": "markdown",
   "metadata": {},
   "source": [
    "### ASSIGNING COLUMNS TO X AND Y\n",
    "**812 COLUMN COUNT LEAD TO MORE COMPUTATIONAL EFFORT**\n",
    "\n",
    "**33 COLUMNS ARE LESS COMAPRED TO 812 BUT NOT COMPLETEY EFFICIENT** :camel:\n",
    "\n",
    "**COLUMN COUNT WILL BE REMAINED SAME BUT INORDER TO AVOID THE PROBLEM OF NUMBER SEQUENCING WHICH INTRODUCES RELATION/COMPARISION BETWEEN DIFFERENT TRAINING EXAMPLES, WE APPLY \"FEATURE SCALING\" ALONG WITH LABEL ENCODING FOR THE CATEGORICAL ATTRIBUTES TO MAKE THE TRAINING EXAMPLES INDEPENDENT OF EACH OTHER.**"
   ]
  },
  {
   "cell_type": "code",
   "execution_count": 41,
   "metadata": {},
   "outputs": [
    {
     "name": "stdout",
     "output_type": "stream",
     "text": [
      "<class 'pandas.core.frame.DataFrame'>\n",
      "<class 'pandas.core.frame.DataFrame'>\n"
     ]
    }
   ],
   "source": [
    "Y = data_crops.iloc[:,6]\n",
    "X = data_crops.drop(['Production'],axis = 'columns')\n",
    "Y = Y.to_frame()\n",
    "print(type(X))\n",
    "print(type(Y))\n"
   ]
  },
  {
   "cell_type": "code",
   "execution_count": 42,
   "metadata": {},
   "outputs": [
    {
     "name": "stdout",
     "output_type": "stream",
     "text": [
      "Index(['State_Name', 'District_Name', 'Crop_Year', 'Season', 'Crop', 'Area',\n",
      "       'Rainfall'],\n",
      "      dtype='object')\n",
      "Index(['Production'], dtype='object')\n"
     ]
    }
   ],
   "source": [
    "print(X.columns)\n",
    "print(Y.columns)"
   ]
  },
  {
   "cell_type": "markdown",
   "metadata": {},
   "source": [
    "### Finding the missing values\n",
    "\n",
    "### Visualizing the missing values as a matrix"
   ]
  },
  {
   "cell_type": "code",
   "execution_count": 43,
   "metadata": {},
   "outputs": [
    {
     "name": "stdout",
     "output_type": "stream",
     "text": [
      "Production    3730\n",
      "dtype: int64\n",
      "State_Name          0\n",
      "District_Name       0\n",
      "Crop_Year           0\n",
      "Season              0\n",
      "Crop                0\n",
      "Area                0\n",
      "Rainfall         8556\n",
      "dtype: int64\n"
     ]
    },
    {
     "data": {
      "image/png": "[encoded data removed]",
      "text/plain": [
       "<Figure size 1800x720 with 2 Axes>"
      ]
     },
     "metadata": {
      "needs_background": "light"
     },
     "output_type": "display_data"
    },
    {
     "data": {
      "image/png": "[encoded data removed]",
      "text/plain": [
       "<Figure size 1800x720 with 2 Axes>"
      ]
     },
     "metadata": {
      "needs_background": "light"
     },
     "output_type": "display_data"
    }
   ],
   "source": [
    "import missingno as msno\n",
    "\n",
    "msno.matrix(X)\n",
    "msno.matrix(Y)\n",
    "\n",
    "print(Y.isnull().sum())\n",
    "print(X.isnull().sum())\n"
   ]
  },
  {
   "cell_type": "markdown",
   "metadata": {},
   "source": [
    "### we have missing values in production and Rainfall(the white lines in the graph)'''\n",
    "\n",
    "### Replacing the missing values in production and Rainfall with their respective columns \"mean\"."
   ]
  },
  {
   "cell_type": "code",
   "execution_count": 44,
   "metadata": {},
   "outputs": [
    {
     "name": "stdout",
     "output_type": "stream",
     "text": [
      "<class 'pandas.core.frame.DataFrame'>\n",
      "        Production\n",
      "0           2000.0\n",
      "1              1.0\n",
      "2            321.0\n",
      "3            641.0\n",
      "4            165.0\n",
      "...            ...\n",
      "246086       801.0\n",
      "246087       463.0\n",
      "246088     16250.0\n",
      "246089    597899.0\n",
      "246090        88.0\n",
      "\n",
      "[246091 rows x 1 columns]\n",
      "(246091, 7)\n"
     ]
    }
   ],
   "source": [
    "X.Rainfall.fillna(X.Rainfall.mean(),inplace=True)\n",
    "Y.Production.fillna(Y.Production.mean(),inplace=True)\n",
    "Y_rep = Y.copy()\n",
    "print(type(Y_rep))\n",
    "print(Y_rep)\n",
    "print(X.shape)"
   ]
  },
  {
   "cell_type": "code",
   "execution_count": 45,
   "metadata": {},
   "outputs": [
    {
     "name": "stdout",
     "output_type": "stream",
     "text": [
      "<class 'numpy.ndarray'>\n",
      "Feature Scaling -> ready for training\n"
     ]
    }
   ],
   "source": [
    "#splitting the data into X and Y\n",
    "\n",
    "X_train,X_test,Y_train,Y_test = train_test_split(X, Y, train_size = 0.8, test_size = 0.2,random_state = 0)\n",
    "\n",
    "\n",
    "from sklearn.preprocessing import MinMaxScaler\n",
    "scaler = MinMaxScaler()\n",
    "\n",
    "X_train = scaler.fit_transform(X_train)\n",
    "X_test = scaler.fit_transform(X_test)\n",
    "Y_train = scaler.fit_transform(Y_train)\n",
    "Y_test = scaler.fit_transform(Y_test)\n",
    "print(type(Y_train))\n",
    "print(\"Feature Scaling -> ready for training\")\n"
   ]
  },
  {
   "cell_type": "markdown",
   "metadata": {},
   "source": [
    "# RANDOM FOREST REGRESSOR\n",
    "\n",
    ">* **It generates multi decision trees from which each decison tree uses a part of data sample and predicts the result. Then the result which was achieved by maximum number of trees is considered as the final prediction.**\n",
    ">* **Random forest is a Supervised Learning algorithm which uses ensemble learning method for classification and regression**\n",
    ">* **Random forest is a bagging technique and the trees in random forests run in parallel without any interactions.** \n"
   ]
  },
  {
   "cell_type": "code",
   "execution_count": 46,
   "metadata": {},
   "outputs": [],
   "source": [
    "# RANDOM FOREST REGRESSOR\n",
    "from sklearn.ensemble import RandomForestRegressor   \n",
    "\n",
    "# TRAINING\n",
    "model_rr = RandomForestRegressor(n_estimators = 1000,random_state = 0)\n",
    "model_rr.fit(X_train, np.ravel(Y_train))\n",
    "\n",
    "# TESTING\n",
    "rr_prediction = model_rr.predict(X_test)\n"
   ]
  },
  {
   "cell_type": "markdown",
   "metadata": {},
   "source": [
    "# DECISION TREE REGRESSOR\n",
    "\n",
    ">* **Decision trees are constructed through an algorithmic approach that identifies ways to split the data set based on different conditions.**\n",
    ">* **It is one of the most widely used practical methods for supervised learning.**\n",
    ">* **These are non-parametric method used for both classification and regression.**"
   ]
  },
  {
   "cell_type": "code",
   "execution_count": 47,
   "metadata": {},
   "outputs": [],
   "source": [
    "# DECISION TREE REGRESSOR\n",
    "from sklearn.tree import DecisionTreeRegressor as dtr\n",
    "\n",
    "# TRAINING\n",
    "model_dtr = dtr(max_depth=4)\n",
    "model_dtr.fit(X_train,np.ravel(Y_train))\n",
    "\n",
    "# TESTING\n",
    "dtr_prediction = model_dtr.predict(X_test)\n"
   ]
  },
  {
   "cell_type": "markdown",
   "metadata": {},
   "source": [
    "# GRADIENT BOOST REGRESSION\n",
    "\n",
    ">* **Gradient boosting method converts the weak learners into strong learners by boosting their capability.**\n",
    ">* **A sequential process of learning from the previous trees and increasing the model accuracy.**\n",
    ">* **One of the most used and efficient method.**"
   ]
  },
  {
   "cell_type": "code",
   "execution_count": 48,
   "metadata": {},
   "outputs": [],
   "source": [
    "# GRADIENT BOOST REGRESSION\n",
    "from sklearn.ensemble import GradientBoostingRegressor as gbr\n",
    "\n",
    "# TRAINING\n",
    "model_gbr = gbr(n_estimators=1000,max_depth=4,random_state=0)\n",
    "model_gbr.fit(X_train, np.ravel(Y_train))\n",
    "\n",
    "# TESTING\n",
    "gbr_prediction = model_gbr.predict(X_test)\n"
   ]
  },
  {
   "cell_type": "code",
   "execution_count": 49,
   "metadata": {},
   "outputs": [],
   "source": [
    "def accuracy(original,prediction):\n",
    "    original = original.reshape(-1,1)\n",
    "    prediction = prediction.reshape(-1,1)\n",
    "    original = scaler.inverse_transform(original)\n",
    "    prediction = scaler.inverse_transform(prediction)\n",
    "    score = r2_score(original,prediction)\n",
    "    return score"
   ]
  },
  {
   "cell_type": "code",
   "execution_count": 50,
   "metadata": {},
   "outputs": [
    {
     "name": "stdout",
     "output_type": "stream",
     "text": [
      "The R^2 of the Random Forest Regressor 0.8857244743665621\n",
      " Accuracy of the RFR is 88.5724474366562 \n",
      "\n",
      "The R^2 of the Gradient Boosting Regressor 0.8411098507596291\n",
      " Accuracy of the GBR is 84.1109850759629 \n",
      "\n",
      "The R^2 of the Decision Tree Regressor 0.7131107393986301\n",
      " Accuracy of the DTR is 71.31107393986301 \n"
     ]
    }
   ],
   "source": [
    "score_rr = accuracy(Y_test,rr_prediction)\n",
    "print(f\"The R^2 of the Random Forest Regressor {score_rr}\\n Accuracy of the RFR is {score_rr*100} \\n\")\n",
    "\n",
    "score_gbr = accuracy(Y_test,gbr_prediction)\n",
    "print(f\"The R^2 of the Gradient Boosting Regressor {score_gbr}\\n Accuracy of the GBR is {score_gbr*100} \\n\")\n",
    "\n",
    "score_dtr = accuracy(Y_test,dtr_prediction)\n",
    "print(f\"The R^2 of the Decision Tree Regressor {score_dtr}\\n Accuracy of the DTR is {score_dtr*100} \")"
   ]
  },
  {
   "cell_type": "markdown",
   "metadata": {},
   "source": [
    "## Accuracy\n",
    "### Random Forest Regressor(RFR) with 0.88 of R^2 has proved to be efficient with the Test data when comapred to DTR and GBR"
   ]
  }
 ],
 "metadata": {
  "kernelspec": {
   "display_name": "Python 3",
   "language": "python",
   "name": "python3"
  },
  "language_info": {
   "codemirror_mode": {
    "name": "ipython",
    "version": 3
   },
   "file_extension": ".py",
   "mimetype": "text/x-python",
   "name": "python",
   "nbconvert_exporter": "python",
   "pygments_lexer": "ipython3",
   "version": "3.7.4"
  }
 },
 "nbformat": 4,
 "nbformat_minor": 2
}
