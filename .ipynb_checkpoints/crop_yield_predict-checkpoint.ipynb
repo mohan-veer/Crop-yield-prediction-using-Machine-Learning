{
 "cells": [
  {
   "cell_type": "code",
   "execution_count": 364,
   "metadata": {},
   "outputs": [],
   "source": [
    "import numpy as np\n",
    "import pandas as pd\n",
    "import category_encoders as ce                       # converting or encoding the NON-Numneric (or) String attributes\n",
    "from sklearn.ensemble import RandomForestRegressor   # training and predicting class\n",
    "from sklearn.model_selection import train_test_split # splitting the data\n",
    "from sklearn.impute import SimpleImputer             # for missing values\n",
    "from sklearn.metrics import *                        # accuracy calculation\n"
   ]
  },
  {
   "cell_type": "code",
   "execution_count": 348,
   "metadata": {},
   "outputs": [
    {
     "data": {
      "text/html": [
       "<div>\n",
       "<style scoped>\n",
       "    .dataframe tbody tr th:only-of-type {\n",
       "        vertical-align: middle;\n",
       "    }\n",
       "\n",
       "    .dataframe tbody tr th {\n",
       "        vertical-align: top;\n",
       "    }\n",
       "\n",
       "    .dataframe thead th {\n",
       "        text-align: right;\n",
       "    }\n",
       "</style>\n",
       "<table border=\"1\" class=\"dataframe\">\n",
       "  <thead>\n",
       "    <tr style=\"text-align: right;\">\n",
       "      <th></th>\n",
       "      <th>State_Name</th>\n",
       "      <th>District_Name</th>\n",
       "      <th>Crop_Year</th>\n",
       "      <th>Season</th>\n",
       "      <th>Crop</th>\n",
       "      <th>Area</th>\n",
       "      <th>Production</th>\n",
       "    </tr>\n",
       "  </thead>\n",
       "  <tbody>\n",
       "    <tr>\n",
       "      <td>0</td>\n",
       "      <td>Andaman and Nicobar Islands</td>\n",
       "      <td>NICOBARS</td>\n",
       "      <td>2000</td>\n",
       "      <td>Kharif</td>\n",
       "      <td>Arecanut</td>\n",
       "      <td>1254.0</td>\n",
       "      <td>2000.0</td>\n",
       "    </tr>\n",
       "    <tr>\n",
       "      <td>1</td>\n",
       "      <td>Andaman and Nicobar Islands</td>\n",
       "      <td>NICOBARS</td>\n",
       "      <td>2000</td>\n",
       "      <td>Kharif</td>\n",
       "      <td>Other Kharif pulses</td>\n",
       "      <td>2.0</td>\n",
       "      <td>1.0</td>\n",
       "    </tr>\n",
       "    <tr>\n",
       "      <td>2</td>\n",
       "      <td>Andaman and Nicobar Islands</td>\n",
       "      <td>NICOBARS</td>\n",
       "      <td>2000</td>\n",
       "      <td>Kharif</td>\n",
       "      <td>Rice</td>\n",
       "      <td>102.0</td>\n",
       "      <td>321.0</td>\n",
       "    </tr>\n",
       "    <tr>\n",
       "      <td>3</td>\n",
       "      <td>Andaman and Nicobar Islands</td>\n",
       "      <td>NICOBARS</td>\n",
       "      <td>2000</td>\n",
       "      <td>Whole Year</td>\n",
       "      <td>Banana</td>\n",
       "      <td>176.0</td>\n",
       "      <td>641.0</td>\n",
       "    </tr>\n",
       "    <tr>\n",
       "      <td>4</td>\n",
       "      <td>Andaman and Nicobar Islands</td>\n",
       "      <td>NICOBARS</td>\n",
       "      <td>2000</td>\n",
       "      <td>Whole Year</td>\n",
       "      <td>Cashewnut</td>\n",
       "      <td>720.0</td>\n",
       "      <td>165.0</td>\n",
       "    </tr>\n",
       "    <tr>\n",
       "      <td>...</td>\n",
       "      <td>...</td>\n",
       "      <td>...</td>\n",
       "      <td>...</td>\n",
       "      <td>...</td>\n",
       "      <td>...</td>\n",
       "      <td>...</td>\n",
       "      <td>...</td>\n",
       "    </tr>\n",
       "    <tr>\n",
       "      <td>246086</td>\n",
       "      <td>West Bengal</td>\n",
       "      <td>PURULIA</td>\n",
       "      <td>2014</td>\n",
       "      <td>Summer</td>\n",
       "      <td>Rice</td>\n",
       "      <td>306.0</td>\n",
       "      <td>801.0</td>\n",
       "    </tr>\n",
       "    <tr>\n",
       "      <td>246087</td>\n",
       "      <td>West Bengal</td>\n",
       "      <td>PURULIA</td>\n",
       "      <td>2014</td>\n",
       "      <td>Summer</td>\n",
       "      <td>Sesamum</td>\n",
       "      <td>627.0</td>\n",
       "      <td>463.0</td>\n",
       "    </tr>\n",
       "    <tr>\n",
       "      <td>246088</td>\n",
       "      <td>West Bengal</td>\n",
       "      <td>PURULIA</td>\n",
       "      <td>2014</td>\n",
       "      <td>Whole Year</td>\n",
       "      <td>Sugarcane</td>\n",
       "      <td>324.0</td>\n",
       "      <td>16250.0</td>\n",
       "    </tr>\n",
       "    <tr>\n",
       "      <td>246089</td>\n",
       "      <td>West Bengal</td>\n",
       "      <td>PURULIA</td>\n",
       "      <td>2014</td>\n",
       "      <td>Winter</td>\n",
       "      <td>Rice</td>\n",
       "      <td>279151.0</td>\n",
       "      <td>597899.0</td>\n",
       "    </tr>\n",
       "    <tr>\n",
       "      <td>246090</td>\n",
       "      <td>West Bengal</td>\n",
       "      <td>PURULIA</td>\n",
       "      <td>2014</td>\n",
       "      <td>Winter</td>\n",
       "      <td>Sesamum</td>\n",
       "      <td>175.0</td>\n",
       "      <td>88.0</td>\n",
       "    </tr>\n",
       "  </tbody>\n",
       "</table>\n",
       "<p>246091 rows × 7 columns</p>\n",
       "</div>"
      ],
      "text/plain": [
       "                         State_Name District_Name  Crop_Year       Season  \\\n",
       "0       Andaman and Nicobar Islands      NICOBARS       2000  Kharif        \n",
       "1       Andaman and Nicobar Islands      NICOBARS       2000  Kharif        \n",
       "2       Andaman and Nicobar Islands      NICOBARS       2000  Kharif        \n",
       "3       Andaman and Nicobar Islands      NICOBARS       2000  Whole Year    \n",
       "4       Andaman and Nicobar Islands      NICOBARS       2000  Whole Year    \n",
       "...                             ...           ...        ...          ...   \n",
       "246086                  West Bengal       PURULIA       2014  Summer        \n",
       "246087                  West Bengal       PURULIA       2014  Summer        \n",
       "246088                  West Bengal       PURULIA       2014  Whole Year    \n",
       "246089                  West Bengal       PURULIA       2014  Winter        \n",
       "246090                  West Bengal       PURULIA       2014  Winter        \n",
       "\n",
       "                       Crop      Area  Production  \n",
       "0                  Arecanut    1254.0      2000.0  \n",
       "1       Other Kharif pulses       2.0         1.0  \n",
       "2                      Rice     102.0       321.0  \n",
       "3                    Banana     176.0       641.0  \n",
       "4                 Cashewnut     720.0       165.0  \n",
       "...                     ...       ...         ...  \n",
       "246086                 Rice     306.0       801.0  \n",
       "246087              Sesamum     627.0       463.0  \n",
       "246088            Sugarcane     324.0     16250.0  \n",
       "246089                 Rice  279151.0    597899.0  \n",
       "246090              Sesamum     175.0        88.0  \n",
       "\n",
       "[246091 rows x 7 columns]"
      ]
     },
     "execution_count": 348,
     "metadata": {},
     "output_type": "execute_result"
    }
   ],
   "source": [
    "data_crops = pd.read_csv(\"apy.csv\")\n",
    "data_crops"
   ]
  },
  {
   "cell_type": "code",
   "execution_count": 349,
   "metadata": {},
   "outputs": [
    {
     "name": "stdout",
     "output_type": "stream",
     "text": [
      "33\n",
      "646\n",
      "6\n",
      "124\n"
     ]
    }
   ],
   "source": [
    "print(len(data_crops['State_Name'].unique()))  \n",
    "print(len(data_crops['District_Name'].unique()))\n",
    "print(len(data_crops['Season'].unique()))\n",
    "print(len(data_crops['Crop'].unique()))"
   ]
  },
  {
   "cell_type": "code",
   "execution_count": 350,
   "metadata": {},
   "outputs": [
    {
     "data": {
      "text/plain": [
       "'While converting the non-numericdata (categorical) to numeric data.....we ought to compare one-hot encoding \\nand binary encoding\\nFields considered are\\n1.states\\n2.districts\\n3.crop\\n4.seasons\\n'"
      ]
     },
     "execution_count": 350,
     "metadata": {},
     "output_type": "execute_result"
    }
   ],
   "source": [
    "'''While converting the non-numericdata (categorical) to numeric data.....we ought to compare one-hot encoding \n",
    "and binary encoding\n",
    "Fields considered are\n",
    "1.states\n",
    "2.districts\n",
    "3.crop\n",
    "4.seasons\n",
    "'''"
   ]
  },
  {
   "cell_type": "code",
   "execution_count": 351,
   "metadata": {},
   "outputs": [
    {
     "data": {
      "text/plain": [
       "(246091, 812)"
      ]
     },
     "execution_count": 351,
     "metadata": {},
     "output_type": "execute_result"
    }
   ],
   "source": [
    "#ONE HOT ENCODING\n",
    "\n",
    "ohe = ce.OneHotEncoder()\n",
    "d_1 = ohe.fit_transform(data_crops)\n",
    "d_1.shape"
   ]
  },
  {
   "cell_type": "code",
   "execution_count": 352,
   "metadata": {},
   "outputs": [
    {
     "data": {
      "text/plain": [
       "(246091, 33)"
      ]
     },
     "execution_count": 352,
     "metadata": {},
     "output_type": "execute_result"
    }
   ],
   "source": [
    "#BINARY ENCODING\n",
    "\n",
    "be = ce.BinaryEncoder()\n",
    "data = be.fit_transform(data_crops)   #if none columns are specified the method considers all the string attributes by default\n",
    "data.shape"
   ]
  },
  {
   "cell_type": "code",
   "execution_count": 361,
   "metadata": {},
   "outputs": [
    {
     "name": "stdout",
     "output_type": "stream",
     "text": [
      "<class 'pandas.core.frame.DataFrame'>\n",
      "<class 'pandas.core.frame.DataFrame'>\n"
     ]
    }
   ],
   "source": [
    "'''reducing the column count from 812 to 33 by using the binary encoding'''\n",
    "\n",
    "\n",
    "#converting the dataframe to arrays\n",
    "Y = data.iloc[:,32]\n",
    "X = data.drop('Production',axis = 'columns')\n",
    "Y = Y.to_frame()\n",
    "print(type(X))\n",
    "print(type(Y))\n"
   ]
  },
  {
   "cell_type": "code",
   "execution_count": 362,
   "metadata": {},
   "outputs": [
    {
     "name": "stdout",
     "output_type": "stream",
     "text": [
      "Production    3730\n",
      "dtype: int64\n",
      "State_Name_0        0\n",
      "State_Name_1        0\n",
      "State_Name_2        0\n",
      "State_Name_3        0\n",
      "State_Name_4        0\n",
      "State_Name_5        0\n",
      "State_Name_6        0\n",
      "District_Name_0     0\n",
      "District_Name_1     0\n",
      "District_Name_2     0\n",
      "District_Name_3     0\n",
      "District_Name_4     0\n",
      "District_Name_5     0\n",
      "District_Name_6     0\n",
      "District_Name_7     0\n",
      "District_Name_8     0\n",
      "District_Name_9     0\n",
      "District_Name_10    0\n",
      "Crop_Year           0\n",
      "Season_0            0\n",
      "Season_1            0\n",
      "Season_2            0\n",
      "Season_3            0\n",
      "Crop_0              0\n",
      "Crop_1              0\n",
      "Crop_2              0\n",
      "Crop_3              0\n",
      "Crop_4              0\n",
      "Crop_5              0\n",
      "Crop_6              0\n",
      "Crop_7              0\n",
      "Area                0\n",
      "dtype: int64\n"
     ]
    },
    {
     "data": {
      "image/png": "[encoded data removed]",
      "text/plain": [
       "<Figure size 1800x720 with 2 Axes>"
      ]
     },
     "metadata": {
      "needs_background": "light"
     },
     "output_type": "display_data"
    },
    {
     "data": {
      "image/png": "[encoded data removed]",
      "text/plain": [
       "<Figure size 1800x720 with 2 Axes>"
      ]
     },
     "metadata": {
      "needs_background": "light"
     },
     "output_type": "display_data"
    }
   ],
   "source": [
    "#finding the missing values\n",
    "import missingno as msno  #visualizing the missing values as a matrix\n",
    "\n",
    "msno.matrix(X)\n",
    "msno.matrix(Y)\n",
    "\n",
    "print(Y.isnull().sum())\n",
    "print(X.isnull().sum())\n"
   ]
  },
  {
   "cell_type": "code",
   "execution_count": null,
   "metadata": {},
   "outputs": [],
   "source": [
    "'''we have missing values in production(the white lines in the graph)'''\n",
    "\n",
    "# Replacing the missing values in production with mean of the observations\n",
    "\n",
    "Y.Production.fillna(Y.Production.mean(),inplace=True)\n"
   ]
  },
  {
   "cell_type": "code",
   "execution_count": 355,
   "metadata": {},
   "outputs": [
    {
     "name": "stdout",
     "output_type": "stream",
     "text": [
      "<class 'pandas.core.frame.DataFrame'>\n",
      "[8.5430e+03 2.9700e+05 1.9380e+03 ... 2.0000e+02 1.7000e+01 4.4498e+04]\n"
     ]
    }
   ],
   "source": [
    "#spliting the data into X and Y\n",
    "\n",
    "X_train,X_test,Y_train,Y_test = train_test_split(X, Y, train_size = 0.8, test_size = 0.2)\n",
    "\n",
    "print(type(Y))\n",
    "\n",
    "#Y_train has to be a shape of [n] smaples as a parameter into the regressor method.\n",
    "\n",
    "Y_train = Y_train.values.ravel()\n",
    "print(Y_train)\n"
   ]
  },
  {
   "cell_type": "code",
   "execution_count": 356,
   "metadata": {},
   "outputs": [
    {
     "name": "stdout",
     "output_type": "stream",
     "text": [
      "trained\n",
      "        State_Name_0  State_Name_1  State_Name_2  State_Name_3  State_Name_4  \\\n",
      "7608               0             0             0             0             0   \n",
      "161987             0             0             1             1             0   \n",
      "77390              0             0             0             1             1   \n",
      "232897             0             1             0             0             0   \n",
      "193722             0             0             1             1             1   \n",
      "...              ...           ...           ...           ...           ...   \n",
      "13050              0             0             0             0             1   \n",
      "186860             0             0             1             1             1   \n",
      "69370              0             0             0             1             0   \n",
      "202197             0             0             1             1             1   \n",
      "36628              0             0             0             0             1   \n",
      "\n",
      "        State_Name_5  State_Name_6  District_Name_0  District_Name_1  \\\n",
      "7608               1             0                0                0   \n",
      "161987             0             1                0                0   \n",
      "77390              1             1                0                0   \n",
      "232897             0             0                0                1   \n",
      "193722             0             1                0                1   \n",
      "...              ...           ...              ...              ...   \n",
      "13050              0             0                0                0   \n",
      "186860             0             0                0                1   \n",
      "69370              1             1                0                0   \n",
      "202197             1             1                0                1   \n",
      "36628              0             1                0                0   \n",
      "\n",
      "        District_Name_2  ...  Season_3  Crop_0  Crop_1  Crop_2  Crop_3  \\\n",
      "7608                  0  ...         1       0       0       0       0   \n",
      "161987                1  ...         1       0       0       0       0   \n",
      "77390                 0  ...         0       0       0       0       1   \n",
      "232897                0  ...         1       0       0       0       1   \n",
      "193722                0  ...         1       0       0       0       1   \n",
      "...                 ...  ...       ...     ...     ...     ...     ...   \n",
      "13050                 0  ...         1       0       0       0       0   \n",
      "186860                0  ...         0       0       0       0       1   \n",
      "69370                 0  ...         1       0       0       0       1   \n",
      "202197                0  ...         1       0       0       0       0   \n",
      "36628                 0  ...         1       0       0       0       0   \n",
      "\n",
      "        Crop_4  Crop_5  Crop_6  Crop_7     Area  \n",
      "7608         0       1       0       1  22600.0  \n",
      "161987       0       0       1       1  97000.0  \n",
      "77390        0       1       1       1   1357.0  \n",
      "232897       0       0       1       0      5.0  \n",
      "193722       0       0       0       0  37400.0  \n",
      "...        ...     ...     ...     ...      ...  \n",
      "13050        0       0       1       1  16829.0  \n",
      "186860       0       1       0       1    693.0  \n",
      "69370        0       0       1       0    212.0  \n",
      "202197       0       0       1       1      9.0  \n",
      "36628        0       0       1       1  44990.0  \n",
      "\n",
      "[196872 rows x 32 columns]\n",
      "[8.5430e+03 2.9700e+05 1.9380e+03 ... 2.0000e+02 1.7000e+01 4.4498e+04]\n"
     ]
    }
   ],
   "source": [
    "# Defining the Random Regressor\n",
    "\n",
    "regressor = RandomForestRegressor(n_estimators = 10,random_state = 0)\n",
    "regressor.fit(X_train, Y_train)\n",
    "print(\"trained\")\n",
    "print(X_train)\n",
    "print(Y_train)"
   ]
  },
  {
   "cell_type": "code",
   "execution_count": 357,
   "metadata": {},
   "outputs": [
    {
     "name": "stdout",
     "output_type": "stream",
     "text": [
      "<class 'numpy.ndarray'>\n",
      "<class 'pandas.core.frame.DataFrame'>\n",
      "[3.890000e+01 9.278000e+03 2.036391e+05 ... 2.315300e+03 5.868000e+02\n",
      " 6.741000e+02]\n",
      "        Production\n",
      "28549         38.0\n",
      "186111      6229.0\n",
      "152259    141472.0\n",
      "223644      7955.0\n",
      "217336      2096.0\n",
      "...            ...\n",
      "96621        607.0\n",
      "143450        70.0\n",
      "14696       1510.0\n",
      "237003       684.0\n",
      "179018       604.0\n",
      "\n",
      "[49219 rows x 1 columns]\n"
     ]
    }
   ],
   "source": [
    "#testing\n",
    "\n",
    "actual_prediction = regressor.predict(X_test)\n",
    "\n",
    "print(type(actual_prediction))\n",
    "print(type(Y_test))\n",
    "print(actual_prediction)\n",
    "print(Y_test)"
   ]
  },
  {
   "cell_type": "code",
   "execution_count": 370,
   "metadata": {},
   "outputs": [
    {
     "name": "stdout",
     "output_type": "stream",
     "text": [
      "         Actual  Prediction\n",
      "0          38.0        38.9\n",
      "1        6229.0      9278.0\n",
      "2      141472.0    203639.1\n",
      "3        7955.0      7297.9\n",
      "4        2096.0      2129.3\n",
      "...         ...         ...\n",
      "49214     607.0      2516.4\n",
      "49215      70.0        75.0\n",
      "49216    1510.0      2315.3\n",
      "49217     684.0       586.8\n",
      "49218     604.0       674.1\n",
      "\n",
      "[49219 rows x 2 columns]\n"
     ]
    },
    {
     "data": {
      "image/png": "[encoded data removed]",
      "text/plain": [
       "<Figure size 1152x720 with 1 Axes>"
      ]
     },
     "metadata": {
      "needs_background": "light"
     },
     "output_type": "display_data"
    }
   ],
   "source": [
    "#visualizing the estimated and actual values\n",
    "\n",
    "Y_test_data = Y_test.to_numpy()\n",
    "\n",
    "graph_data = pd.DataFrame({'Actual':Y_test_data.flatten(),'Prediction':actual_prediction.flatten()})\n",
    "print(graph_data)\n",
    "\n",
    "import matplotlib.pyplot as plt\n",
    "\n",
    "graph_data_1 = graph_data.head(30)  #considering first 30 values for graphic visualization\n",
    "graph_data_1.plot(kind = 'bar',figsize =(16,10))\n",
    "plt.grid(which='major', linestyle='-', linewidth='0.5', color='red')\n",
    "plt.grid(which='minor', linestyle=':', linewidth='0.5', color='black')\n",
    "plt.show()"
   ]
  },
  {
   "cell_type": "code",
   "execution_count": 372,
   "metadata": {},
   "outputs": [],
   "source": [
    "# comparing via confusion matrix\n",
    "Y_test_c = Y_test.to_numpy()\n",
    "results = confusion_matrix(Y_test_c.ravel(),actual_prediction.ravel())"
   ]
  },
  {
   "cell_type": "code",
   "execution_count": null,
   "metadata": {},
   "outputs": [],
   "source": []
  },
  {
   "cell_type": "code",
   "execution_count": null,
   "metadata": {},
   "outputs": [],
   "source": []
  }
 ],
 "metadata": {
  "kernelspec": {
   "display_name": "Python 3",
   "language": "python",
   "name": "python3"
  },
  "language_info": {
   "codemirror_mode": {
    "name": "ipython",
    "version": 3
   },
   "file_extension": ".py",
   "mimetype": "text/x-python",
   "name": "python",
   "nbconvert_exporter": "python",
   "pygments_lexer": "ipython3",
   "version": "3.7.4"
  }
 },
 "nbformat": 4,
 "nbformat_minor": 2
}
