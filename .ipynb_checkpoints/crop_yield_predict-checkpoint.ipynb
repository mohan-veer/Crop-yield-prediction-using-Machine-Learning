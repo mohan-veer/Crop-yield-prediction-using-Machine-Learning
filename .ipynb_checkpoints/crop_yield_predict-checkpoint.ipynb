{
 "cells": [
  {
   "cell_type": "code",
   "execution_count": 148,
   "metadata": {},
   "outputs": [],
   "source": [
    "import numpy as np\n",
    "import pandas as pd\n",
    "from sklearn import preprocessing\n",
    "import category_encoders as ce\n",
    "from sklearn.ensemble import RandomForestRegressor\n",
    "from sklearn.model_selection import train_test_split\n",
    "from sklearn.impute import SimpleImputer\n",
    "from sklearn import metrics"
   ]
  },
  {
   "cell_type": "code",
   "execution_count": 86,
   "metadata": {},
   "outputs": [
    {
     "data": {
      "text/html": [
       "<div>\n",
       "<style scoped>\n",
       "    .dataframe tbody tr th:only-of-type {\n",
       "        vertical-align: middle;\n",
       "    }\n",
       "\n",
       "    .dataframe tbody tr th {\n",
       "        vertical-align: top;\n",
       "    }\n",
       "\n",
       "    .dataframe thead th {\n",
       "        text-align: right;\n",
       "    }\n",
       "</style>\n",
       "<table border=\"1\" class=\"dataframe\">\n",
       "  <thead>\n",
       "    <tr style=\"text-align: right;\">\n",
       "      <th></th>\n",
       "      <th>State_Name</th>\n",
       "      <th>District_Name</th>\n",
       "      <th>Crop_Year</th>\n",
       "      <th>Season</th>\n",
       "      <th>Crop</th>\n",
       "      <th>Area</th>\n",
       "      <th>Production</th>\n",
       "    </tr>\n",
       "  </thead>\n",
       "  <tbody>\n",
       "    <tr>\n",
       "      <td>0</td>\n",
       "      <td>Andaman and Nicobar Islands</td>\n",
       "      <td>NICOBARS</td>\n",
       "      <td>2000</td>\n",
       "      <td>Kharif</td>\n",
       "      <td>Arecanut</td>\n",
       "      <td>1254.0</td>\n",
       "      <td>2000.0</td>\n",
       "    </tr>\n",
       "    <tr>\n",
       "      <td>1</td>\n",
       "      <td>Andaman and Nicobar Islands</td>\n",
       "      <td>NICOBARS</td>\n",
       "      <td>2000</td>\n",
       "      <td>Kharif</td>\n",
       "      <td>Other Kharif pulses</td>\n",
       "      <td>2.0</td>\n",
       "      <td>1.0</td>\n",
       "    </tr>\n",
       "    <tr>\n",
       "      <td>2</td>\n",
       "      <td>Andaman and Nicobar Islands</td>\n",
       "      <td>NICOBARS</td>\n",
       "      <td>2000</td>\n",
       "      <td>Kharif</td>\n",
       "      <td>Rice</td>\n",
       "      <td>102.0</td>\n",
       "      <td>321.0</td>\n",
       "    </tr>\n",
       "    <tr>\n",
       "      <td>3</td>\n",
       "      <td>Andaman and Nicobar Islands</td>\n",
       "      <td>NICOBARS</td>\n",
       "      <td>2000</td>\n",
       "      <td>Whole Year</td>\n",
       "      <td>Banana</td>\n",
       "      <td>176.0</td>\n",
       "      <td>641.0</td>\n",
       "    </tr>\n",
       "    <tr>\n",
       "      <td>4</td>\n",
       "      <td>Andaman and Nicobar Islands</td>\n",
       "      <td>NICOBARS</td>\n",
       "      <td>2000</td>\n",
       "      <td>Whole Year</td>\n",
       "      <td>Cashewnut</td>\n",
       "      <td>720.0</td>\n",
       "      <td>165.0</td>\n",
       "    </tr>\n",
       "    <tr>\n",
       "      <td>...</td>\n",
       "      <td>...</td>\n",
       "      <td>...</td>\n",
       "      <td>...</td>\n",
       "      <td>...</td>\n",
       "      <td>...</td>\n",
       "      <td>...</td>\n",
       "      <td>...</td>\n",
       "    </tr>\n",
       "    <tr>\n",
       "      <td>246086</td>\n",
       "      <td>West Bengal</td>\n",
       "      <td>PURULIA</td>\n",
       "      <td>2014</td>\n",
       "      <td>Summer</td>\n",
       "      <td>Rice</td>\n",
       "      <td>306.0</td>\n",
       "      <td>801.0</td>\n",
       "    </tr>\n",
       "    <tr>\n",
       "      <td>246087</td>\n",
       "      <td>West Bengal</td>\n",
       "      <td>PURULIA</td>\n",
       "      <td>2014</td>\n",
       "      <td>Summer</td>\n",
       "      <td>Sesamum</td>\n",
       "      <td>627.0</td>\n",
       "      <td>463.0</td>\n",
       "    </tr>\n",
       "    <tr>\n",
       "      <td>246088</td>\n",
       "      <td>West Bengal</td>\n",
       "      <td>PURULIA</td>\n",
       "      <td>2014</td>\n",
       "      <td>Whole Year</td>\n",
       "      <td>Sugarcane</td>\n",
       "      <td>324.0</td>\n",
       "      <td>16250.0</td>\n",
       "    </tr>\n",
       "    <tr>\n",
       "      <td>246089</td>\n",
       "      <td>West Bengal</td>\n",
       "      <td>PURULIA</td>\n",
       "      <td>2014</td>\n",
       "      <td>Winter</td>\n",
       "      <td>Rice</td>\n",
       "      <td>279151.0</td>\n",
       "      <td>597899.0</td>\n",
       "    </tr>\n",
       "    <tr>\n",
       "      <td>246090</td>\n",
       "      <td>West Bengal</td>\n",
       "      <td>PURULIA</td>\n",
       "      <td>2014</td>\n",
       "      <td>Winter</td>\n",
       "      <td>Sesamum</td>\n",
       "      <td>175.0</td>\n",
       "      <td>88.0</td>\n",
       "    </tr>\n",
       "  </tbody>\n",
       "</table>\n",
       "<p>246091 rows × 7 columns</p>\n",
       "</div>"
      ],
      "text/plain": [
       "                         State_Name District_Name  Crop_Year       Season  \\\n",
       "0       Andaman and Nicobar Islands      NICOBARS       2000  Kharif        \n",
       "1       Andaman and Nicobar Islands      NICOBARS       2000  Kharif        \n",
       "2       Andaman and Nicobar Islands      NICOBARS       2000  Kharif        \n",
       "3       Andaman and Nicobar Islands      NICOBARS       2000  Whole Year    \n",
       "4       Andaman and Nicobar Islands      NICOBARS       2000  Whole Year    \n",
       "...                             ...           ...        ...          ...   \n",
       "246086                  West Bengal       PURULIA       2014  Summer        \n",
       "246087                  West Bengal       PURULIA       2014  Summer        \n",
       "246088                  West Bengal       PURULIA       2014  Whole Year    \n",
       "246089                  West Bengal       PURULIA       2014  Winter        \n",
       "246090                  West Bengal       PURULIA       2014  Winter        \n",
       "\n",
       "                       Crop      Area  Production  \n",
       "0                  Arecanut    1254.0      2000.0  \n",
       "1       Other Kharif pulses       2.0         1.0  \n",
       "2                      Rice     102.0       321.0  \n",
       "3                    Banana     176.0       641.0  \n",
       "4                 Cashewnut     720.0       165.0  \n",
       "...                     ...       ...         ...  \n",
       "246086                 Rice     306.0       801.0  \n",
       "246087              Sesamum     627.0       463.0  \n",
       "246088            Sugarcane     324.0     16250.0  \n",
       "246089                 Rice  279151.0    597899.0  \n",
       "246090              Sesamum     175.0        88.0  \n",
       "\n",
       "[246091 rows x 7 columns]"
      ]
     },
     "execution_count": 86,
     "metadata": {},
     "output_type": "execute_result"
    }
   ],
   "source": [
    "data_crops = pd.read_csv(\"apy.csv\")\n",
    "data_crops"
   ]
  },
  {
   "cell_type": "code",
   "execution_count": 87,
   "metadata": {},
   "outputs": [
    {
     "name": "stdout",
     "output_type": "stream",
     "text": [
      "33\n",
      "646\n",
      "6\n",
      "124\n"
     ]
    }
   ],
   "source": [
    "print(len(data_crops['State_Name'].unique()))  \n",
    "print(len(data_crops['District_Name'].unique()))\n",
    "print(len(data_crops['Season'].unique()))\n",
    "print(len(data_crops['Crop'].unique()))"
   ]
  },
  {
   "cell_type": "code",
   "execution_count": 88,
   "metadata": {},
   "outputs": [
    {
     "data": {
      "text/plain": [
       "'While converting the non-numericdata (categorical) to numeric data.....we ought to compare one-hot encoding \\nand binary encoding\\nFields considered are\\n1.states\\n2.districts\\n3.crop\\n4.seasons\\n'"
      ]
     },
     "execution_count": 88,
     "metadata": {},
     "output_type": "execute_result"
    }
   ],
   "source": [
    "'''While converting the non-numericdata (categorical) to numeric data.....we ought to compare one-hot encoding \n",
    "and binary encoding\n",
    "Fields considered are\n",
    "1.states\n",
    "2.districts\n",
    "3.crop\n",
    "4.seasons\n",
    "'''"
   ]
  },
  {
   "cell_type": "code",
   "execution_count": 135,
   "metadata": {},
   "outputs": [
    {
     "data": {
      "text/plain": [
       "(246091, 812)"
      ]
     },
     "execution_count": 135,
     "metadata": {},
     "output_type": "execute_result"
    }
   ],
   "source": [
    "#ONE HOT ENCODING\n",
    "\n",
    "ohe = ce.OneHotEncoder()\n",
    "d_1 = ohe.fit_transform(data_crops)\n",
    "d_1.shape"
   ]
  },
  {
   "cell_type": "code",
   "execution_count": 136,
   "metadata": {},
   "outputs": [
    {
     "data": {
      "text/plain": [
       "(246091, 33)"
      ]
     },
     "execution_count": 136,
     "metadata": {},
     "output_type": "execute_result"
    }
   ],
   "source": [
    "#BINARY ENCODING\n",
    "\n",
    "be = ce.BinaryEncoder()\n",
    "data = be.fit_transform(data_crops)   #if none columns are specified the method considers all the string attributes by default\n",
    "data.shape"
   ]
  },
  {
   "cell_type": "code",
   "execution_count": 137,
   "metadata": {},
   "outputs": [
    {
     "name": "stdout",
     "output_type": "stream",
     "text": [
      "<class 'pandas.core.frame.DataFrame'>\n",
      "<class 'pandas.core.frame.DataFrame'>\n"
     ]
    }
   ],
   "source": [
    "'''reducing the column count from 812 to 33 by using the binary encoding'''\n",
    "\n",
    "\n",
    "#converting the dataframe to arrays\n",
    "Y = data.iloc[:,32]\n",
    "X = data.drop('Production',axis = 'columns')\n",
    "Y = Y.to_frame()\n",
    "print(type(X))\n",
    "print(type(Y))\n"
   ]
  },
  {
   "cell_type": "code",
   "execution_count": 138,
   "metadata": {},
   "outputs": [
    {
     "name": "stdout",
     "output_type": "stream",
     "text": [
      "Production    3730\n",
      "dtype: int64\n",
      "State_Name_0        0\n",
      "State_Name_1        0\n",
      "State_Name_2        0\n",
      "State_Name_3        0\n",
      "State_Name_4        0\n",
      "State_Name_5        0\n",
      "State_Name_6        0\n",
      "District_Name_0     0\n",
      "District_Name_1     0\n",
      "District_Name_2     0\n",
      "District_Name_3     0\n",
      "District_Name_4     0\n",
      "District_Name_5     0\n",
      "District_Name_6     0\n",
      "District_Name_7     0\n",
      "District_Name_8     0\n",
      "District_Name_9     0\n",
      "District_Name_10    0\n",
      "Crop_Year           0\n",
      "Season_0            0\n",
      "Season_1            0\n",
      "Season_2            0\n",
      "Season_3            0\n",
      "Crop_0              0\n",
      "Crop_1              0\n",
      "Crop_2              0\n",
      "Crop_3              0\n",
      "Crop_4              0\n",
      "Crop_5              0\n",
      "Crop_6              0\n",
      "Crop_7              0\n",
      "Area                0\n",
      "dtype: int64\n"
     ]
    }
   ],
   "source": [
    "#finding and replacing the missing values\n",
    "\n",
    "print(Y.isnull().sum())\n",
    "print(X.isnull().sum())\n",
    "\n",
    "# Having missing values in production \n",
    "Y.Production.fillna(Y.Production.mean(),inplace=True)"
   ]
  },
  {
   "cell_type": "code",
   "execution_count": 142,
   "metadata": {},
   "outputs": [],
   "source": [
    "#spliting the data into X and Y\n",
    "\n",
    "X_train,X_test,Y_train,Y_test = train_test_split(X, Y, train_size = 0.8, test_size = 0.2)\n"
   ]
  },
  {
   "cell_type": "code",
   "execution_count": 151,
   "metadata": {},
   "outputs": [
    {
     "name": "stderr",
     "output_type": "stream",
     "text": [
      "/Users/mohankalyanveeraghanta/Software-Applications/anaconda3/lib/python3.7/site-packages/ipykernel_launcher.py:4: DataConversionWarning: A column-vector y was passed when a 1d array was expected. Please change the shape of y to (n_samples,), for example using ravel().\n",
      "  after removing the cwd from sys.path.\n"
     ]
    },
    {
     "name": "stdout",
     "output_type": "stream",
     "text": [
      "trained\n",
      "        State_Name_0  State_Name_1  State_Name_2  State_Name_3  State_Name_4  \\\n",
      "146467             0             0             1             0             1   \n",
      "9422               0             0             0             0             0   \n",
      "99523              0             0             1             0             0   \n",
      "42893              0             0             0             0             1   \n",
      "114761             0             0             1             0             0   \n",
      "...              ...           ...           ...           ...           ...   \n",
      "55556              0             0             0             0             1   \n",
      "17833              0             0             0             0             1   \n",
      "193885             0             0             1             1             1   \n",
      "230007             0             0             1             1             1   \n",
      "162890             0             0             1             1             0   \n",
      "\n",
      "        State_Name_5  State_Name_6  District_Name_0  District_Name_1  \\\n",
      "146467             1             0                0                0   \n",
      "9422               1             0                0                0   \n",
      "99523              0             0                0                0   \n",
      "42893              0             1                0                0   \n",
      "114761             0             1                0                0   \n",
      "...              ...           ...              ...              ...   \n",
      "55556              1             1                0                0   \n",
      "17833              0             0                0                0   \n",
      "193885             0             1                0                1   \n",
      "230007             1             1                0                1   \n",
      "162890             0             1                0                0   \n",
      "\n",
      "        District_Name_2  ...  Season_3  Crop_0  Crop_1  Crop_2  Crop_3  \\\n",
      "146467                1  ...         1       0       0       1       0   \n",
      "9422                  0  ...         0       0       0       1       1   \n",
      "99523                 1  ...         0       0       0       0       0   \n",
      "42893                 0  ...         1       0       0       0       1   \n",
      "114761                1  ...         0       0       0       1       0   \n",
      "...                 ...  ...       ...     ...     ...     ...     ...   \n",
      "55556                 0  ...         1       0       0       0       1   \n",
      "17833                 0  ...         1       0       0       1       0   \n",
      "193885                0  ...         0       0       0       0       0   \n",
      "230007                0  ...         0       0       0       0       1   \n",
      "162890                1  ...         0       0       0       1       0   \n",
      "\n",
      "        Crop_4  Crop_5  Crop_6  Crop_7     Area  \n",
      "146467       1       0       1       0   4000.0  \n",
      "9422         0       1       0       0    644.0  \n",
      "99523        0       1       1       0  63791.0  \n",
      "42893        0       0       0       1     98.0  \n",
      "114761       1       1       1       0   3216.0  \n",
      "...        ...     ...     ...     ...      ...  \n",
      "55556        1       0       0       1     55.0  \n",
      "17833        0       1       1       0    510.0  \n",
      "193885       0       1       0       0    527.0  \n",
      "230007       1       1       1       0  55981.0  \n",
      "162890       1       0       0       1    100.0  \n",
      "\n",
      "[196872 rows x 32 columns]\n",
      "         Production\n",
      "146467       5420.0\n",
      "9422         2579.0\n",
      "99523   705000000.0\n",
      "42893          90.0\n",
      "114761          0.0\n",
      "...             ...\n",
      "55556          71.0\n",
      "17833         203.0\n",
      "193885       2160.0\n",
      "230007     105693.0\n",
      "162890        100.0\n",
      "\n",
      "[196872 rows x 1 columns]\n"
     ]
    }
   ],
   "source": [
    "# Defining the Random Regressor\n",
    "\n",
    "regressor = RandomForestRegressor(n_estimators = 10,random_state = 0)\n",
    "regressor.fit(X_train,Y_train)\n",
    "print(\"trained\")\n",
    "print(X_train)\n",
    "print(Y_train)"
   ]
  },
  {
   "cell_type": "code",
   "execution_count": 152,
   "metadata": {},
   "outputs": [],
   "source": [
    "#testing\n",
    "\n",
    "actual_prediction = regressor.predict(X_test)\n",
    "\n",
    "actual_prediction\n",
    "Y_test"
   ]
  },
  {
   "cell_type": "code",
   "execution_count": 153,
   "metadata": {},
   "outputs": [],
   "source": [
    "calculating the error rate\n",
    "\n",
    "print('Mean Squared Error:', metrics.mean_squared_error(Y_test, actual_prediction))"
   ]
  },
  {
   "cell_type": "code",
   "execution_count": null,
   "metadata": {},
   "outputs": [],
   "source": []
  }
 ],
 "metadata": {
  "kernelspec": {
   "display_name": "Python 3",
   "language": "python",
   "name": "python3"
  },
  "language_info": {
   "codemirror_mode": {
    "name": "ipython",
    "version": 3
   },
   "file_extension": ".py",
   "mimetype": "text/x-python",
   "name": "python",
   "nbconvert_exporter": "python",
   "pygments_lexer": "ipython3",
   "version": "3.7.4"
  }
 },
 "nbformat": 4,
 "nbformat_minor": 2
}
