{
 "cells": [
  {
   "cell_type": "code",
   "execution_count": 62,
   "metadata": {},
   "outputs": [],
   "source": [
    "import numpy as np\n",
    "import pandas as pd\n",
    "import category_encoders as ce                       # converting or encoding the NON-Numneric (or) String attributes\n",
    "from sklearn.ensemble import RandomForestRegressor   # training and predicting class\n",
    "from sklearn.model_selection import train_test_split # splitting the data\n",
    "from sklearn.impute import SimpleImputer             # for missing values\n",
    "from sklearn.metrics import *                        # accuracy calculation\n"
   ]
  },
  {
   "cell_type": "code",
   "execution_count": 63,
   "metadata": {},
   "outputs": [
    {
     "name": "stdout",
     "output_type": "stream",
     "text": [
      "['Andaman and Nicobar Islands' 'Andhra Pradesh' 'Arunachal Pradesh'\n",
      " 'Assam' 'Bihar' 'Chandigarh' 'Chhattisgarh' 'Dadra and Nagar Haveli'\n",
      " 'Goa' 'Gujarat' 'Haryana' 'Himachal Pradesh' 'Jammu and Kashmir '\n",
      " 'Jharkhand' 'Karnataka' 'Kerala' 'Madhya Pradesh' 'Maharashtra' 'Manipur'\n",
      " 'Meghalaya' 'Mizoram' 'Nagaland' 'Odisha' 'Puducherry' 'Punjab'\n",
      " 'Rajasthan' 'Sikkim' 'Tamil Nadu' 'Telangana ' 'Tripura' 'Uttar Pradesh'\n",
      " 'Uttarakhand' 'West Bengal']\n",
      "['Kharif     ' 'Whole Year ' 'Autumn     ' 'Rabi       ' 'Summer     '\n",
      " 'Winter     ']\n"
     ]
    }
   ],
   "source": [
    "data_crops = pd.read_csv(\"apy.csv\")\n",
    "data_crops\n",
    "states_data = data_crops.State_Name.unique()\n",
    "print(states_data)\n",
    "print(data_crops.Season.unique())"
   ]
  },
  {
   "cell_type": "code",
   "execution_count": 64,
   "metadata": {},
   "outputs": [
    {
     "name": "stdout",
     "output_type": "stream",
     "text": [
      "33\n",
      "646\n",
      "6\n",
      "124\n"
     ]
    }
   ],
   "source": [
    "print(len(data_crops['State_Name'].unique()))  \n",
    "print(len(data_crops['District_Name'].unique()))\n",
    "print(len(data_crops['Season'].unique()))\n",
    "print(len(data_crops['Crop'].unique()))"
   ]
  },
  {
   "cell_type": "code",
   "execution_count": 65,
   "metadata": {},
   "outputs": [
    {
     "name": "stdout",
     "output_type": "stream",
     "text": [
      "                    SUBDIVISION  YEAR   JAN    FEB   MAR    APR    MAY    JUN  \\\n",
      "0     ANDAMAN & NICOBAR ISLANDS  1901  49.2   87.1  29.2    2.3  528.8  517.5   \n",
      "1     ANDAMAN & NICOBAR ISLANDS  1902   0.0  159.8  12.2    0.0  446.1  537.1   \n",
      "2     ANDAMAN & NICOBAR ISLANDS  1903  12.7  144.0   0.0    1.0  235.1  479.9   \n",
      "3     ANDAMAN & NICOBAR ISLANDS  1904   9.4   14.7   0.0  202.4  304.5  495.1   \n",
      "4     ANDAMAN & NICOBAR ISLANDS  1905   1.3    0.0   3.3   26.9  279.5  628.7   \n",
      "...                         ...   ...   ...    ...   ...    ...    ...    ...   \n",
      "4111                LAKSHADWEEP  2011   5.1    2.8   3.1   85.9  107.2  153.6   \n",
      "4112                LAKSHADWEEP  2012  19.2    0.1   1.6   76.8   21.2  327.0   \n",
      "4113                LAKSHADWEEP  2013  26.2   34.4  37.5    5.3   88.3  426.2   \n",
      "4114                LAKSHADWEEP  2014  53.2   16.1   4.4   14.9   57.4  244.1   \n",
      "4115                LAKSHADWEEP  2015   2.2    0.5   3.7   87.1  133.1  296.6   \n",
      "\n",
      "        JUL    AUG    SEP    OCT    NOV    DEC  ANNUAL  Jan-Feb  Mar-May  \\\n",
      "0     365.1  481.1  332.6  388.5  558.2   33.6  3373.2    136.3    560.3   \n",
      "1     228.9  753.7  666.2  197.2  359.0  160.5  3520.7    159.8    458.3   \n",
      "2     728.4  326.7  339.0  181.2  284.4  225.0  2957.4    156.7    236.1   \n",
      "3     502.0  160.1  820.4  222.2  308.7   40.1  3079.6     24.1    506.9   \n",
      "4     368.7  330.5  297.0  260.7   25.4  344.7  2566.7      1.3    309.7   \n",
      "...     ...    ...    ...    ...    ...    ...     ...      ...      ...   \n",
      "4111  350.2  254.0  255.2  117.4  184.3   14.9  1533.7      7.9    196.2   \n",
      "4112  231.5  381.2  179.8  145.9   12.4    8.8  1405.5     19.3     99.6   \n",
      "4113  296.4  154.4  180.0   72.8   78.1   26.7  1426.3     60.6    131.1   \n",
      "4114  116.1  466.1  132.2  169.2   59.0   62.3  1395.0     69.3     76.7   \n",
      "4115  257.5  146.4  160.4  165.4  231.0  159.0  1642.9      2.7    223.9   \n",
      "\n",
      "      Jun-Sep  Oct-Dec  \n",
      "0      1696.3    980.3  \n",
      "1      2185.9    716.7  \n",
      "2      1874.0    690.6  \n",
      "3      1977.6    571.0  \n",
      "4      1624.9    630.8  \n",
      "...       ...      ...  \n",
      "4111   1013.0    316.6  \n",
      "4112   1119.5    167.1  \n",
      "4113   1057.0    177.6  \n",
      "4114    958.5    290.5  \n",
      "4115    860.9    555.4  \n",
      "\n",
      "[4116 rows x 19 columns]\n",
      "['ANDAMAN & NICOBAR ISLANDS' 'ARUNACHAL PRADESH' 'ASSAM & MEGHALAYA'\n",
      " 'NAGA MANI MIZO TRIPURA' 'SUB HIMALAYAN WEST BENGAL & SIKKIM'\n",
      " 'GANGETIC WEST BENGAL' 'ORISSA' 'JHARKHAND' 'BIHAR' 'EAST UTTAR PRADESH'\n",
      " 'WEST UTTAR PRADESH' 'UTTARAKHAND' 'HARYANA DELHI & CHANDIGARH' 'PUNJAB'\n",
      " 'HIMACHAL PRADESH' 'JAMMU & KASHMIR' 'WEST RAJASTHAN' 'EAST RAJASTHAN'\n",
      " 'WEST MADHYA PRADESH' 'EAST MADHYA PRADESH' 'GUJARAT REGION'\n",
      " 'SAURASHTRA & KUTCH' 'KONKAN & GOA' 'MADHYA MAHARASHTRA' 'MATATHWADA'\n",
      " 'VIDARBHA' 'CHHATTISGARH' 'COASTAL ANDHRA PRADESH' 'TELANGANA'\n",
      " 'RAYALSEEMA' 'TAMIL NADU' 'COASTAL KARNATAKA' 'NORTH INTERIOR KARNATAKA'\n",
      " 'SOUTH INTERIOR KARNATAKA' 'KERALA' 'LAKSHADWEEP']\n"
     ]
    }
   ],
   "source": [
    "rainfall_data = pd.read_csv(\"rainfall.csv\")\n",
    "print(rainfall_data)\n",
    "print(rainfall_data.SUBDIVISION.unique())"
   ]
  },
  {
   "cell_type": "code",
   "execution_count": 66,
   "metadata": {},
   "outputs": [
    {
     "name": "stdout",
     "output_type": "stream",
     "text": [
      "['Andaman and Nicobar Islands', 'Andhra Pradesh', 'Assam', 'Chandigarh', 'Dadra and Nagar Haveli', 'Goa', 'Gujarat', 'Haryana', 'Jammu and Kashmir ', 'Karnataka', 'Madhya Pradesh', 'Maharashtra', 'Manipur', 'Meghalaya', 'Mizoram', 'Nagaland', 'Odisha', 'Puducherry', 'Rajasthan', 'Sikkim', 'Telangana ', 'Tripura', 'Uttar Pradesh', 'West Bengal']\n",
      "9\n"
     ]
    }
   ],
   "source": [
    "# state names are not exact as in the apy.csv dataset\n",
    "states = rainfall_data.SUBDIVISION.unique()\n",
    "found = []\n",
    "not_found_states = []\n",
    "for state in states_data:\n",
    "    if state.upper() not in states:\n",
    "        not_found_states.append(state)\n",
    "    else:\n",
    "        found.append(state)\n",
    "        \n",
    "print(not_found_states)\n",
    "print(len(found))"
   ]
  },
  {
   "cell_type": "code",
   "execution_count": 67,
   "metadata": {},
   "outputs": [],
   "source": [
    "# changing few strings for easy matching\n",
    "\n",
    "rainfall_data[\"SUBDIVISION\"] = rainfall_data[\"SUBDIVISION\"].replace(\"ANDAMAN & NICOBAR ISLANDS\",\"Andaman and Nicobar Islands\")\n",
    "rainfall_data[\"SUBDIVISION\"] = rainfall_data[\"SUBDIVISION\"].replace(\"GUJARAT REGION\",\"Gujarat\")\n",
    "rainfall_data[\"SUBDIVISION\"] = rainfall_data[\"SUBDIVISION\"].replace(\"JAMMU & KASHMIR\",\"Jammu and Kashmir\")\n"
   ]
  },
  {
   "cell_type": "code",
   "execution_count": 68,
   "metadata": {},
   "outputs": [
    {
     "name": "stdout",
     "output_type": "stream",
     "text": [
      "UTTAR PRADESH\n",
      "\n",
      "\n",
      "       SUBDIVISION  YEAR    JAN    FEB    MAR   APR   MAY    JUN    JUL  \\\n",
      "0    Uttar Pradesh  1901  114.0   56.9   17.7   1.8  19.2   45.6  428.4   \n",
      "1    Uttar Pradesh  1902   10.7    6.9    3.0   6.8  28.6   87.0  737.4   \n",
      "2    Uttar Pradesh  1903   21.6    0.8    2.5   0.7  23.5  104.3  260.7   \n",
      "3    Uttar Pradesh  1904   13.6    3.5   38.0   0.8  53.5  216.5  718.2   \n",
      "4    Uttar Pradesh  1905   49.1   50.2   34.8   9.0  22.5   36.2  442.2   \n",
      "..             ...   ...    ...    ...    ...   ...   ...    ...    ...   \n",
      "110  Uttar Pradesh  2011    3.1   13.1    5.5   5.7  61.8  339.7  413.8   \n",
      "111  Uttar Pradesh  2012   34.8    1.3    4.8   7.5   0.5   22.5  379.3   \n",
      "112  Uttar Pradesh  2013   26.5  129.1    6.2  10.3   3.2  500.3  463.9   \n",
      "113  Uttar Pradesh  2014   95.7   55.2   38.0   7.0  21.7   69.8  376.1   \n",
      "114  Uttar Pradesh  2015   61.6   11.3  115.0  44.2  16.7  167.3  373.2   \n",
      "\n",
      "       AUG    SEP    OCT   NOV   DEC  ANNUAL  Jan-Feb  Mar-May  Jun-Sep  \\\n",
      "0    659.9  283.1   12.5   0.1  10.0  1649.1    170.8     38.7   1417.0   \n",
      "1    336.0  400.3   22.8   2.1   0.2  1641.8     17.5     38.6   1560.7   \n",
      "2    699.3  409.1  502.0   0.0   0.4  2024.8     22.3     26.7   1473.4   \n",
      "3    639.9  192.1   53.3  32.7  54.5  2016.4     17.0     92.3   1766.6   \n",
      "4    411.2  261.7    3.5   0.0   4.5  1325.1     99.5     66.4   1151.3   \n",
      "..     ...    ...    ...   ...   ...     ...      ...      ...      ...   \n",
      "110  464.4  248.1    1.3   0.5   1.5  1558.6     16.2     73.0   1466.1   \n",
      "111  305.1  232.2    1.2   0.4   2.7   992.3     36.0     12.8    939.1   \n",
      "112  533.2  130.4  158.6   2.2  10.0  1974.2    155.7     19.8   1627.8   \n",
      "113  219.1  191.4   89.3   0.0  24.7  1188.1    151.0     66.7    856.5   \n",
      "114  319.3   48.4   18.7   2.5   7.9  1186.0     72.9    175.9    908.1   \n",
      "\n",
      "     Oct-Dec  \n",
      "0       22.5  \n",
      "1       25.1  \n",
      "2      502.3  \n",
      "3      140.5  \n",
      "4        8.0  \n",
      "..       ...  \n",
      "110      3.3  \n",
      "111      4.5  \n",
      "112    170.8  \n",
      "113    113.9  \n",
      "114     29.1  \n",
      "\n",
      "[115 rows x 19 columns]\n"
     ]
    }
   ],
   "source": [
    "'''Definign a function to make the rainfall data appropriate with complete STATE NAME\n",
    "     example: Karnataka = Coastal_karnataka + North karnataka + south Karnataka.\n",
    "              Uttar Pradesh = East Uttar pradesh + West uttar pradesh'''\n",
    "\n",
    "def getting_values(states_information):\n",
    "    state_value = []\n",
    "    result = []\n",
    "    for state in states_information:\n",
    "        temp = rainfall_data.loc[rainfall_data[\"SUBDIVISION\"] == state]\n",
    "        state_value.append(temp)\n",
    "    for i in range(0,len(state_value)):\n",
    "        state_value[i] = state_value[i].drop([\"SUBDIVISION\"],axis='columns')\n",
    "        #working fine\n",
    "    for i in range(0,len(state_value)):\n",
    "        state_value[i] = state_value[i].reset_index(drop=True)\n",
    "        #working fine\n",
    "    years = state_value[0][\"YEAR\"]\n",
    "    \n",
    "    if(len(state_value)==2):\n",
    "        result = state_value[0].add(state_value[1],fill_value=None)\n",
    "    elif(len(state_value)==3):    \n",
    "        temp1  = state_value[0].add(state_value[1],fill_value=None)\n",
    "        result = temp1.add(state_value[2],fill_value=None)\n",
    "    elif(len(state_value)==4):\n",
    "        temp1 = state_value[0].add(state_value[1],fill_value=None)\n",
    "        temp2 = temp1.add(state_value[2],fill_value=None)\n",
    "        result = temp2.add(state_value[3],fill_value=None)\n",
    "    \n",
    "    result = result.drop([\"YEAR\"],axis='columns')\n",
    "    result.insert(0,\"YEAR\",years)\n",
    "    return result\n",
    "\n",
    "# UTTAR PRADESH\n",
    "states_up = ['EAST UTTAR PRADESH','WEST UTTAR PRADESH']\n",
    "uttar_pradesh = getting_values(states_up)\n",
    "uttar_pradesh.insert(0,\"SUBDIVISION\",\"Uttar Pradesh\")\n",
    "print(\"UTTAR PRADESH\\n\\n\")\n",
    "print(uttar_pradesh)\n"
   ]
  },
  {
   "cell_type": "code",
   "execution_count": 69,
   "metadata": {},
   "outputs": [
    {
     "name": "stdout",
     "output_type": "stream",
     "text": [
      "KARNATAKA\n",
      "\n",
      "\n",
      "    SUBDIVISION  YEAR   JAN   FEB   MAR    APR    MAY     JUN     JUL     AUG  \\\n",
      "0     Karnataka  1901  10.2  51.2  20.8  152.3  256.7  1187.4  1353.1   830.7   \n",
      "1     Karnataka  1902   5.1   0.8  11.9   75.3  186.7   901.4  1694.8   614.4   \n",
      "2     Karnataka  1903   4.5   0.0   1.2   22.6  381.3   769.0  1899.3   895.9   \n",
      "3     Karnataka  1904   3.6   0.8  18.5   78.2  284.2  1396.7  1358.7   587.3   \n",
      "4     Karnataka  1905   1.7  14.1  16.8   46.0  252.9   962.8   985.8   866.7   \n",
      "..          ...   ...   ...   ...   ...    ...    ...     ...     ...     ...   \n",
      "110   Karnataka  2011   7.4  23.4  28.3  187.5  179.6  1296.8  1433.7  1212.8   \n",
      "111   Karnataka  2012   NaN  23.1  13.6  211.4   88.0   792.7  1013.8  1369.6   \n",
      "112   Karnataka  2013   4.1  35.8  33.7   88.5  243.4  1428.6  1983.4   905.8   \n",
      "113   Karnataka  2014   0.4   8.8  48.8  113.6  405.4   664.2  1563.8  1580.8   \n",
      "114   Karnataka  2015   5.5   1.2  84.2  203.5  320.9  1043.6  1081.4   790.2   \n",
      "\n",
      "       SEP    OCT    NOV    DEC  ANNUAL  Jan-Feb  Mar-May  Jun-Sep  Oct-Dec  \n",
      "0    377.6  370.6  191.0   31.0  4832.9     61.5    429.9   3749.0    592.7  \n",
      "1    993.5  518.3  131.1  302.2  5435.4      5.9    273.8   4204.2    951.6  \n",
      "2    690.8  505.6  300.2   45.4  5515.8      4.5    404.9   4254.9    851.3  \n",
      "3    500.0  334.1    3.2    0.3  4565.5      4.4    380.8   3842.7    337.6  \n",
      "4    258.2  450.0   62.9    0.3  3917.9     15.7    315.7   3073.3    513.3  \n",
      "..     ...    ...    ...    ...     ...      ...      ...      ...      ...  \n",
      "110  725.4  397.0  143.9   15.2  5651.2     30.8    395.4   4668.7    556.2  \n",
      "111  561.8  263.1  197.1   12.7     NaN      NaN    312.8   3737.9    472.8  \n",
      "112  771.9  469.8   86.0   12.5  6063.3     39.8    365.6   5089.6    568.2  \n",
      "113  631.1  459.6   85.2   63.6  5625.4      9.2    568.0   4439.6    608.5  \n",
      "114  575.6  375.8  268.0   20.4  4770.4      6.7    608.6   3490.8    664.3  \n",
      "\n",
      "[115 rows x 19 columns]\n"
     ]
    }
   ],
   "source": [
    "# KARNATAKA\n",
    "states_karnataka = ['COASTAL KARNATAKA','NORTH INTERIOR KARNATAKA','SOUTH INTERIOR KARNATAKA']\n",
    "karnataka  = getting_values(states_karnataka)\n",
    "karnataka.insert(0,\"SUBDIVISION\",\"Karnataka\")\n",
    "print(\"KARNATAKA\\n\\n\")\n",
    "print(karnataka)\n",
    "\n"
   ]
  },
  {
   "cell_type": "code",
   "execution_count": 70,
   "metadata": {},
   "outputs": [
    {
     "name": "stdout",
     "output_type": "stream",
     "text": [
      "ANDHRA PRADESH \n",
      "\n",
      "\n",
      "        SUBDIVISION  YEAR   JAN    FEB   MAR    APR    MAY    JUN    JUL  \\\n",
      "0    Andhra Pradesh  1901  25.8  131.1   7.2   40.8  107.6  130.7  186.4   \n",
      "1    Andhra Pradesh  1902  12.0    0.2   4.5   34.9   74.4  146.2  185.8   \n",
      "2    Andhra Pradesh  1903  30.8   13.4   0.2    9.8  153.9  221.5  376.1   \n",
      "3    Andhra Pradesh  1904  16.1    0.0   7.1   10.1  195.1  147.6  195.3   \n",
      "4    Andhra Pradesh  1905   7.6   23.5  85.0   55.3  113.0  150.5  115.5   \n",
      "..              ...   ...   ...    ...   ...    ...    ...    ...    ...   \n",
      "110  Andhra Pradesh  2011   0.8   30.0   0.9   96.9  100.9  131.3  324.9   \n",
      "111  Andhra Pradesh  2012  40.3    0.0   5.2   56.7   78.1  142.4  361.6   \n",
      "112  Andhra Pradesh  2013   3.3   60.2  11.7   74.8   67.1  201.3  258.1   \n",
      "113  Andhra Pradesh  2014   0.6    1.9  21.6   11.1  159.6  112.0  220.5   \n",
      "114  Andhra Pradesh  2015   3.9    0.6  18.9  105.7   73.8  356.8  159.1   \n",
      "\n",
      "       AUG    SEP    OCT    NOV   DEC  ANNUAL  Jan-Feb  Mar-May  Jun-Sep  \\\n",
      "0    194.0  234.3  255.0  302.0  92.8  1707.8    156.9    155.6    745.3   \n",
      "1    384.4  386.2  450.5  139.3  63.5  1882.0     12.1    114.0   1102.6   \n",
      "2    398.6  436.2  254.4  463.3  96.1  2454.4     44.3    163.9   1432.4   \n",
      "3    137.1  201.5  352.4    4.4  26.8  1293.6     16.1    212.3    681.6   \n",
      "4    430.1  206.7  246.2   62.8   2.0  1498.6     31.1    253.4    903.0   \n",
      "..     ...    ...    ...    ...   ...     ...      ...      ...      ...   \n",
      "110  379.4  200.9  182.1  111.8  40.1  1599.9     30.7    198.8   1036.6   \n",
      "111  341.2  316.0  253.7  376.3  61.9  2033.4     40.3    140.1   1161.2   \n",
      "112  233.4  295.2  580.8   91.7   5.4  1883.1     63.6    153.7    988.0   \n",
      "113  292.9  225.9  300.2   61.5  19.2  1426.7      2.4    192.2    851.2   \n",
      "114  315.6  338.1  166.4  465.0  54.2  2058.0      4.4    198.3   1169.6   \n",
      "\n",
      "     Oct-Dec  \n",
      "0      649.9  \n",
      "1      653.3  \n",
      "2      813.8  \n",
      "3      383.6  \n",
      "4      311.0  \n",
      "..       ...  \n",
      "110    333.8  \n",
      "111    691.8  \n",
      "112    677.9  \n",
      "113    380.9  \n",
      "114    685.6  \n",
      "\n",
      "[115 rows x 19 columns]\n"
     ]
    }
   ],
   "source": [
    "# ANDHRA PRADESH\n",
    "states_andhra = ['COASTAL ANDHRA PRADESH','RAYALSEEMA']\n",
    "andhra_pradesh = getting_values(states_andhra)\n",
    "andhra_pradesh.insert(0,\"SUBDIVISION\",\"Andhra Pradesh\")\n",
    "print(\"ANDHRA PRADESH \\n\\n\")\n",
    "print(andhra_pradesh)\n",
    "            \n",
    "            "
   ]
  },
  {
   "cell_type": "code",
   "execution_count": 71,
   "metadata": {},
   "outputs": [
    {
     "name": "stdout",
     "output_type": "stream",
     "text": [
      "RAJASTHAN\n",
      "\n",
      "\n",
      "    SUBDIVISION  YEAR   JAN   FEB   MAR   APR   MAY    JUN    JUL    AUG  \\\n",
      "0     Rajasthan  1901  28.3   8.9   4.0   0.7  11.1   18.0  243.8  234.8   \n",
      "1     Rajasthan  1902   4.1   0.7   0.0   2.3  13.9   83.7  274.6  188.0   \n",
      "2     Rajasthan  1903   3.6   2.0   6.8   0.1  17.1   18.3  393.0  316.2   \n",
      "3     Rajasthan  1904   8.1   8.4  38.0   0.9  38.9   64.5  329.5  269.1   \n",
      "4     Rajasthan  1905  10.4  13.6   3.9   2.9   2.3   19.3  160.6   31.5   \n",
      "..          ...   ...   ...   ...   ...   ...   ...    ...    ...    ...   \n",
      "110   Rajasthan  2011   0.0  23.0   1.7   2.0  12.9  165.3  282.1  450.9   \n",
      "111   Rajasthan  2012   2.4   0.0   0.0  13.1  19.9   16.5  210.9  531.7   \n",
      "112   Rajasthan  2013  10.0  43.5   4.6   6.3   2.7  128.2  423.5  416.7   \n",
      "113   Rajasthan  2014  29.2  12.2  11.1  15.7  31.4   37.3  291.4  330.6   \n",
      "114   Rajasthan  2015  13.5   1.0  86.2  41.1  19.0  149.6  532.2  203.3   \n",
      "\n",
      "       SEP   OCT  NOV   DEC  ANNUAL  Jan-Feb  Mar-May  Jun-Sep  Oct-Dec  \n",
      "0      8.5  11.9  0.0   1.4   571.4     37.2     15.7    505.1     13.3  \n",
      "1    187.4  16.2  0.0   2.8   773.9      4.8     16.2    733.7     19.0  \n",
      "2    217.8  17.9  0.0   0.5   993.1      5.7     23.9    945.2     18.3  \n",
      "3     71.6   2.9  8.7  21.8   862.4     16.4     77.9    734.7     33.4  \n",
      "4    148.3   0.0  0.0   1.5   394.2     23.8      9.2    359.7      1.5  \n",
      "..     ...   ...  ...   ...     ...      ...      ...      ...      ...  \n",
      "110  282.7   0.1  0.0   0.0  1220.8     23.0     16.6   1181.0      0.1  \n",
      "111  223.3   2.4  0.0   0.7  1020.9      2.4     33.0    982.3      3.1  \n",
      "112  146.7  40.7  2.3   0.3  1225.5     53.5     13.5   1115.1     43.3  \n",
      "113  221.8   3.7  0.2   1.1   985.7     41.4     58.1    881.0      5.1  \n",
      "114   55.8   6.1  0.6   0.8  1109.1     14.4    146.3    941.0      7.5  \n",
      "\n",
      "[115 rows x 19 columns]\n"
     ]
    }
   ],
   "source": [
    "# RAJASTHAN\n",
    "states_rajasthan = ['WEST RAJASTHAN','EAST RAJASTHAN']\n",
    "rajasthan = getting_values(states_rajasthan)\n",
    "rajasthan.insert(0,\"SUBDIVISION\",\"Rajasthan\")\n",
    "print(\"RAJASTHAN\\n\\n\")\n",
    "print(rajasthan)"
   ]
  },
  {
   "cell_type": "code",
   "execution_count": 72,
   "metadata": {},
   "outputs": [
    {
     "name": "stdout",
     "output_type": "stream",
     "text": [
      "MADHYA PRADESH\n",
      "\n",
      "\n",
      "        SUBDIVISION  YEAR   JAN   FEB    MAR   APR   MAY    JUN    JUL    AUG  \\\n",
      "0    Madhya Pradesh  1901  74.3  43.9   21.5  13.5   8.3  102.2  596.4  939.1   \n",
      "1    Madhya Pradesh  1902  37.0  17.3    0.0   5.6   8.6   63.9  813.8  406.4   \n",
      "2    Madhya Pradesh  1903  10.9   2.9    0.3   0.9  59.8  118.1  566.3  627.8   \n",
      "3    Madhya Pradesh  1904   5.2  30.8   63.0   0.0  20.6  206.5  716.2  535.2   \n",
      "4    Madhya Pradesh  1905  19.4  12.4   15.4  13.1  13.2   70.5  618.7  380.9   \n",
      "..              ...   ...   ...   ...    ...   ...   ...    ...    ...    ...   \n",
      "110  Madhya Pradesh  2011   0.6   3.6    0.4   8.9   8.3  574.0  630.3  670.2   \n",
      "111  Madhya Pradesh  2012  45.6   0.7    0.6   2.0   4.3  116.0  838.1  692.9   \n",
      "112  Madhya Pradesh  2013   3.7  74.5   22.6  12.3   0.7  575.6  941.3  913.4   \n",
      "113  Madhya Pradesh  2014  57.7  84.1   22.4   6.5   3.9  122.4  620.8  442.8   \n",
      "114  Madhya Pradesh  2015  77.5  17.4  126.9  39.1   8.3  293.3  690.4  548.7   \n",
      "\n",
      "       SEP    OCT   NOV   DEC  ANNUAL  Jan-Feb  Mar-May  Jun-Sep  Oct-Dec  \n",
      "0    237.8   11.5   0.0   2.4  2050.9    118.1     43.4   1875.6     13.8  \n",
      "1    430.7   54.9  37.6  20.3  1895.9     54.3     14.2   1714.7    112.7  \n",
      "2    507.6  233.0   0.0   0.0  2127.7     13.8     61.0   1819.8    233.0  \n",
      "3    261.5   48.1   5.0  26.5  1918.6     36.0     83.6   1719.3     79.7  \n",
      "4    434.4    3.2   0.0   1.6  1582.5     31.8     41.6   1504.5      4.7  \n",
      "..     ...    ...   ...   ...     ...      ...      ...      ...      ...  \n",
      "110  441.5    1.3   0.0   0.0  2339.1      4.2     17.6   2315.9      1.3  \n",
      "111  366.9   14.8   3.8   2.7  2088.3     46.2      6.9   2013.9     21.3  \n",
      "112  176.9  192.9   0.8   3.4  2918.2     78.2     35.6   2607.3    197.1  \n",
      "113  332.2   63.4   4.9  28.7  1789.8    141.8     32.8   1518.2     97.0  \n",
      "114  127.2   49.2   1.5   1.9  1981.5     94.9    174.4   1659.6     52.7  \n",
      "\n",
      "[115 rows x 19 columns]\n"
     ]
    }
   ],
   "source": [
    "# MADHYA PRADESH\n",
    "states_mp = ['WEST MADHYA PRADESH','EAST MADHYA PRADESH']\n",
    "madhya_pradesh = getting_values(states_mp)\n",
    "madhya_pradesh.insert(0,\"SUBDIVISION\",\"Madhya Pradesh\")\n",
    "print(\"MADHYA PRADESH\\n\\n\")\n",
    "print(madhya_pradesh)"
   ]
  },
  {
   "cell_type": "code",
   "execution_count": 73,
   "metadata": {},
   "outputs": [
    {
     "name": "stdout",
     "output_type": "stream",
     "text": [
      "MAHARASTRA\n",
      "\n",
      "\n",
      "    SUBDIVISION  YEAR   JAN   FEB    MAR    APR    MAY     JUN     JUL  \\\n",
      "0    Maharastra  1901  77.0  43.9   71.1  146.9   84.1  1176.6  1770.8   \n",
      "1    Maharastra  1902  11.0   0.1    0.5   19.1   22.3   621.2  1546.1   \n",
      "2    Maharastra  1903  15.4   4.8    0.2    7.4  374.4   782.4  2320.1   \n",
      "3    Maharastra  1904   4.7   8.1   33.3    9.8   45.3  1318.5  1174.9   \n",
      "4    Maharastra  1905   8.7  16.0   12.4   25.5   51.0   524.3  1372.7   \n",
      "..          ...   ...   ...   ...    ...    ...    ...     ...     ...   \n",
      "110  Maharastra  2011   0.0   5.3    1.1   19.6    7.7  1207.4  2122.7   \n",
      "111  Maharastra  2012   3.1   0.1    0.0    4.8    5.0   898.6  1663.1   \n",
      "112  Maharastra  2013  10.0  33.1    7.3   16.5   31.4  1768.3  2619.2   \n",
      "113  Maharastra  2014   7.0  43.2  154.8   22.7   62.1   375.9  2013.7   \n",
      "114  Maharastra  2015  40.5   7.1  176.3   80.9   60.8  1313.9   802.8   \n",
      "\n",
      "        AUG     SEP    OCT    NOV    DEC  ANNUAL  Jan-Feb  Mar-May  Jun-Sep  \\\n",
      "0    1560.7   398.5  224.1    9.8    0.6  5563.9    120.8    302.1   4906.5   \n",
      "1     919.5  1207.5  225.6  183.7  194.5  4950.9     11.1     41.9   4294.2   \n",
      "2    1436.8   755.5  455.7   22.3    9.2  6184.2     20.3    381.9   5294.9   \n",
      "3     589.9   935.9  319.3    0.0    1.3  4440.9     12.8     88.3   4019.2   \n",
      "4     738.4   740.0  157.8   21.5    0.0  3668.3     24.7     88.9   3375.5   \n",
      "..      ...     ...    ...    ...    ...     ...      ...      ...      ...   \n",
      "110  1757.3   897.7  212.6    3.1    0.0  6234.5      5.3     28.4   5985.1   \n",
      "111  1367.9  1014.2  374.0   12.1    0.0  5342.6      3.2      9.8   4943.6   \n",
      "112  1107.6   836.8  434.9   13.5   15.9  6894.4     43.1     55.0   6332.0   \n",
      "113  1268.9   849.3  168.7   66.9   30.4  5063.5     50.2    239.7   4507.7   \n",
      "114   845.6   709.3  166.2   48.3    0.3  4252.5     47.7    318.0   3671.8   \n",
      "\n",
      "     Oct-Dec  \n",
      "0      234.4  \n",
      "1      603.9  \n",
      "2      487.2  \n",
      "3      320.6  \n",
      "4      179.2  \n",
      "..       ...  \n",
      "110    215.8  \n",
      "111    386.0  \n",
      "112    464.2  \n",
      "113    266.0  \n",
      "114    214.9  \n",
      "\n",
      "[115 rows x 19 columns]\n"
     ]
    }
   ],
   "source": [
    "# MAHARASTRA\n",
    "states_maharastra = ['MATATHWADA','MADHYA MAHARASHTRA','VIDARBHA','KONKAN & GOA']\n",
    "maharastra = getting_values(states_maharastra)\n",
    "maharastra.insert(0,\"SUBDIVISION\",\"Maharastra\")\n",
    "print(\"MAHARASTRA\\n\\n\")\n",
    "print(maharastra)"
   ]
  },
  {
   "cell_type": "code",
   "execution_count": 74,
   "metadata": {},
   "outputs": [
    {
     "name": "stdout",
     "output_type": "stream",
     "text": [
      "WEST BENGAL \n",
      "\n",
      "\n",
      "     SUBDIVISION  YEAR   JAN   FEB    MAR    APR    MAY    JUN     JUL  \\\n",
      "0    West Bengal  1901  63.6  73.2   18.0   93.3  317.2  686.4   805.6   \n",
      "1    West Bengal  1902   1.2   1.9  131.3  229.9  432.9  680.1  1018.8   \n",
      "2    West Bengal  1903  23.0  33.3   56.9   49.2  242.1  742.9   611.1   \n",
      "3    West Bengal  1904   3.5  53.1   36.5  141.8  493.8  560.9   935.7   \n",
      "4    West Bengal  1905  42.9  80.8  136.6  189.3  447.4  595.7  1048.6   \n",
      "..           ...   ...   ...   ...    ...    ...    ...    ...     ...   \n",
      "110  West Bengal  2011  11.0  22.6  111.7  210.0  380.4  854.3   832.2   \n",
      "111  West Bengal  2012  56.0  29.2   49.9  217.5  246.6  750.8   999.5   \n",
      "112  West Bengal  2013   5.5  33.6   36.9  160.3  492.4  638.3   851.6   \n",
      "113  West Bengal  2014   1.1  68.8   57.6   49.8  433.0  736.8   683.3   \n",
      "114  West Bengal  2015  28.6  20.5   84.1  237.7  362.2  755.4  1026.4   \n",
      "\n",
      "        AUG     SEP    OCT    NOV   DEC  ANNUAL  Jan-Feb  Mar-May  Jun-Sep  \\\n",
      "0     776.8   556.2  106.6  101.3   2.6  3600.8    136.8    428.6   2825.0   \n",
      "1     868.6  1030.4  106.9   16.0   9.9  4528.1      3.1    794.2   3597.9   \n",
      "2     986.4   665.9  339.3    8.5   0.0  3758.8     56.4    348.3   3006.3   \n",
      "3     710.2   403.4  199.9   13.0   1.2  3553.0     56.5    672.1   2610.1   \n",
      "4    1300.2   608.7  195.2    2.7  23.9  4671.9    123.7    773.3   3553.2   \n",
      "..      ...     ...    ...    ...   ...     ...      ...      ...      ...   \n",
      "110   913.5   652.2   83.6   28.0   5.7  4105.2     33.6    702.0   3252.2   \n",
      "111   594.1   681.6  183.6   59.5  32.0  3900.2     85.2    514.0   3025.9   \n",
      "112   817.7   562.0  553.0   16.1   2.7  4170.2     39.2    689.7   2869.6   \n",
      "113   855.9   601.0   88.1    5.4   3.0  3584.0     70.0    540.4   2877.0   \n",
      "114   887.2   518.9   86.3   26.1  15.3  4048.9     49.1    684.1   3187.9   \n",
      "\n",
      "     Oct-Dec  \n",
      "0      210.5  \n",
      "1      133.0  \n",
      "2      347.8  \n",
      "3      214.1  \n",
      "4      221.9  \n",
      "..       ...  \n",
      "110    117.3  \n",
      "111    275.1  \n",
      "112    571.8  \n",
      "113     96.6  \n",
      "114    127.7  \n",
      "\n",
      "[115 rows x 19 columns]\n"
     ]
    }
   ],
   "source": [
    "# WEST BENGAL\n",
    "states_bengal = ['SUB HIMALAYAN WEST BENGAL & SIKKIM','GANGETIC WEST BENGAL']\n",
    "west_bengal = getting_values(states_bengal)\n",
    "west_bengal.insert(0,\"SUBDIVISION\",\"West Bengal\")\n",
    "print(\"WEST BENGAL \\n\\n\")\n",
    "print(west_bengal)"
   ]
  },
  {
   "cell_type": "code",
   "execution_count": 79,
   "metadata": {},
   "outputs": [
    {
     "name": "stdout",
     "output_type": "stream",
     "text": [
      "    SUBDIVISION  YEAR   JAN   FEB    MAR    APR    MAY    JUN    JUL    AUG  \\\n",
      "207       Assam  1901  27.1  19.5   30.6  223.0  207.0  524.9  430.6  464.1   \n",
      "208       Assam  1902   9.3  10.2  105.6  350.0  262.1  620.7  510.8  536.0   \n",
      "209       Assam  1903  19.9  25.4  103.6  140.6  206.6  607.4  362.7  551.9   \n",
      "210       Assam  1904  11.1  56.1   51.9  457.1  375.2  385.7  477.6  438.8   \n",
      "211       Assam  1905  19.9  16.9  137.9  213.0  275.5  521.7  439.1  649.1   \n",
      "..          ...   ...   ...   ...    ...    ...    ...    ...    ...    ...   \n",
      "317       Assam  2011  11.1  11.4  109.0   92.1  238.3  316.0  395.8  302.6   \n",
      "318       Assam  2012  15.2   6.9   28.8  279.1  185.8  729.7  444.3  289.2   \n",
      "319       Assam  2013   1.1   9.6   44.0  112.8  346.7  286.2  367.8  289.7   \n",
      "320       Assam  2014   2.0  28.3   29.3   51.5  351.1  426.4  374.4  484.6   \n",
      "321       Assam  2015  13.4  15.5   37.5  250.9  332.5  558.5  300.1  590.9   \n",
      "\n",
      "       SEP    OCT    NOV   DEC  ANNUAL  Jan-Feb  Mar-May  Jun-Sep  Oct-Dec  \n",
      "207  291.4  163.7  115.6   1.2  2498.6     46.6    460.5   1710.9    280.5  \n",
      "208  441.3   97.0    7.8   1.3  2952.1     19.4    717.6   2108.9    106.2  \n",
      "209  306.4  159.5   59.3   1.3  2544.7     45.4    450.8   1828.5    220.1  \n",
      "210  245.9  115.9   46.4   2.5  2664.1     67.1    884.2   1548.0    164.8  \n",
      "211  276.0  200.0   16.8  24.8  2790.6     36.8    626.3   1886.0    241.6  \n",
      "..     ...    ...    ...   ...     ...      ...      ...      ...      ...  \n",
      "317  221.6   30.2   11.9   3.5  1743.4     22.5    439.4   1236.0     45.6  \n",
      "318  411.6  199.4   17.1   2.3  2609.4     22.1    493.7   1874.8    218.8  \n",
      "319  229.3  126.3    1.0   2.0  1816.4     10.7    503.5   1172.9    129.3  \n",
      "320  420.2   35.0    3.0   0.4  2206.1     30.3    431.9   1705.5     38.5  \n",
      "321  279.9   62.6   14.0  15.2  2470.9     28.9    620.9   1729.3     91.8  \n",
      "\n",
      "[115 rows x 19 columns]\n",
      "    SUBDIVISION  YEAR   JAN   FEB    MAR    APR    MAY    JUN    JUL    AUG  \\\n",
      "322    Nagaland  1901  11.7  18.1   29.4  206.2  124.0  443.3  331.4  466.0   \n",
      "323    Nagaland  1902   4.8   0.5   36.3  297.8  215.5  480.1  392.4  312.8   \n",
      "324    Nagaland  1903   6.5  40.5  139.8   45.5  159.9  458.6  300.2  470.6   \n",
      "325    Nagaland  1904   2.3  46.9   47.5  290.3  230.5  455.3  423.5  423.6   \n",
      "326    Nagaland  1905   9.1  35.3  306.5  161.7  193.6  339.7  450.1  429.9   \n",
      "..          ...   ...   ...   ...    ...    ...    ...    ...    ...    ...   \n",
      "432    Nagaland  2011  12.6   3.6   51.4   81.1  334.9  374.2  313.3  367.6   \n",
      "433    Nagaland  2012  24.5  10.2   20.3  243.5  163.5  396.2  280.1  342.7   \n",
      "434    Nagaland  2013   0.2   5.7   19.7   60.3  348.9  206.6  255.9  291.3   \n",
      "435    Nagaland  2014   1.2  21.0   25.4   49.6  192.5  268.3  295.7  372.3   \n",
      "436    Nagaland  2015  14.4  14.2   21.6  253.5  198.3  283.9  413.6  334.2   \n",
      "\n",
      "       SEP    OCT   NOV   DEC  ANNUAL  Jan-Feb  Mar-May  Jun-Sep  Oct-Dec  \n",
      "322  304.1  166.7  67.4   0.0  2168.4     29.8    359.6   1544.8    234.2  \n",
      "323  318.7  102.4   8.9   4.7  2175.0      5.2    549.7   1504.0    116.0  \n",
      "324  366.1  166.4  76.7   0.1  2230.7     47.0    345.1   1595.4    243.2  \n",
      "325  375.8  128.9  90.0   5.0  2519.8     49.3    568.3   1678.2    224.0  \n",
      "326  320.1  246.4   8.0  27.1  2527.6     44.5    661.8   1539.8    281.5  \n",
      "..     ...    ...   ...   ...     ...      ...      ...      ...      ...  \n",
      "432  258.3   92.6   2.4   0.2  1892.1     16.1    467.4   1313.4     95.2  \n",
      "433  248.7  160.9  32.0   0.4  1922.9     34.7    427.3   1267.6    193.3  \n",
      "434  241.4  125.6   0.3   1.2  1557.2      5.9    428.9    995.2    127.1  \n",
      "435  300.9   69.6   3.3   0.1  1599.9     22.2    267.5   1237.2     73.0  \n",
      "436  255.9  118.7   3.9  10.0  1922.4     28.7    473.4   1287.7    132.6  \n",
      "\n",
      "[115 rows x 19 columns]\n",
      "    SUBDIVISION  YEAR   JAN   FEB    MAR    APR    MAY    JUN    JUL    AUG  \\\n",
      "322     Manipur  1901  11.7  18.1   29.4  206.2  124.0  443.3  331.4  466.0   \n",
      "323     Manipur  1902   4.8   0.5   36.3  297.8  215.5  480.1  392.4  312.8   \n",
      "324     Manipur  1903   6.5  40.5  139.8   45.5  159.9  458.6  300.2  470.6   \n",
      "325     Manipur  1904   2.3  46.9   47.5  290.3  230.5  455.3  423.5  423.6   \n",
      "326     Manipur  1905   9.1  35.3  306.5  161.7  193.6  339.7  450.1  429.9   \n",
      "..          ...   ...   ...   ...    ...    ...    ...    ...    ...    ...   \n",
      "432     Manipur  2011  12.6   3.6   51.4   81.1  334.9  374.2  313.3  367.6   \n",
      "433     Manipur  2012  24.5  10.2   20.3  243.5  163.5  396.2  280.1  342.7   \n",
      "434     Manipur  2013   0.2   5.7   19.7   60.3  348.9  206.6  255.9  291.3   \n",
      "435     Manipur  2014   1.2  21.0   25.4   49.6  192.5  268.3  295.7  372.3   \n",
      "436     Manipur  2015  14.4  14.2   21.6  253.5  198.3  283.9  413.6  334.2   \n",
      "\n",
      "       SEP    OCT   NOV   DEC  ANNUAL  Jan-Feb  Mar-May  Jun-Sep  Oct-Dec  \n",
      "322  304.1  166.7  67.4   0.0  2168.4     29.8    359.6   1544.8    234.2  \n",
      "323  318.7  102.4   8.9   4.7  2175.0      5.2    549.7   1504.0    116.0  \n",
      "324  366.1  166.4  76.7   0.1  2230.7     47.0    345.1   1595.4    243.2  \n",
      "325  375.8  128.9  90.0   5.0  2519.8     49.3    568.3   1678.2    224.0  \n",
      "326  320.1  246.4   8.0  27.1  2527.6     44.5    661.8   1539.8    281.5  \n",
      "..     ...    ...   ...   ...     ...      ...      ...      ...      ...  \n",
      "432  258.3   92.6   2.4   0.2  1892.1     16.1    467.4   1313.4     95.2  \n",
      "433  248.7  160.9  32.0   0.4  1922.9     34.7    427.3   1267.6    193.3  \n",
      "434  241.4  125.6   0.3   1.2  1557.2      5.9    428.9    995.2    127.1  \n",
      "435  300.9   69.6   3.3   0.1  1599.9     22.2    267.5   1237.2     73.0  \n",
      "436  255.9  118.7   3.9  10.0  1922.4     28.7    473.4   1287.7    132.6  \n",
      "\n",
      "[115 rows x 19 columns]\n",
      "    SUBDIVISION  YEAR   JAN   FEB    MAR    APR    MAY    JUN    JUL    AUG  \\\n",
      "322     Mizoram  1901  11.7  18.1   29.4  206.2  124.0  443.3  331.4  466.0   \n",
      "323     Mizoram  1902   4.8   0.5   36.3  297.8  215.5  480.1  392.4  312.8   \n",
      "324     Mizoram  1903   6.5  40.5  139.8   45.5  159.9  458.6  300.2  470.6   \n",
      "325     Mizoram  1904   2.3  46.9   47.5  290.3  230.5  455.3  423.5  423.6   \n",
      "326     Mizoram  1905   9.1  35.3  306.5  161.7  193.6  339.7  450.1  429.9   \n",
      "..          ...   ...   ...   ...    ...    ...    ...    ...    ...    ...   \n",
      "432     Mizoram  2011  12.6   3.6   51.4   81.1  334.9  374.2  313.3  367.6   \n",
      "433     Mizoram  2012  24.5  10.2   20.3  243.5  163.5  396.2  280.1  342.7   \n",
      "434     Mizoram  2013   0.2   5.7   19.7   60.3  348.9  206.6  255.9  291.3   \n",
      "435     Mizoram  2014   1.2  21.0   25.4   49.6  192.5  268.3  295.7  372.3   \n",
      "436     Mizoram  2015  14.4  14.2   21.6  253.5  198.3  283.9  413.6  334.2   \n",
      "\n",
      "       SEP    OCT   NOV   DEC  ANNUAL  Jan-Feb  Mar-May  Jun-Sep  Oct-Dec  \n",
      "322  304.1  166.7  67.4   0.0  2168.4     29.8    359.6   1544.8    234.2  \n",
      "323  318.7  102.4   8.9   4.7  2175.0      5.2    549.7   1504.0    116.0  \n",
      "324  366.1  166.4  76.7   0.1  2230.7     47.0    345.1   1595.4    243.2  \n",
      "325  375.8  128.9  90.0   5.0  2519.8     49.3    568.3   1678.2    224.0  \n",
      "326  320.1  246.4   8.0  27.1  2527.6     44.5    661.8   1539.8    281.5  \n",
      "..     ...    ...   ...   ...     ...      ...      ...      ...      ...  \n",
      "432  258.3   92.6   2.4   0.2  1892.1     16.1    467.4   1313.4     95.2  \n",
      "433  248.7  160.9  32.0   0.4  1922.9     34.7    427.3   1267.6    193.3  \n",
      "434  241.4  125.6   0.3   1.2  1557.2      5.9    428.9    995.2    127.1  \n",
      "435  300.9   69.6   3.3   0.1  1599.9     22.2    267.5   1237.2     73.0  \n",
      "436  255.9  118.7   3.9  10.0  1922.4     28.7    473.4   1287.7    132.6  \n",
      "\n",
      "[115 rows x 19 columns]\n",
      "     SUBDIVISION  YEAR   JAN   FEB   MAR   APR   MAY   JUN    JUL    AUG  \\\n",
      "1357     Haryana  1901  35.4  28.9  11.1   0.0   5.1  13.2  126.4  151.5   \n",
      "1358     Haryana  1902   0.0   0.7   2.9  10.2  15.8  74.6  149.3   97.1   \n",
      "1359     Haryana  1903  14.7   0.5   2.3   0.5   8.5   8.6  151.6  138.2   \n",
      "1360     Haryana  1904   7.6   0.7  48.0   0.5  29.3  34.3  109.7  162.9   \n",
      "1361     Haryana  1905  44.8  20.8  14.0   1.3   7.4  20.1   93.6   23.1   \n",
      "...          ...   ...   ...   ...   ...   ...   ...   ...    ...    ...   \n",
      "1467     Haryana  2011   0.7  26.7   6.9   8.9  28.7  94.4   85.0  127.3   \n",
      "1468     Haryana  2012   8.2   0.2   0.1  11.8   3.8   5.3   68.1  196.6   \n",
      "1469     Haryana  2013  21.1  52.2   5.3   3.3   1.4  62.1   96.5  161.9   \n",
      "1470     Haryana  2014  13.0  17.3  26.8   7.5  20.3  25.9   72.3   34.8   \n",
      "1471     Haryana  2015  12.4   6.6  71.8  34.8   8.4  43.7  130.3   89.2   \n",
      "\n",
      "        SEP   OCT   NOV   DEC  ANNUAL  Jan-Feb  Mar-May  Jun-Sep  Oct-Dec  \n",
      "1357   10.5   2.0   0.0   6.1   390.1     64.3     16.2    301.6      8.1  \n",
      "1358   59.8   9.3   0.0   0.0   419.8      0.7     28.9    380.9      9.3  \n",
      "1359   97.7   4.0   0.0   2.3   428.9     15.2     11.3    396.1      6.2  \n",
      "1360  102.3   1.5  10.4  20.3   527.8      8.3     77.8    409.3     32.3  \n",
      "1361   92.6   0.0   0.0   5.1   322.9     65.7     22.7    229.4      5.1  \n",
      "...     ...   ...   ...   ...     ...      ...      ...      ...      ...  \n",
      "1467  133.1   0.0   0.0   0.4   512.0     27.5     44.4    439.8      0.4  \n",
      "1468   90.7   2.4   0.6   3.5   391.4      8.4     15.8    360.7      6.5  \n",
      "1469   42.8  10.9   1.7   2.1   461.2     73.2     10.0    363.3     14.7  \n",
      "1470   67.3  10.5   0.2   9.6   305.5     30.3     54.6    200.2     20.3  \n",
      "1471   32.1   3.7   2.3   0.2   435.3     18.9    114.9    295.2      6.2  \n",
      "\n",
      "[115 rows x 19 columns]\n",
      "     SUBDIVISION  YEAR   JAN   FEB   MAR   APR   MAY   JUN    JUL    AUG  \\\n",
      "1357       Delhi  1901  35.4  28.9  11.1   0.0   5.1  13.2  126.4  151.5   \n",
      "1358       Delhi  1902   0.0   0.7   2.9  10.2  15.8  74.6  149.3   97.1   \n",
      "1359       Delhi  1903  14.7   0.5   2.3   0.5   8.5   8.6  151.6  138.2   \n",
      "1360       Delhi  1904   7.6   0.7  48.0   0.5  29.3  34.3  109.7  162.9   \n",
      "1361       Delhi  1905  44.8  20.8  14.0   1.3   7.4  20.1   93.6   23.1   \n",
      "...          ...   ...   ...   ...   ...   ...   ...   ...    ...    ...   \n",
      "1467       Delhi  2011   0.7  26.7   6.9   8.9  28.7  94.4   85.0  127.3   \n",
      "1468       Delhi  2012   8.2   0.2   0.1  11.8   3.8   5.3   68.1  196.6   \n",
      "1469       Delhi  2013  21.1  52.2   5.3   3.3   1.4  62.1   96.5  161.9   \n",
      "1470       Delhi  2014  13.0  17.3  26.8   7.5  20.3  25.9   72.3   34.8   \n",
      "1471       Delhi  2015  12.4   6.6  71.8  34.8   8.4  43.7  130.3   89.2   \n",
      "\n",
      "        SEP   OCT   NOV   DEC  ANNUAL  Jan-Feb  Mar-May  Jun-Sep  Oct-Dec  \n",
      "1357   10.5   2.0   0.0   6.1   390.1     64.3     16.2    301.6      8.1  \n",
      "1358   59.8   9.3   0.0   0.0   419.8      0.7     28.9    380.9      9.3  \n",
      "1359   97.7   4.0   0.0   2.3   428.9     15.2     11.3    396.1      6.2  \n",
      "1360  102.3   1.5  10.4  20.3   527.8      8.3     77.8    409.3     32.3  \n",
      "1361   92.6   0.0   0.0   5.1   322.9     65.7     22.7    229.4      5.1  \n",
      "...     ...   ...   ...   ...     ...      ...      ...      ...      ...  \n",
      "1467  133.1   0.0   0.0   0.4   512.0     27.5     44.4    439.8      0.4  \n",
      "1468   90.7   2.4   0.6   3.5   391.4      8.4     15.8    360.7      6.5  \n",
      "1469   42.8  10.9   1.7   2.1   461.2     73.2     10.0    363.3     14.7  \n",
      "1470   67.3  10.5   0.2   9.6   305.5     30.3     54.6    200.2     20.3  \n",
      "1471   32.1   3.7   2.3   0.2   435.3     18.9    114.9    295.2      6.2  \n",
      "\n",
      "[115 rows x 19 columns]\n"
     ]
    },
    {
     "name": "stderr",
     "output_type": "stream",
     "text": [
      "/Users/mohankalyanveeraghanta/Software-Applications/anaconda3/lib/python3.7/site-packages/ipykernel_launcher.py:5: SettingWithCopyWarning: \n",
      "A value is trying to be set on a copy of a slice from a DataFrame.\n",
      "Try using .loc[row_indexer,col_indexer] = value instead\n",
      "\n",
      "See the caveats in the documentation: http://pandas.pydata.org/pandas-docs/stable/user_guide/indexing.html#returning-a-view-versus-a-copy\n",
      "  \"\"\"\n",
      "/Users/mohankalyanveeraghanta/Software-Applications/anaconda3/lib/python3.7/site-packages/ipykernel_launcher.py:10: SettingWithCopyWarning: \n",
      "A value is trying to be set on a copy of a slice from a DataFrame.\n",
      "Try using .loc[row_indexer,col_indexer] = value instead\n",
      "\n",
      "See the caveats in the documentation: http://pandas.pydata.org/pandas-docs/stable/user_guide/indexing.html#returning-a-view-versus-a-copy\n",
      "  # Remove the CWD from sys.path while we load stuff.\n",
      "/Users/mohankalyanveeraghanta/Software-Applications/anaconda3/lib/python3.7/site-packages/ipykernel_launcher.py:15: SettingWithCopyWarning: \n",
      "A value is trying to be set on a copy of a slice from a DataFrame.\n",
      "Try using .loc[row_indexer,col_indexer] = value instead\n",
      "\n",
      "See the caveats in the documentation: http://pandas.pydata.org/pandas-docs/stable/user_guide/indexing.html#returning-a-view-versus-a-copy\n",
      "  from ipykernel import kernelapp as app\n",
      "/Users/mohankalyanveeraghanta/Software-Applications/anaconda3/lib/python3.7/site-packages/ipykernel_launcher.py:20: SettingWithCopyWarning: \n",
      "A value is trying to be set on a copy of a slice from a DataFrame.\n",
      "Try using .loc[row_indexer,col_indexer] = value instead\n",
      "\n",
      "See the caveats in the documentation: http://pandas.pydata.org/pandas-docs/stable/user_guide/indexing.html#returning-a-view-versus-a-copy\n",
      "/Users/mohankalyanveeraghanta/Software-Applications/anaconda3/lib/python3.7/site-packages/ipykernel_launcher.py:25: SettingWithCopyWarning: \n",
      "A value is trying to be set on a copy of a slice from a DataFrame.\n",
      "Try using .loc[row_indexer,col_indexer] = value instead\n",
      "\n",
      "See the caveats in the documentation: http://pandas.pydata.org/pandas-docs/stable/user_guide/indexing.html#returning-a-view-versus-a-copy\n",
      "/Users/mohankalyanveeraghanta/Software-Applications/anaconda3/lib/python3.7/site-packages/ipykernel_launcher.py:30: SettingWithCopyWarning: \n",
      "A value is trying to be set on a copy of a slice from a DataFrame.\n",
      "Try using .loc[row_indexer,col_indexer] = value instead\n",
      "\n",
      "See the caveats in the documentation: http://pandas.pydata.org/pandas-docs/stable/user_guide/indexing.html#returning-a-view-versus-a-copy\n"
     ]
    }
   ],
   "source": [
    "'''GIVING INDIVIDUAL STATUS TO THE STATES FROM THE COMBINED VALUES\n",
    "   LIKE....ASSAM & MEGHALAYA ->  SEPARATE THEM AS ASSAM AND MEGAHALAYA - 2 SEPARATE VALUES(THOUGH SAME)'''\n",
    "# ASSAM\n",
    "assam = rainfall_data.loc[rainfall_data[\"SUBDIVISION\"] == \"ASSAM & MEGHALAYA\"]\n",
    "assam[\"SUBDIVISION\"] = assam[\"SUBDIVISION\"].replace(\"ASSAM & MEGHALAYA\",\"Assam\")\n",
    "print(assam)\n",
    "\n",
    "# NAGALAND\n",
    "nagaland = rainfall_data.loc[rainfall_data[\"SUBDIVISION\"] == \"NAGA MANI MIZO TRIPURA\"]\n",
    "nagaland[\"SUBDIVISION\"] = nagaland[\"SUBDIVISION\"].replace(\"NAGA MANI MIZO TRIPURA\",\"Nagaland\")\n",
    "print(nagaland)\n",
    "\n",
    "# MANIPUR\n",
    "manipur = rainfall_data.loc[rainfall_data[\"SUBDIVISION\"] == \"NAGA MANI MIZO TRIPURA\"]\n",
    "manipur[\"SUBDIVISION\"] = manipur[\"SUBDIVISION\"].replace(\"NAGA MANI MIZO TRIPURA\",\"Manipur\")\n",
    "print(manipur)\n",
    "\n",
    "# MIZORAM\n",
    "mizoram = rainfall_data.loc[rainfall_data[\"SUBDIVISION\"] == \"NAGA MANI MIZO TRIPURA\"]\n",
    "mizoram[\"SUBDIVISION\"] = mizoram[\"SUBDIVISION\"].replace(\"NAGA MANI MIZO TRIPURA\",\"Mizoram\")\n",
    "print(mizoram)\n",
    "\n",
    "# HARYANA\n",
    "haryana = rainfall_data.loc[rainfall_data[\"SUBDIVISION\"] == \"HARYANA DELHI & CHANDIGARH\"]\n",
    "haryana[\"SUBDIVISION\"] = haryana[\"SUBDIVISION\"].replace(\"HARYANA DELHI & CHANDIGARH\",\"Haryana\")\n",
    "print(haryana)\n",
    "\n",
    "# DELHI\n",
    "delhi = rainfall_data.loc[rainfall_data[\"SUBDIVISION\"] == \"HARYANA DELHI & CHANDIGARH\"]\n",
    "delhi[\"SUBDIVISION\"] = delhi[\"SUBDIVISION\"].replace(\"HARYANA DELHI & CHANDIGARH\",\"Delhi\")\n",
    "print(delhi)\n",
    "\n",
    "\n"
   ]
  },
  {
   "cell_type": "code",
   "execution_count": 76,
   "metadata": {},
   "outputs": [
    {
     "name": "stdout",
     "output_type": "stream",
     "text": [
      "['Andaman and Nicobar Islands' 'ARUNACHAL PRADESH' 'ASSAM & MEGHALAYA'\n",
      " 'NAGA MANI MIZO TRIPURA' 'SUB HIMALAYAN WEST BENGAL & SIKKIM'\n",
      " 'GANGETIC WEST BENGAL' 'ORISSA' 'JHARKHAND' 'BIHAR' 'EAST UTTAR PRADESH'\n",
      " 'WEST UTTAR PRADESH' 'UTTARAKHAND' 'HARYANA DELHI & CHANDIGARH' 'PUNJAB'\n",
      " 'HIMACHAL PRADESH' 'Jammu and Kashmir' 'WEST RAJASTHAN' 'EAST RAJASTHAN'\n",
      " 'WEST MADHYA PRADESH' 'EAST MADHYA PRADESH' 'Gujarat'\n",
      " 'SAURASHTRA & KUTCH' 'KONKAN & GOA' 'MADHYA MAHARASHTRA' 'MATATHWADA'\n",
      " 'VIDARBHA' 'CHHATTISGARH' 'COASTAL ANDHRA PRADESH' 'TELANGANA'\n",
      " 'RAYALSEEMA' 'TAMIL NADU' 'COASTAL KARNATAKA' 'NORTH INTERIOR KARNATAKA'\n",
      " 'SOUTH INTERIOR KARNATAKA' 'KERALA' 'LAKSHADWEEP']\n"
     ]
    }
   ],
   "source": [
    "rainfall_data.append(uttar_pradesh,ignore_index=True)\n",
    "print(rainfall_data.SUBDIVISION.unique())"
   ]
  },
  {
   "cell_type": "code",
   "execution_count": 77,
   "metadata": {},
   "outputs": [
    {
     "name": "stdout",
     "output_type": "stream",
     "text": [
      "0       1567.3\n",
      "1       1846.0\n",
      "2       1575.3\n",
      "3       1704.7\n",
      "4       1256.9\n",
      "         ...  \n",
      "4111     976.8\n",
      "4112     938.4\n",
      "4113     703.6\n",
      "4114     883.6\n",
      "4115     729.7\n",
      "Length: 4116, dtype: float64\n"
     ]
    }
   ],
   "source": [
    "# RABI MONTHS   : JULY to OCTOBER\n",
    "# KHARIF MONTHS : OCTOBER to MARCH\n",
    "# SUMMER MONTHS : APRIL TO JUNE\n",
    "# WHOLE YEAR    : ALL \n",
    "# WINTER MONTHS : OCTOBER TO JANUARY\n",
    "# AUTUMN MONTHS : SEPTEMBER TO NOVEMBER\n",
    "# TO CREATE A DATAFRAME WITH THESE SEASONS AS COLUMNS\n",
    "rabi_months = [\"JUL\",\"AUG\",\"SEP\",\"OCT\"]\n",
    "rabi_rainfall = [0]\n",
    "for month in rabi_months:\n",
    "    rabi_rainfall = rabi_rainfall + rainfall_data[month]\n",
    "    \n",
    "print(rabi_rainfall)\n",
    "\n",
    "kharif_months = [\"OCT\",\"NOV\",\"DEC\",\"JAN\",\"FEB\",\"MAR\"]"
   ]
  },
  {
   "cell_type": "code",
   "execution_count": 71,
   "metadata": {},
   "outputs": [
    {
     "name": "stdout",
     "output_type": "stream",
     "text": [
      "['Arecanut' 'Other Kharif pulses' 'Rice' 'Banana' 'Cashewnut' 'Coconut '\n",
      " 'Dry ginger' 'Sugarcane' 'Sweet potato' 'Tapioca' 'Black pepper'\n",
      " 'Dry chillies' 'other oilseeds' 'Turmeric' 'Maize' 'Moong(Green Gram)'\n",
      " 'Urad' 'Arhar/Tur' 'Groundnut' 'Sunflower' 'Bajra' 'Castor seed'\n",
      " 'Cotton(lint)' 'Horse-gram' 'Jowar' 'Korra' 'Ragi' 'Tobacco' 'Gram'\n",
      " 'Wheat' 'Masoor' 'Sesamum' 'Linseed' 'Safflower' 'Onion'\n",
      " 'other misc. pulses' 'Samai' 'Small millets' 'Coriander' 'Potato'\n",
      " 'Other  Rabi pulses' 'Soyabean' 'Beans & Mutter(Vegetable)' 'Bhindi'\n",
      " 'Brinjal' 'Citrus Fruit' 'Cucumber' 'Grapes' 'Mango' 'Orange'\n",
      " 'other fibres' 'Other Fresh Fruits' 'Other Vegetables' 'Papaya'\n",
      " 'Pome Fruit' 'Tomato' 'Rapeseed &Mustard' 'Mesta' 'Cowpea(Lobia)' 'Lemon'\n",
      " 'Pome Granet' 'Sapota' 'Cabbage' 'Peas  (vegetable)' 'Niger seed'\n",
      " 'Bottle Gourd' 'Sannhamp' 'Varagu' 'Garlic' 'Ginger' 'Oilseeds total'\n",
      " 'Pulses total' 'Jute' 'Peas & beans (Pulses)' 'Blackgram' 'Paddy'\n",
      " 'Pineapple' 'Barley' 'Khesari' 'Guar seed' 'Moth'\n",
      " 'Other Cereals & Millets' 'Cond-spcs other' 'Turnip' 'Carrot' 'Redish'\n",
      " 'Arcanut (Processed)' 'Atcanut (Raw)' 'Cashewnut Processed'\n",
      " 'Cashewnut Raw' 'Cardamom' 'Rubber' 'Bitter Gourd' 'Drum Stick'\n",
      " 'Jack Fruit' 'Snak Guard' 'Pump Kin' 'Tea' 'Coffee' 'Cauliflower'\n",
      " 'Other Citrus Fruit' 'Water Melon' 'Total foodgrain' 'Kapas' 'Colocosia'\n",
      " 'Lentil' 'Bean' 'Jobster' 'Perilla' 'Rajmash Kholar' 'Ricebean (nagadal)'\n",
      " 'Ash Gourd' 'Beet Root' 'Lab-Lab' 'Ribed Guard' 'Yam' 'Apple' 'Peach'\n",
      " 'Pear' 'Plums' 'Litchi' 'Ber' 'Other Dry Fruit' 'Jute & mesta']\n"
     ]
    }
   ],
   "source": [
    "print(data_crops.Crop.unique())"
   ]
  },
  {
   "cell_type": "code",
   "execution_count": 72,
   "metadata": {},
   "outputs": [
    {
     "name": "stdout",
     "output_type": "stream",
     "text": [
      "0\n",
      "246091\n"
     ]
    }
   ],
   "source": [
    "#NO missing values in Crops attribute\n",
    "print(data_crops.Crop.isnull().sum())\n",
    "\n",
    "print(sum(data_crops.Crop.value_counts()))"
   ]
  },
  {
   "cell_type": "code",
   "execution_count": 73,
   "metadata": {},
   "outputs": [],
   "source": [
    "#defining dictionaries for different types of crops \n",
    "\n",
    "\n",
    "cereals = [\"Rice\",\"Wheat\",\"bread wheat\",\"Korra\",\"Durum wheat\",\"macaroni wheat\",\"Corn\",\"Maize\",\"Jobs Tears\",\"salay\",\"adlay\",\n",
    "           \"tigbe\",\"pawas\",\"Barley\",\"Millet\",\"Oat\",\"Rye\",\"Spelt\",\"Canary grass\",\"Quinoa\",\"Amaranth\",\"Grain amaranth\",\n",
    "           \"Buckwheat\",\"Kañiwa\",\"Pitseed goosefoot\",\"Jowar\",\"Small millets\",\"Other Cereals & Millets\",\"Bajra\",\n",
    "          \"Ragi\",\"Varagu\",\"Paddy\"]\n",
    "\n",
    "pulses = [\"Urad\",\"Greengram\",\"Cowpea(Lobia)\",\"Soyabean\",\"Arhar/Tur\",\"Horse-gram\",\"Bengalgram\",\"Sword bean\",\"Lab-Lab\",\n",
    "         \"Field lab lab\",\"dry beans\", \"dry broad beans\",\"dry peas\",\"chickpeas\",\"cow peas\",\"pigeon peas\",\n",
    "          \"Bambara beans\",\"vetches\",\"lupins\",\"pulses nes\",\"other misc. pulses\",\"Pulses total\",\"Moong(Green Gram)\",\n",
    "          \"Masoor\",\"Other  Rabi pulses\",\"Peas & beans (Pulses)\",\"Gram\",\"Blackgram\",\"Khesari\",\"Moth\",\"Total foodgrain\",\n",
    "         \"Lentil\",\"Bean\",\"Rajmash Kholar\",\"Ricebean (nagadal)\",\"Moong\",\"Other Kharif pulses\",\"Samai\"]\n",
    "\n",
    "fruits = [\"Mango\",\"Grapes\",\"Apple\",\"Apricots\",\"Orange\",\"Avocados\",\"Guava\",\"Litchi\",\"Papaya\",\"Sapota\",\n",
    "          \"Citrus Fruit\",\"Banana\",\"Pome Granet\",\"Pome Fruit\",\"Pineapple\",\"Jack Fruit\",\n",
    "         \"Other Citrus Fruit\",\"Water Melon\",\"Peach\",\"Pear\",\"Other Dry Fruit\",\"Plums\",\"Ber\",\"Other Fresh Fruits\"]\n",
    "\n",
    "vegetables = [\"Sweet potato\",\"Dry ginger\",\"Onion\",\"Potato\",\"Bhindi\",\"Beans & Mutter(Vegetable)\",\"Peas(vegetable)\",\n",
    "             \"Other Vegetables\",\"Cabbage\",\"Bottle Gourd\",\"Garlic\",\"Ginger\",\"Carrot\",\"Redish\",\"Bitter Gourd\",\"Drum Stick\",\n",
    "             \"Snak Guard\",\"Pump Kin\",\"Cauliflower\",\"Beet Root\",\"Ash Gourd\",\"Ribed Guard\",\"Yam\",\"Tapioca\",\"Peas  (vegetable)\",\n",
    "             \"Brinjal\",\"Cucumber\",\"Tomato\",\"Lemon\",\"Turnip\",\"Colocosia\",\"Peas\"]\n",
    "\n",
    "nuts = [\"Coconut\",\"Cashewnut\",\"Cashewnut Processed\",\"Arcanut (Processed)\",\"Atcanut (Raw)\",\"Cashewnut Raw\",\"Arecanut\",\n",
    "       \"Groundnut\",]\n",
    "\n",
    "cashcrops = [\"Jute & mesta\",\"Sugarcane\",\"other oilseeds\",\"Cotton(lint)\",\"Sunflower\",\"Castor seed\",\"Tobacco\",\"Sesamum\",\n",
    "             \"Linseed\",\"Safflower\",\"other fibres\",\"Mesta\",\"Niger seed\",\"Sannhamp\",\"Oilseeds total\",\n",
    "            \"Jute\",\"Guar seed\",\"Rubber\",\"Tea\",\"Coffee\",\"Kapas\",\"Perilla\",\"Jobster\"]\n",
    "\n",
    "spices = [\"Black pepper\",\"Dry chillies\",\"Coriander\",\"Cond-spcs other\",\"Turmeric\",\"Rapeseed &Mustard\",\"Cardamom\"]\n",
    "\n"
   ]
  },
  {
   "cell_type": "code",
   "execution_count": 74,
   "metadata": {},
   "outputs": [
    {
     "name": "stdout",
     "output_type": "stream",
     "text": [
      "Number of Cereal crops     : 63729\n",
      "Number of Pulse crops      : 61489\n",
      "Number of Fruit crops      : 6205\n",
      "Number of Vegetables crops : 28978\n",
      "Number of Nut crops        : 13573\n",
      "Number of Cash crops       : 49086\n",
      "Number of Spice crops      : 23031\n",
      "246091\n",
      "[63729, 61489, 6205, 28978, 13573, 49086, 23031]\n",
      "['Cereals', 'Pulses', 'Fruits', 'Vegetables', 'Nuts', 'Cash Crops', 'Spices']\n",
      "246091\n",
      "0\n",
      "[]\n"
     ]
    }
   ],
   "source": [
    "\n",
    "crop_type = []\n",
    "not_found = []\n",
    "count_not_found = 0\n",
    "count_cereals,count_pulses,count_fruits,count_vegetables,count_nuts,count_cashcrops,count_spices = 0,0,0,0,0,0,0\n",
    "for crop in data_crops.Crop:\n",
    "    crop = crop.strip()\n",
    "    if crop in cereals:\n",
    "        count_cereals += 1\n",
    "        crop_type.append(\"Cereal\")\n",
    "    elif crop in pulses:\n",
    "        count_pulses +=1\n",
    "        crop_type.append(\"Pulse\")\n",
    "    elif crop in fruits:\n",
    "        count_fruits +=1\n",
    "        crop_type.append(\"Fruit\")\n",
    "    elif crop in vegetables:\n",
    "        count_vegetables +=1\n",
    "        crop_type.append(\"Vegetable\")\n",
    "    elif crop in nuts:\n",
    "        count_nuts +=1\n",
    "        crop_type.append(\"Nut\")\n",
    "    elif crop in cashcrops:\n",
    "        count_cashcrops +=1\n",
    "        crop_type.append(\"Cash-crop\")\n",
    "    elif crop in spices:\n",
    "        count_spices +=1\n",
    "        crop_type.append(\"Spice\")\n",
    "    else:\n",
    "        count_not_found +=1\n",
    "        not_found.append(crop)\n",
    "        \n",
    "        \n",
    "print(f\"Number of Cereal crops     : {count_cereals}\")\n",
    "print(f\"Number of Pulse crops      : {count_pulses}\")\n",
    "print(f\"Number of Fruit crops      : {count_fruits}\")\n",
    "print(f\"Number of Vegetables crops : {count_vegetables}\")\n",
    "print(f\"Number of Nut crops        : {count_nuts}\")\n",
    "print(f\"Number of Cash crops       : {count_cashcrops}\")\n",
    "print(f\"Number of Spice crops      : {count_spices}\")\n",
    "\n",
    "#data_crops[\"Crop Type\"] = crop_type\n",
    "print(len(crop_type))\n",
    "\n",
    "crop_count = [count_cereals,count_pulses,count_fruits,count_vegetables,count_nuts,count_cashcrops,count_spices]\n",
    "crops = [\"Cereals\",\"Pulses\",\"Fruits\",\"Vegetables\",\"Nuts\",\"Cash Crops\",\"Spices\"]\n",
    "print(crop_count)\n",
    "print(crops)\n",
    "print(sum(crop_count))\n",
    "print(count_not_found)\n",
    "print(not_found)"
   ]
  },
  {
   "cell_type": "code",
   "execution_count": 75,
   "metadata": {},
   "outputs": [
    {
     "name": "stdout",
     "output_type": "stream",
     "text": [
      "                         State_Name District_Name  Crop_Year       Season  \\\n",
      "0       Andaman and Nicobar Islands      NICOBARS       2000  Kharif        \n",
      "1       Andaman and Nicobar Islands      NICOBARS       2000  Kharif        \n",
      "2       Andaman and Nicobar Islands      NICOBARS       2000  Kharif        \n",
      "3       Andaman and Nicobar Islands      NICOBARS       2000  Whole Year    \n",
      "4       Andaman and Nicobar Islands      NICOBARS       2000  Whole Year    \n",
      "...                             ...           ...        ...          ...   \n",
      "246086                  West Bengal       PURULIA       2014  Summer        \n",
      "246087                  West Bengal       PURULIA       2014  Summer        \n",
      "246088                  West Bengal       PURULIA       2014  Whole Year    \n",
      "246089                  West Bengal       PURULIA       2014  Winter        \n",
      "246090                  West Bengal       PURULIA       2014  Winter        \n",
      "\n",
      "                       Crop      Area  Production  Crop_Type  \n",
      "0                  Arecanut    1254.0      2000.0        Nut  \n",
      "1       Other Kharif pulses       2.0         1.0      Pulse  \n",
      "2                      Rice     102.0       321.0     Cereal  \n",
      "3                    Banana     176.0       641.0      Fruit  \n",
      "4                 Cashewnut     720.0       165.0        Nut  \n",
      "...                     ...       ...         ...        ...  \n",
      "246086                 Rice     306.0       801.0     Cereal  \n",
      "246087              Sesamum     627.0       463.0  Cash-crop  \n",
      "246088            Sugarcane     324.0     16250.0  Cash-crop  \n",
      "246089                 Rice  279151.0    597899.0     Cereal  \n",
      "246090              Sesamum     175.0        88.0  Cash-crop  \n",
      "\n",
      "[246091 rows x 8 columns]\n"
     ]
    }
   ],
   "source": [
    "data_crops[\"Crop_Type\"] = crop_type\n",
    "print(data_crops)"
   ]
  },
  {
   "cell_type": "code",
   "execution_count": 76,
   "metadata": {},
   "outputs": [
    {
     "data": {
      "image/png": "[encoded data removed]",
      "text/plain": [
       "<Figure size 1800x1080 with 1 Axes>"
      ]
     },
     "metadata": {},
     "output_type": "display_data"
    }
   ],
   "source": [
    "import matplotlib.pyplot as pp\n",
    "pp.figure(figsize=(25,15))\n",
    "w,t,at = pp.pie(crop_count,labels=crops,autopct='%.2f%%')\n",
    "pp.setp(at,size=30,weight='bold')\n",
    "pp.setp(t,size=25,weight='bold')\n",
    "pp.axis('equal')\n",
    "pp.title(\"DISTRIBUTION OF CROPS IN INDIA (BY COUNT)\",size=30,loc='center',weight='bold')\n",
    "pp.show()"
   ]
  },
  {
   "cell_type": "code",
   "execution_count": 15,
   "metadata": {},
   "outputs": [
    {
     "data": {
      "text/plain": [
       "'While converting the non-numericdata (categorical) to numeric data.....we ought to compare one-hot encoding \\nand binary encoding\\nFields considered are\\n1.states\\n2.districts\\n3.crop\\n4.seasons\\n'"
      ]
     },
     "execution_count": 15,
     "metadata": {},
     "output_type": "execute_result"
    }
   ],
   "source": [
    "'''While converting the non-numericdata (categorical) to numeric data.....we ought to compare one-hot encoding \n",
    "and binary encoding\n",
    "Fields considered are\n",
    "1.states\n",
    "2.districts\n",
    "3.crop\n",
    "4.seasons\n",
    "'''"
   ]
  },
  {
   "cell_type": "code",
   "execution_count": 205,
   "metadata": {},
   "outputs": [
    {
     "data": {
      "text/plain": [
       "(246091, 812)"
      ]
     },
     "execution_count": 205,
     "metadata": {},
     "output_type": "execute_result"
    }
   ],
   "source": [
    "#ONE HOT ENCODING\n",
    "\n",
    "ohe = ce.OneHotEncoder()\n",
    "d_1 = ohe.fit_transform(data_crops)\n",
    "d_1.shape"
   ]
  },
  {
   "cell_type": "code",
   "execution_count": 206,
   "metadata": {},
   "outputs": [
    {
     "data": {
      "text/plain": [
       "(246091, 33)"
      ]
     },
     "execution_count": 206,
     "metadata": {},
     "output_type": "execute_result"
    }
   ],
   "source": [
    "#BINARY ENCODING\n",
    "\n",
    "be = ce.BinaryEncoder()\n",
    "data = be.fit_transform(data_crops)   #if none columns are specified the method considers all the string attributes by default\n",
    "data.shape"
   ]
  },
  {
   "cell_type": "code",
   "execution_count": 207,
   "metadata": {},
   "outputs": [
    {
     "name": "stdout",
     "output_type": "stream",
     "text": [
      "<class 'pandas.core.frame.DataFrame'>\n",
      "<class 'pandas.core.frame.DataFrame'>\n"
     ]
    }
   ],
   "source": [
    "'''reducing the column count from 812 to 33 by using the binary encoding'''\n",
    "\n",
    "\n",
    "#converting the dataframe to arrays\n",
    "Y = data.iloc[:,32]\n",
    "X = data.drop(['Production'],axis = 'columns')\n",
    "Y = Y.to_frame()\n",
    "print(type(X))\n",
    "print(type(Y))\n"
   ]
  },
  {
   "cell_type": "code",
   "execution_count": 208,
   "metadata": {},
   "outputs": [
    {
     "name": "stdout",
     "output_type": "stream",
     "text": [
      "Production    3730\n",
      "dtype: int64\n",
      "State_Name_0        0\n",
      "State_Name_1        0\n",
      "State_Name_2        0\n",
      "State_Name_3        0\n",
      "State_Name_4        0\n",
      "State_Name_5        0\n",
      "State_Name_6        0\n",
      "District_Name_0     0\n",
      "District_Name_1     0\n",
      "District_Name_2     0\n",
      "District_Name_3     0\n",
      "District_Name_4     0\n",
      "District_Name_5     0\n",
      "District_Name_6     0\n",
      "District_Name_7     0\n",
      "District_Name_8     0\n",
      "District_Name_9     0\n",
      "District_Name_10    0\n",
      "Crop_Year           0\n",
      "Season_0            0\n",
      "Season_1            0\n",
      "Season_2            0\n",
      "Season_3            0\n",
      "Crop_0              0\n",
      "Crop_1              0\n",
      "Crop_2              0\n",
      "Crop_3              0\n",
      "Crop_4              0\n",
      "Crop_5              0\n",
      "Crop_6              0\n",
      "Crop_7              0\n",
      "Area                0\n",
      "dtype: int64\n"
     ]
    },
    {
     "data": {
      "image/png": "[encoded data removed]",
      "text/plain": [
       "<Figure size 1800x720 with 2 Axes>"
      ]
     },
     "metadata": {
      "needs_background": "light"
     },
     "output_type": "display_data"
    },
    {
     "data": {
      "image/png": "[encoded data removed]",
      "text/plain": [
       "<Figure size 1800x720 with 2 Axes>"
      ]
     },
     "metadata": {
      "needs_background": "light"
     },
     "output_type": "display_data"
    }
   ],
   "source": [
    "#finding the missing values\n",
    "import missingno as msno  #visualizing the missing values as a matrix\n",
    "\n",
    "msno.matrix(X)\n",
    "msno.matrix(Y)\n",
    "\n",
    "print(Y.isnull().sum())\n",
    "print(X.isnull().sum())\n"
   ]
  },
  {
   "cell_type": "code",
   "execution_count": 209,
   "metadata": {},
   "outputs": [
    {
     "name": "stdout",
     "output_type": "stream",
     "text": [
      "<class 'pandas.core.frame.DataFrame'>\n",
      "        Production\n",
      "0           2000.0\n",
      "1              1.0\n",
      "2            321.0\n",
      "3            641.0\n",
      "4            165.0\n",
      "...            ...\n",
      "246086       801.0\n",
      "246087       463.0\n",
      "246088     16250.0\n",
      "246089    597899.0\n",
      "246090        88.0\n",
      "\n",
      "[246091 rows x 1 columns]\n"
     ]
    }
   ],
   "source": [
    "'''we have missing values in production(the white lines in the graph)'''\n",
    "\n",
    "# Replacing the missing values in production with mean of the observations\n",
    "\n",
    "Y.Production.fillna(Y.Production.mean(),inplace=True)\n",
    "Y_rep = Y.copy()\n",
    "print(type(Y_rep))\n",
    "print(Y_rep)"
   ]
  },
  {
   "cell_type": "code",
   "execution_count": 210,
   "metadata": {},
   "outputs": [
    {
     "data": {
      "text/plain": [
       "'#normalization\\nfrom sklearn.preprocessing import StandardScaler\\nscaler = StandardScaler()\\n\\nX_train = scaler.fit_transform(X_train)\\nX_test = scaler.fit_transform(X_test)\\nY_train = scaler.fit_transform(Y_train)\\nY_test = scaler.fit_transform(Y_test)\\n\\nprint(\"normalized -> ready for training\")\\n'"
      ]
     },
     "execution_count": 210,
     "metadata": {},
     "output_type": "execute_result"
    }
   ],
   "source": [
    "#splitting the data into X and Y\n",
    "\n",
    "X_train,X_test,Y_train,Y_test = train_test_split(X, Y, train_size = 0.8, test_size = 0.2,random_state = 0)\n",
    "\n",
    "#Y_test_rep = Y_test.copy()  # for reference\n",
    "\n",
    "'''#normalization\n",
    "from sklearn.preprocessing import StandardScaler\n",
    "scaler = StandardScaler()\n",
    "\n",
    "X_train = scaler.fit_transform(X_train)\n",
    "X_test = scaler.fit_transform(X_test)\n",
    "Y_train = scaler.fit_transform(Y_train)\n",
    "Y_test = scaler.fit_transform(Y_test)\n",
    "\n",
    "print(\"normalized -> ready for training\")\n",
    "'''\n"
   ]
  },
  {
   "cell_type": "code",
   "execution_count": 211,
   "metadata": {},
   "outputs": [
    {
     "data": {
      "text/plain": [
       "'In order to improve the accuracy of the model we will normalize the data attributes Crop_Year and Production \\nas they have different range of values\\n\\n# NORMALIZATION (Z-Score)\\n\\n\\n\\nX_rep = X.copy()\\nprint(X_rep.shape)\\nX = scaler.fit_transform(X)\\nprint(X)\\nY_rep = Y.copy()\\nY = scaler.fit_transform(Y)\\nprint(Y)\\n\\ntemp1 = X.Area.copy()\\ntemp1 = temp1.to_numpy()\\ntemp1 = temp1.reshape(-1,1)\\nX.Area = scaler.fit_transform(temp1)\\nprint(X.Area)'"
      ]
     },
     "execution_count": 211,
     "metadata": {},
     "output_type": "execute_result"
    }
   ],
   "source": [
    "'''In order to improve the accuracy of the model we will normalize the data attributes Crop_Year and Production \n",
    "as they have different range of values\n",
    "\n",
    "# NORMALIZATION (Z-Score)\n",
    "\n",
    "\n",
    "\n",
    "X_rep = X.copy()\n",
    "print(X_rep.shape)\n",
    "X = scaler.fit_transform(X)\n",
    "print(X)\n",
    "Y_rep = Y.copy()\n",
    "Y = scaler.fit_transform(Y)\n",
    "print(Y)\n",
    "\n",
    "temp1 = X.Area.copy()\n",
    "temp1 = temp1.to_numpy()\n",
    "temp1 = temp1.reshape(-1,1)\n",
    "X.Area = scaler.fit_transform(temp1)\n",
    "print(X.Area)'''\n",
    "\n"
   ]
  },
  {
   "cell_type": "code",
   "execution_count": 213,
   "metadata": {},
   "outputs": [
    {
     "name": "stdout",
     "output_type": "stream",
     "text": [
      "[452.3  57.   84.  ...  73.    7.  882. ]\n"
     ]
    }
   ],
   "source": [
    "\n",
    "#Y_train has to be a shape of [n] smaples as a parameter into the regressor method.\n",
    "\n",
    "Y_train = Y_train.values.ravel()\n",
    "print(Y_train)\n",
    "    "
   ]
  },
  {
   "cell_type": "code",
   "execution_count": 214,
   "metadata": {},
   "outputs": [
    {
     "data": {
      "text/plain": [
       "\"from sklearn.feature_selection import SelectFromModel\\nfrom sklearn.ensemble import RandomForestClassifier\\nY_rep = Y_rep.values.ravel()\\nembeded_rf_selector = SelectFromModel(RandomForestRegressor(n_estimators=100))\\nembeded_rf_selector.fit(X_rep, Y_rep)\\n\\nembeded_rf_support = embeded_rf_selector.get_support()\\nembeded_rf_feature = X_rep.loc[:,embeded_rf_support].columns.tolist()\\nprint(str(embeded_rf_feature), 'selected features')\""
      ]
     },
     "execution_count": 214,
     "metadata": {},
     "output_type": "execute_result"
    }
   ],
   "source": [
    "'''from sklearn.feature_selection import SelectFromModel\n",
    "from sklearn.ensemble import RandomForestClassifier\n",
    "Y_rep = Y_rep.values.ravel()\n",
    "embeded_rf_selector = SelectFromModel(RandomForestRegressor(n_estimators=100))\n",
    "embeded_rf_selector.fit(X_rep, Y_rep)\n",
    "\n",
    "embeded_rf_support = embeded_rf_selector.get_support()\n",
    "embeded_rf_feature = X_rep.loc[:,embeded_rf_support].columns.tolist()\n",
    "print(str(embeded_rf_feature), 'selected features')'''"
   ]
  },
  {
   "cell_type": "code",
   "execution_count": 215,
   "metadata": {},
   "outputs": [
    {
     "name": "stdout",
     "output_type": "stream",
     "text": [
      "Model is trained\n",
      "        State_Name_0  State_Name_1  State_Name_2  State_Name_3  State_Name_4  \\\n",
      "159870             0             0             1             0             1   \n",
      "16917              0             0             0             0             1   \n",
      "37429              0             0             0             0             1   \n",
      "130347             0             0             1             0             0   \n",
      "51448              0             0             0             0             1   \n",
      "...              ...           ...           ...           ...           ...   \n",
      "176963             0             0             1             1             0   \n",
      "117952             0             0             1             0             0   \n",
      "173685             0             0             1             1             0   \n",
      "43567              0             0             0             0             1   \n",
      "199340             0             0             1             1             1   \n",
      "\n",
      "        State_Name_5  State_Name_6  District_Name_0  District_Name_1  \\\n",
      "159870             1             1                0                0   \n",
      "16917              0             0                0                0   \n",
      "37429              0             1                0                0   \n",
      "130347             1             0                0                0   \n",
      "51448              1             1                0                0   \n",
      "...              ...           ...              ...              ...   \n",
      "176963             1             1                0                0   \n",
      "117952             0             1                0                0   \n",
      "173685             1             0                0                0   \n",
      "43567              0             1                0                0   \n",
      "199340             1             1                0                1   \n",
      "\n",
      "        District_Name_2  ...  Season_3  Crop_0  Crop_1  Crop_2  Crop_3  \\\n",
      "159870                1  ...         0       0       0       0       1   \n",
      "16917                 0  ...         0       0       0       0       0   \n",
      "37429                 0  ...         0       0       0       1       0   \n",
      "130347                1  ...         1       0       0       0       1   \n",
      "51448                 0  ...         1       0       0       0       0   \n",
      "...                 ...  ...       ...     ...     ...     ...     ...   \n",
      "176963                1  ...         0       0       0       0       1   \n",
      "117952                1  ...         0       0       0       1       1   \n",
      "173685                1  ...         0       0       0       1       0   \n",
      "43567                 0  ...         1       0       0       1       0   \n",
      "199340                0  ...         0       0       0       1       0   \n",
      "\n",
      "        Crop_4  Crop_5  Crop_6  Crop_7      Area  \n",
      "159870       0       0       0       0    1478.0  \n",
      "16917        1       1       1       0     100.0  \n",
      "37429        1       0       0       1     125.0  \n",
      "130347       0       1       0       1     517.0  \n",
      "51448        0       0       1       1  164934.0  \n",
      "...        ...     ...     ...     ...       ...  \n",
      "176963       1       1       1       0    2720.0  \n",
      "117952       1       0       0       0     232.0  \n",
      "173685       0       1       1       1     718.0  \n",
      "43567        0       1       1       0       9.0  \n",
      "199340       0       0       0       1    2463.0  \n",
      "\n",
      "[196872 rows x 32 columns]\n",
      "[452.3  57.   84.  ...  73.    7.  882. ]\n"
     ]
    }
   ],
   "source": [
    "#defining a random regressor \n",
    "#\n",
    "regressor = RandomForestRegressor(n_estimators = 1000,random_state = 0)\n",
    "regressor.fit(X_train, Y_train)\n",
    "print(\"Model is trained\")\n",
    "print(X_train)\n",
    "print(Y_train)\n",
    "    "
   ]
  },
  {
   "cell_type": "code",
   "execution_count": 221,
   "metadata": {},
   "outputs": [
    {
     "name": "stdout",
     "output_type": "stream",
     "text": [
      "Predicting the crop yield\n",
      "<class 'numpy.ndarray'>\n",
      "<class 'pandas.core.frame.DataFrame'>\n",
      "[7.21210000e+01 5.15506179e+04 5.09808300e+01 ... 7.98271440e+03\n",
      " 1.74691834e+04 2.41620000e+02]\n",
      "        Production\n",
      "222211        51.0\n",
      "148500     47581.5\n",
      "40239        120.0\n",
      "117          402.0\n",
      "64394     103000.0\n",
      "...            ...\n",
      "48410         48.0\n",
      "234245       181.0\n",
      "179097     11325.0\n",
      "169648        58.0\n",
      "233866       297.0\n",
      "\n",
      "[49219 rows x 1 columns]\n"
     ]
    }
   ],
   "source": [
    "#testing\n",
    "actual_prediction = regressor.predict(X_test)\n",
    "print(\"Predicting the crop yield\")    \n",
    "print(type(actual_prediction))\n",
    "print(type(Y_test))\n",
    "print(actual_prediction)\n",
    "print(Y_test)\n",
    "    \n",
    "    \n"
   ]
  },
  {
   "cell_type": "code",
   "execution_count": 217,
   "metadata": {},
   "outputs": [
    {
     "name": "stdout",
     "output_type": "stream",
     "text": [
      "[1.37388465e+09 9.81564300e+11 9.71359453e+08 ... 1.51997704e+11\n",
      " 3.32627415e+11 4.60127677e+09]\n",
      "        Production\n",
      "222211        51.0\n",
      "148500     47581.5\n",
      "40239        120.0\n",
      "117          402.0\n",
      "64394     103000.0\n",
      "...            ...\n",
      "48410         48.0\n",
      "234245       181.0\n",
      "179097     11325.0\n",
      "169648        58.0\n",
      "233866       297.0\n",
      "\n",
      "[49219 rows x 1 columns]\n",
      "             Actual    Prediction\n",
      "0      9.717245e+08  1.373885e+09\n",
      "1      9.059892e+11  9.815643e+11\n",
      "2      2.285538e+09  9.713595e+08\n",
      "3      7.655036e+09  6.063156e+10\n",
      "4      1.961200e+12  1.462596e+12\n",
      "...             ...           ...\n",
      "49214  9.146021e+08  4.345796e+11\n",
      "49215  3.447025e+09  4.992622e+09\n",
      "49216  2.156374e+11  1.519977e+11\n",
      "49217  1.105010e+09  3.326274e+11\n",
      "49218  5.655755e+09  4.601277e+09\n",
      "\n",
      "[49219 rows x 2 columns]\n"
     ]
    }
   ],
   "source": [
    "'''Predicted_Production = scaler.inverse_transform(actual_prediction)\n",
    "print(Predicted_Production)\n",
    "Actual_Production = scaler.inverse_transform(Y_test)\n",
    "print(Y_test_rep)'''\n",
    "\n",
    "graph_data = pd.DataFrame({'Actual':Y_test.flatten(),'Prediction':actual_prediction.flatten()})\n",
    "print(graph_data)\n",
    "\n"
   ]
  },
  {
   "cell_type": "code",
   "execution_count": 218,
   "metadata": {},
   "outputs": [
    {
     "data": {
      "image/png": "[encoded data removed]",
      "text/plain": [
       "<Figure size 1152x720 with 1 Axes>"
      ]
     },
     "metadata": {
      "needs_background": "light"
     },
     "output_type": "display_data"
    }
   ],
   "source": [
    "#visualizing the estimated and actual values\n",
    "\n",
    "import matplotlib.pyplot as plt\n",
    "\n",
    "graph_data_1 = graph_data.head(50)  #considering first 30 values for graphic visualization\n",
    "graph_data_1.plot(kind = 'bar',figsize =(16,10))\n",
    "plt.grid(which='major', linestyle='-', linewidth='0.5', color='red')\n",
    "plt.grid(which='minor', linestyle=':', linewidth='0.5', color='black')\n",
    "plt.show()"
   ]
  },
  {
   "cell_type": "code",
   "execution_count": 219,
   "metadata": {},
   "outputs": [
    {
     "name": "stdout",
     "output_type": "stream",
     "text": [
      "THE ROOT MEAN SQUARE ERROR IS :  341760301822144.25\n"
     ]
    }
   ],
   "source": [
    "#finding the accuracy using RMSE - Root Mean Squared Error\n",
    "\n",
    "from math import sqrt\n",
    "temp  = mean_squared_error(Y_test,graph_data.Prediction)\n",
    "ERROR = sqrt(temp)\n",
    "print(\"THE ROOT MEAN SQUARE ERROR IS : \",ERROR)"
   ]
  },
  {
   "cell_type": "code",
   "execution_count": 220,
   "metadata": {},
   "outputs": [
    {
     "name": "stdout",
     "output_type": "stream",
     "text": [
      "Production    645000.430723\n",
      "dtype: float64\n",
      "Production    1.904097e+07\n",
      "dtype: float64\n"
     ]
    }
   ],
   "source": [
    "print(Y_test_rep.mean())\n",
    "print(Y_test_rep.std())\n"
   ]
  },
  {
   "cell_type": "code",
   "execution_count": null,
   "metadata": {},
   "outputs": [],
   "source": []
  }
 ],
 "metadata": {
  "kernelspec": {
   "display_name": "Python 3",
   "language": "python",
   "name": "python3"
  },
  "language_info": {
   "codemirror_mode": {
    "name": "ipython",
    "version": 3
   },
   "file_extension": ".py",
   "mimetype": "text/x-python",
   "name": "python",
   "nbconvert_exporter": "python",
   "pygments_lexer": "ipython3",
   "version": "3.7.4"
  }
 },
 "nbformat": 4,
 "nbformat_minor": 2
}
