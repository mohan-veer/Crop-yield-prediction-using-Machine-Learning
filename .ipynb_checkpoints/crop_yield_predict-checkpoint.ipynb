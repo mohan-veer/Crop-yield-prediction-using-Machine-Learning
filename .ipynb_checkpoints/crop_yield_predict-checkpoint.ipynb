{
 "cells": [
  {
   "cell_type": "code",
   "execution_count": 2,
   "metadata": {},
   "outputs": [],
   "source": [
    "import numpy as np\n",
    "import pandas as pd\n",
    "import category_encoders as ce                       # converting or encoding the NON-Numneric (or) String attributes\n",
    "from sklearn.ensemble import RandomForestRegressor   # training and predicting class\n",
    "from sklearn.model_selection import train_test_split # splitting the data\n",
    "from sklearn.impute import SimpleImputer             # for missing values\n",
    "from sklearn.metrics import *                        # accuracy calculation\n"
   ]
  },
  {
   "cell_type": "code",
   "execution_count": 3,
   "metadata": {},
   "outputs": [
    {
     "data": {
      "text/html": [
       "<div>\n",
       "<style scoped>\n",
       "    .dataframe tbody tr th:only-of-type {\n",
       "        vertical-align: middle;\n",
       "    }\n",
       "\n",
       "    .dataframe tbody tr th {\n",
       "        vertical-align: top;\n",
       "    }\n",
       "\n",
       "    .dataframe thead th {\n",
       "        text-align: right;\n",
       "    }\n",
       "</style>\n",
       "<table border=\"1\" class=\"dataframe\">\n",
       "  <thead>\n",
       "    <tr style=\"text-align: right;\">\n",
       "      <th></th>\n",
       "      <th>State_Name</th>\n",
       "      <th>District_Name</th>\n",
       "      <th>Crop_Year</th>\n",
       "      <th>Season</th>\n",
       "      <th>Crop</th>\n",
       "      <th>Area</th>\n",
       "      <th>Production</th>\n",
       "    </tr>\n",
       "  </thead>\n",
       "  <tbody>\n",
       "    <tr>\n",
       "      <td>0</td>\n",
       "      <td>Andaman and Nicobar Islands</td>\n",
       "      <td>NICOBARS</td>\n",
       "      <td>2000</td>\n",
       "      <td>Kharif</td>\n",
       "      <td>Arecanut</td>\n",
       "      <td>1254.0</td>\n",
       "      <td>2000.0</td>\n",
       "    </tr>\n",
       "    <tr>\n",
       "      <td>1</td>\n",
       "      <td>Andaman and Nicobar Islands</td>\n",
       "      <td>NICOBARS</td>\n",
       "      <td>2000</td>\n",
       "      <td>Kharif</td>\n",
       "      <td>Other Kharif pulses</td>\n",
       "      <td>2.0</td>\n",
       "      <td>1.0</td>\n",
       "    </tr>\n",
       "    <tr>\n",
       "      <td>2</td>\n",
       "      <td>Andaman and Nicobar Islands</td>\n",
       "      <td>NICOBARS</td>\n",
       "      <td>2000</td>\n",
       "      <td>Kharif</td>\n",
       "      <td>Rice</td>\n",
       "      <td>102.0</td>\n",
       "      <td>321.0</td>\n",
       "    </tr>\n",
       "    <tr>\n",
       "      <td>3</td>\n",
       "      <td>Andaman and Nicobar Islands</td>\n",
       "      <td>NICOBARS</td>\n",
       "      <td>2000</td>\n",
       "      <td>Whole Year</td>\n",
       "      <td>Banana</td>\n",
       "      <td>176.0</td>\n",
       "      <td>641.0</td>\n",
       "    </tr>\n",
       "    <tr>\n",
       "      <td>4</td>\n",
       "      <td>Andaman and Nicobar Islands</td>\n",
       "      <td>NICOBARS</td>\n",
       "      <td>2000</td>\n",
       "      <td>Whole Year</td>\n",
       "      <td>Cashewnut</td>\n",
       "      <td>720.0</td>\n",
       "      <td>165.0</td>\n",
       "    </tr>\n",
       "    <tr>\n",
       "      <td>...</td>\n",
       "      <td>...</td>\n",
       "      <td>...</td>\n",
       "      <td>...</td>\n",
       "      <td>...</td>\n",
       "      <td>...</td>\n",
       "      <td>...</td>\n",
       "      <td>...</td>\n",
       "    </tr>\n",
       "    <tr>\n",
       "      <td>246086</td>\n",
       "      <td>West Bengal</td>\n",
       "      <td>PURULIA</td>\n",
       "      <td>2014</td>\n",
       "      <td>Summer</td>\n",
       "      <td>Rice</td>\n",
       "      <td>306.0</td>\n",
       "      <td>801.0</td>\n",
       "    </tr>\n",
       "    <tr>\n",
       "      <td>246087</td>\n",
       "      <td>West Bengal</td>\n",
       "      <td>PURULIA</td>\n",
       "      <td>2014</td>\n",
       "      <td>Summer</td>\n",
       "      <td>Sesamum</td>\n",
       "      <td>627.0</td>\n",
       "      <td>463.0</td>\n",
       "    </tr>\n",
       "    <tr>\n",
       "      <td>246088</td>\n",
       "      <td>West Bengal</td>\n",
       "      <td>PURULIA</td>\n",
       "      <td>2014</td>\n",
       "      <td>Whole Year</td>\n",
       "      <td>Sugarcane</td>\n",
       "      <td>324.0</td>\n",
       "      <td>16250.0</td>\n",
       "    </tr>\n",
       "    <tr>\n",
       "      <td>246089</td>\n",
       "      <td>West Bengal</td>\n",
       "      <td>PURULIA</td>\n",
       "      <td>2014</td>\n",
       "      <td>Winter</td>\n",
       "      <td>Rice</td>\n",
       "      <td>279151.0</td>\n",
       "      <td>597899.0</td>\n",
       "    </tr>\n",
       "    <tr>\n",
       "      <td>246090</td>\n",
       "      <td>West Bengal</td>\n",
       "      <td>PURULIA</td>\n",
       "      <td>2014</td>\n",
       "      <td>Winter</td>\n",
       "      <td>Sesamum</td>\n",
       "      <td>175.0</td>\n",
       "      <td>88.0</td>\n",
       "    </tr>\n",
       "  </tbody>\n",
       "</table>\n",
       "<p>246091 rows × 7 columns</p>\n",
       "</div>"
      ],
      "text/plain": [
       "                         State_Name District_Name  Crop_Year       Season  \\\n",
       "0       Andaman and Nicobar Islands      NICOBARS       2000  Kharif        \n",
       "1       Andaman and Nicobar Islands      NICOBARS       2000  Kharif        \n",
       "2       Andaman and Nicobar Islands      NICOBARS       2000  Kharif        \n",
       "3       Andaman and Nicobar Islands      NICOBARS       2000  Whole Year    \n",
       "4       Andaman and Nicobar Islands      NICOBARS       2000  Whole Year    \n",
       "...                             ...           ...        ...          ...   \n",
       "246086                  West Bengal       PURULIA       2014  Summer        \n",
       "246087                  West Bengal       PURULIA       2014  Summer        \n",
       "246088                  West Bengal       PURULIA       2014  Whole Year    \n",
       "246089                  West Bengal       PURULIA       2014  Winter        \n",
       "246090                  West Bengal       PURULIA       2014  Winter        \n",
       "\n",
       "                       Crop      Area  Production  \n",
       "0                  Arecanut    1254.0      2000.0  \n",
       "1       Other Kharif pulses       2.0         1.0  \n",
       "2                      Rice     102.0       321.0  \n",
       "3                    Banana     176.0       641.0  \n",
       "4                 Cashewnut     720.0       165.0  \n",
       "...                     ...       ...         ...  \n",
       "246086                 Rice     306.0       801.0  \n",
       "246087              Sesamum     627.0       463.0  \n",
       "246088            Sugarcane     324.0     16250.0  \n",
       "246089                 Rice  279151.0    597899.0  \n",
       "246090              Sesamum     175.0        88.0  \n",
       "\n",
       "[246091 rows x 7 columns]"
      ]
     },
     "execution_count": 3,
     "metadata": {},
     "output_type": "execute_result"
    }
   ],
   "source": [
    "data_crops = pd.read_csv(\"apy.csv\")\n",
    "data_crops"
   ]
  },
  {
   "cell_type": "code",
   "execution_count": 4,
   "metadata": {},
   "outputs": [
    {
     "name": "stdout",
     "output_type": "stream",
     "text": [
      "33\n",
      "646\n",
      "6\n",
      "124\n"
     ]
    }
   ],
   "source": [
    "print(len(data_crops['State_Name'].unique()))  \n",
    "print(len(data_crops['District_Name'].unique()))\n",
    "print(len(data_crops['Season'].unique()))\n",
    "print(len(data_crops['Crop'].unique()))"
   ]
  },
  {
   "cell_type": "code",
   "execution_count": 5,
   "metadata": {},
   "outputs": [
    {
     "data": {
      "text/plain": [
       "'While converting the non-numericdata (categorical) to numeric data.....we ought to compare one-hot encoding \\nand binary encoding\\nFields considered are\\n1.states\\n2.districts\\n3.crop\\n4.seasons\\n'"
      ]
     },
     "execution_count": 5,
     "metadata": {},
     "output_type": "execute_result"
    }
   ],
   "source": [
    "'''While converting the non-numericdata (categorical) to numeric data.....we ought to compare one-hot encoding \n",
    "and binary encoding\n",
    "Fields considered are\n",
    "1.states\n",
    "2.districts\n",
    "3.crop\n",
    "4.seasons\n",
    "'''"
   ]
  },
  {
   "cell_type": "code",
   "execution_count": 6,
   "metadata": {},
   "outputs": [
    {
     "data": {
      "text/plain": [
       "(246091, 812)"
      ]
     },
     "execution_count": 6,
     "metadata": {},
     "output_type": "execute_result"
    }
   ],
   "source": [
    "#ONE HOT ENCODING\n",
    "\n",
    "ohe = ce.OneHotEncoder()\n",
    "d_1 = ohe.fit_transform(data_crops)\n",
    "d_1.shape"
   ]
  },
  {
   "cell_type": "code",
   "execution_count": 7,
   "metadata": {},
   "outputs": [
    {
     "data": {
      "text/plain": [
       "(246091, 33)"
      ]
     },
     "execution_count": 7,
     "metadata": {},
     "output_type": "execute_result"
    }
   ],
   "source": [
    "#BINARY ENCODING\n",
    "\n",
    "be = ce.BinaryEncoder()\n",
    "data = be.fit_transform(data_crops)   #if none columns are specified the method considers all the string attributes by default\n",
    "data.shape"
   ]
  },
  {
   "cell_type": "code",
   "execution_count": 8,
   "metadata": {},
   "outputs": [
    {
     "name": "stdout",
     "output_type": "stream",
     "text": [
      "<class 'pandas.core.frame.DataFrame'>\n",
      "<class 'pandas.core.frame.DataFrame'>\n"
     ]
    }
   ],
   "source": [
    "'''reducing the column count from 812 to 33 by using the binary encoding'''\n",
    "\n",
    "\n",
    "#converting the dataframe to arrays\n",
    "Y = data.iloc[:,32]\n",
    "X = data.drop('Production',axis = 'columns')\n",
    "Y = Y.to_frame()\n",
    "print(type(X))\n",
    "print(type(Y))\n"
   ]
  },
  {
   "cell_type": "code",
   "execution_count": 9,
   "metadata": {},
   "outputs": [
    {
     "name": "stdout",
     "output_type": "stream",
     "text": [
      "Production    3730\n",
      "dtype: int64\n",
      "State_Name_0        0\n",
      "State_Name_1        0\n",
      "State_Name_2        0\n",
      "State_Name_3        0\n",
      "State_Name_4        0\n",
      "State_Name_5        0\n",
      "State_Name_6        0\n",
      "District_Name_0     0\n",
      "District_Name_1     0\n",
      "District_Name_2     0\n",
      "District_Name_3     0\n",
      "District_Name_4     0\n",
      "District_Name_5     0\n",
      "District_Name_6     0\n",
      "District_Name_7     0\n",
      "District_Name_8     0\n",
      "District_Name_9     0\n",
      "District_Name_10    0\n",
      "Crop_Year           0\n",
      "Season_0            0\n",
      "Season_1            0\n",
      "Season_2            0\n",
      "Season_3            0\n",
      "Crop_0              0\n",
      "Crop_1              0\n",
      "Crop_2              0\n",
      "Crop_3              0\n",
      "Crop_4              0\n",
      "Crop_5              0\n",
      "Crop_6              0\n",
      "Crop_7              0\n",
      "Area                0\n",
      "dtype: int64\n"
     ]
    }
   ],
   "source": [
    "#finding the missing values\n",
    "import missingno as msno  #visualizing the missing values as a matrix\n",
    "\n",
    "msno.matrix(X)\n",
    "msno.matrix(Y)\n",
    "\n",
    "print(Y.isnull().sum())\n",
    "print(X.isnull().sum())\n"
   ]
  },
  {
   "cell_type": "code",
   "execution_count": 10,
   "metadata": {},
   "outputs": [
    {
     "name": "stdout",
     "output_type": "stream",
     "text": [
      "<class 'pandas.core.frame.DataFrame'>\n",
      "        Production\n",
      "0           2000.0\n",
      "1              1.0\n",
      "2            321.0\n",
      "3            641.0\n",
      "4            165.0\n",
      "...            ...\n",
      "246086       801.0\n",
      "246087       463.0\n",
      "246088     16250.0\n",
      "246089    597899.0\n",
      "246090        88.0\n",
      "\n",
      "[246091 rows x 1 columns]\n"
     ]
    }
   ],
   "source": [
    "'''we have missing values in production(the white lines in the graph)'''\n",
    "\n",
    "# Replacing the missing values in production with mean of the observations\n",
    "\n",
    "Y.Production.fillna(Y.Production.mean(),inplace=True)\n",
    "Y_rep = Y.copy()\n",
    "print(type(Y_rep))\n",
    "print(Y_rep)"
   ]
  },
  {
   "cell_type": "code",
   "execution_count": 11,
   "metadata": {},
   "outputs": [
    {
     "name": "stdout",
     "output_type": "stream",
     "text": [
      "        Production\n",
      "0           2000.0\n",
      "1              1.0\n",
      "2            321.0\n",
      "3            641.0\n",
      "4            165.0\n",
      "...            ...\n",
      "246086       801.0\n",
      "246087       463.0\n",
      "246088     16250.0\n",
      "246089    597899.0\n",
      "246090        88.0\n",
      "\n",
      "[246091 rows x 1 columns]\n",
      "0        -1.139506\n",
      "1        -1.139506\n",
      "2        -1.139506\n",
      "3        -1.139506\n",
      "4        -1.139506\n",
      "            ...   \n",
      "246086    1.687541\n",
      "246087    1.687541\n",
      "246088    1.687541\n",
      "246089    1.687541\n",
      "246090    1.687541\n",
      "Name: Crop_Year, Length: 246091, dtype: float64\n",
      "0        -0.212749\n",
      "1        -0.237530\n",
      "2        -0.235551\n",
      "3        -0.234086\n",
      "4        -0.223319\n",
      "            ...   \n",
      "246086   -0.231513\n",
      "246087   -0.225159\n",
      "246088   -0.231157\n",
      "246089    5.287612\n",
      "246090   -0.234106\n",
      "Name: Area, Length: 246091, dtype: float64\n"
     ]
    }
   ],
   "source": [
    "'''In order to improve the accuracy of the model we will normalize the data attributes Crop_Year and Production \n",
    "as they have different range of values\n",
    "'''\n",
    "# NORMALIZATION (Z-Score)\n",
    "print(Y_rep)\n",
    "X.Crop_Year = (X.Crop_Year - X.Crop_Year.mean())/ X.Crop_Year.std()\n",
    "print(X.Crop_Year)\n",
    "\n",
    "X.Area = (X.Area - X.Area.mean())/ X.Area.std()\n",
    "print(X.Area)\n",
    "\n",
    "#Y.Production = (Y.Production - Y.Production.mean())/Y.Production.std()\n",
    "#print(Y.Production)\n",
    "#print(Y_rep)"
   ]
  },
  {
   "cell_type": "code",
   "execution_count": 12,
   "metadata": {},
   "outputs": [
    {
     "name": "stdout",
     "output_type": "stream",
     "text": [
      "<class 'pandas.core.frame.DataFrame'>\n",
      "        Production\n",
      "159870   -0.034607\n",
      "16917    -0.034631\n",
      "37429    -0.034629\n",
      "130347   -0.034601\n",
      "51448    -0.018586\n",
      "...            ...\n",
      "176963   -0.034490\n",
      "117952   -0.034634\n",
      "173685   -0.034630\n",
      "43567    -0.034634\n",
      "199340   -0.034581\n",
      "\n",
      "[196872 rows x 1 columns]\n",
      "        Production\n",
      "222211   -0.033872\n",
      "148500   -0.031375\n",
      "40239    -0.033868\n",
      "117      -0.033853\n",
      "64394    -0.028465\n",
      "...            ...\n",
      "48410    -0.033872\n",
      "234245   -0.033865\n",
      "179097   -0.033280\n",
      "169648   -0.033871\n",
      "233866   -0.033859\n",
      "\n",
      "[49219 rows x 1 columns]\n",
      "[-0.03460679 -0.03463094 -0.03462929 ... -0.03462996 -0.03463399\n",
      " -0.03458053]\n",
      "        Production\n",
      "222211        51.0\n",
      "148500     47581.5\n",
      "40239        120.0\n",
      "117          402.0\n",
      "64394     103000.0\n",
      "...            ...\n",
      "48410         48.0\n",
      "234245       181.0\n",
      "179097     11325.0\n",
      "169648        58.0\n",
      "233866       297.0\n",
      "\n",
      "[49219 rows x 1 columns]\n"
     ]
    }
   ],
   "source": [
    "#spliting the data into X and Y\n",
    "\n",
    "X_train,X_test,Y_train,Y_test = train_test_split(X, Y, train_size = 0.8, test_size = 0.2,random_state = 0)\n",
    "print(type(Y))\n",
    "\n",
    "Y_train_rep = Y_train.copy()\n",
    "Y_test_rep = Y_test.copy()\n",
    "Y_train = (Y_train - Y_train.mean())/Y_train.std()\n",
    "print(Y_train)\n",
    "Y_test = (Y_test - Y_test.mean())/Y_test.std()\n",
    "print(Y_test)\n",
    "\n",
    "#Y_train has to be a shape of [n] smaples as a parameter into the regressor method.\n",
    "\n",
    "Y_train = Y_train.values.ravel()\n",
    "print(Y_train)\n",
    "print(Y_test_rep)\n",
    "    \n",
    "\n"
   ]
  },
  {
   "cell_type": "code",
   "execution_count": 13,
   "metadata": {},
   "outputs": [
    {
     "name": "stdout",
     "output_type": "stream",
     "text": [
      "Model is trained\n",
      "        State_Name_0  State_Name_1  State_Name_2  State_Name_3  State_Name_4  \\\n",
      "159870             0             0             1             0             1   \n",
      "16917              0             0             0             0             1   \n",
      "37429              0             0             0             0             1   \n",
      "130347             0             0             1             0             0   \n",
      "51448              0             0             0             0             1   \n",
      "...              ...           ...           ...           ...           ...   \n",
      "176963             0             0             1             1             0   \n",
      "117952             0             0             1             0             0   \n",
      "173685             0             0             1             1             0   \n",
      "43567              0             0             0             0             1   \n",
      "199340             0             0             1             1             1   \n",
      "\n",
      "        State_Name_5  State_Name_6  District_Name_0  District_Name_1  \\\n",
      "159870             1             1                0                0   \n",
      "16917              0             0                0                0   \n",
      "37429              0             1                0                0   \n",
      "130347             1             0                0                0   \n",
      "51448              1             1                0                0   \n",
      "...              ...           ...              ...              ...   \n",
      "176963             1             1                0                0   \n",
      "117952             0             1                0                0   \n",
      "173685             1             0                0                0   \n",
      "43567              0             1                0                0   \n",
      "199340             1             1                0                1   \n",
      "\n",
      "        District_Name_2  ...  Season_3  Crop_0  Crop_1  Crop_2  Crop_3  \\\n",
      "159870                1  ...         0       0       0       0       1   \n",
      "16917                 0  ...         0       0       0       0       0   \n",
      "37429                 0  ...         0       0       0       1       0   \n",
      "130347                1  ...         1       0       0       0       1   \n",
      "51448                 0  ...         1       0       0       0       0   \n",
      "...                 ...  ...       ...     ...     ...     ...     ...   \n",
      "176963                1  ...         0       0       0       0       1   \n",
      "117952                1  ...         0       0       0       1       1   \n",
      "173685                1  ...         0       0       0       1       0   \n",
      "43567                 0  ...         1       0       0       1       0   \n",
      "199340                0  ...         0       0       0       1       0   \n",
      "\n",
      "        Crop_4  Crop_5  Crop_6  Crop_7      Area  \n",
      "159870       0       0       0       0 -0.208316  \n",
      "16917        1       1       1       0 -0.235590  \n",
      "37429        1       0       0       1 -0.235095  \n",
      "130347       0       1       0       1 -0.227337  \n",
      "51448        0       0       1       1  3.026937  \n",
      "...        ...     ...     ...     ...       ...  \n",
      "176963       1       1       1       0 -0.183733  \n",
      "117952       1       0       0       0 -0.232978  \n",
      "173685       0       1       1       1 -0.223358  \n",
      "43567        0       1       1       0 -0.237391  \n",
      "199340       0       0       0       1 -0.188820  \n",
      "\n",
      "[196872 rows x 32 columns]\n",
      "[-0.03460679 -0.03463094 -0.03462929 ... -0.03462996 -0.03463399\n",
      " -0.03458053]\n"
     ]
    }
   ],
   "source": [
    "# Defining the Random Regressor\n",
    "# random satate \n",
    "# Here 100 trees are considered in the random forest regressor \n",
    "regressor = RandomForestRegressor(n_estimators = 100,random_state = 0)\n",
    "regressor.fit(X_train, Y_train)\n",
    "print(\"Model is trained\")\n",
    "print(X_train)\n",
    "print(Y_train)\n",
    "    \n"
   ]
  },
  {
   "cell_type": "code",
   "execution_count": 14,
   "metadata": {},
   "outputs": [
    {
     "name": "stdout",
     "output_type": "stream",
     "text": [
      "Predicting the crop yield\n",
      "<class 'numpy.ndarray'>\n",
      "<class 'pandas.core.frame.DataFrame'>\n",
      "[-0.03460778 -0.03161077 -0.03461893 ... -0.03429919 -0.03282592\n",
      " -0.03459492]\n",
      "        Production\n",
      "222211   -0.033872\n",
      "148500   -0.031375\n",
      "40239    -0.033868\n",
      "117      -0.033853\n",
      "64394    -0.028465\n",
      "...            ...\n",
      "48410    -0.033872\n",
      "234245   -0.033865\n",
      "179097   -0.033280\n",
      "169648   -0.033871\n",
      "233866   -0.033859\n",
      "\n",
      "[49219 rows x 1 columns]\n"
     ]
    }
   ],
   "source": [
    "#testing\n",
    "actual_prediction = regressor.predict(X_test)\n",
    "print(\"Predicting the crop yield\")    \n",
    "print(type(actual_prediction))\n",
    "print(type(Y_test))\n",
    "print(actual_prediction)\n",
    "print(Y_test)\n",
    "    \n",
    "    \n"
   ]
  },
  {
   "cell_type": "code",
   "execution_count": 15,
   "metadata": {},
   "outputs": [
    {
     "name": "stdout",
     "output_type": "stream",
     "text": [
      "         Actual  Prediction\n",
      "0     -0.033872   -0.034608\n",
      "1     -0.031375   -0.031611\n",
      "2     -0.033868   -0.034619\n",
      "3     -0.033853   -0.034553\n",
      "4     -0.028465   -0.030188\n",
      "...         ...         ...\n",
      "49214 -0.033872   -0.032771\n",
      "49215 -0.033865   -0.034603\n",
      "49216 -0.033280   -0.034299\n",
      "49217 -0.033871   -0.032826\n",
      "49218 -0.033859   -0.034595\n",
      "\n",
      "[49219 rows x 2 columns]\n"
     ]
    },
    {
     "data": {
      "image/png": "[encoded data removed]",
      "text/plain": [
       "<Figure size 1152x720 with 1 Axes>"
      ]
     },
     "metadata": {
      "needs_background": "light"
     },
     "output_type": "display_data"
    }
   ],
   "source": [
    "#visualizing the estimated and actual values\n",
    "\n",
    "Y_test_data = Y_test.to_numpy()\n",
    "\n",
    "graph_data = pd.DataFrame({'Actual':Y_test_data.flatten(),'Prediction':actual_prediction.flatten()})\n",
    "print(graph_data)\n",
    "\n",
    "import matplotlib.pyplot as plt\n",
    "\n",
    "graph_data_1 = graph_data.head(30)  #considering first 30 values for graphic visualization\n",
    "graph_data_1.plot(kind = 'bar',figsize =(16,10))\n",
    "plt.grid(which='major', linestyle='-', linewidth='0.5', color='red')\n",
    "plt.grid(which='minor', linestyle=':', linewidth='0.5', color='black')\n",
    "plt.show()"
   ]
  },
  {
   "cell_type": "code",
   "execution_count": 16,
   "metadata": {},
   "outputs": [
    {
     "name": "stdout",
     "output_type": "stream",
     "text": [
      "THE ROOT MEAN SQUARE ERROR IS :  0.17682252810032054\n"
     ]
    }
   ],
   "source": [
    "#finding the accuracy using RMSE - Root Mean Squared Error\n",
    "\n",
    "from math import sqrt\n",
    "temp = mean_squared_error(Y_test_data,actual_prediction)\n",
    "ERROR = sqrt(temp)\n",
    "print(\"THE ROOT MEAN SQUARE ERROR IS : \",ERROR)"
   ]
  },
  {
   "cell_type": "code",
   "execution_count": 23,
   "metadata": {},
   "outputs": [
    {
     "name": "stdout",
     "output_type": "stream",
     "text": [
      "0       -13965.124175\n",
      "1        43100.836942\n",
      "2       -14177.470183\n",
      "3       -12929.108831\n",
      "4        70188.801054\n",
      "             ...     \n",
      "49214    21008.295837\n",
      "49215   -13868.733547\n",
      "49216    -8089.306582\n",
      "49217    19963.216535\n",
      "49218   -13720.392947\n",
      "Name: Prediction, Length: 49219, dtype: float64\n",
      "0            51.0\n",
      "1         47581.5\n",
      "2           120.0\n",
      "3           402.0\n",
      "4        103000.0\n",
      "           ...   \n",
      "49214        48.0\n",
      "49215       181.0\n",
      "49216     11325.0\n",
      "49217        58.0\n",
      "49218       297.0\n",
      "Name: Actual, Length: 49219, dtype: float64\n",
      "        Production\n",
      "222211        51.0\n",
      "148500     47581.5\n",
      "40239        120.0\n",
      "117          402.0\n",
      "64394     103000.0\n",
      "...            ...\n",
      "48410         48.0\n",
      "234245       181.0\n",
      "179097     11325.0\n",
      "169648        58.0\n",
      "233866       297.0\n",
      "\n",
      "[49219 rows x 1 columns]\n"
     ]
    }
   ],
   "source": [
    "Predicted_Production = (graph_data.Prediction * Y_test_rep.Production.std())+ Y_test_rep.Production.mean()\n",
    "print(Predicted_Production)\n",
    "Actual_Production = (graph_data.Actual * Y_test_rep.Production.std()) + Y_test_rep.Production.mean()\n",
    "print(Actual_Production)\n",
    "print(Y_test_rep)"
   ]
  },
  {
   "cell_type": "code",
   "execution_count": 24,
   "metadata": {},
   "outputs": [
    {
     "name": "stdout",
     "output_type": "stream",
     "text": [
      "Production    645000.430723\n",
      "dtype: float64\n",
      "Production    1.904097e+07\n",
      "dtype: float64\n"
     ]
    }
   ],
   "source": [
    "print(Y_test_rep.mean())\n",
    "print(Y_test_rep.std())\n"
   ]
  },
  {
   "cell_type": "code",
   "execution_count": null,
   "metadata": {},
   "outputs": [],
   "source": []
  },
  {
   "cell_type": "code",
   "execution_count": null,
   "metadata": {},
   "outputs": [],
   "source": []
  }
 ],
 "metadata": {
  "kernelspec": {
   "display_name": "Python 3",
   "language": "python",
   "name": "python3"
  },
  "language_info": {
   "codemirror_mode": {
    "name": "ipython",
    "version": 3
   },
   "file_extension": ".py",
   "mimetype": "text/x-python",
   "name": "python",
   "nbconvert_exporter": "python",
   "pygments_lexer": "ipython3",
   "version": "3.7.4"
  }
 },
 "nbformat": 4,
 "nbformat_minor": 2
}
